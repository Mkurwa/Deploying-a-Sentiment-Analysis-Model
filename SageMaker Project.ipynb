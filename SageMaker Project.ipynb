{
 "cells": [
  {
   "cell_type": "markdown",
   "metadata": {},
   "source": [
    "# Creating a Sentiment Analysis Web App\n",
    "## Using PyTorch and SageMaker\n",
    "\n",
    "_Deep Learning Nanodegree Program | Deployment_\n",
    "\n",
    "---\n",
    "\n",
    "Now that we have a basic understanding of how SageMaker works we will try to use it to construct a complete project from end to end. Our goal will be to have a simple web page which a user can use to enter a movie review. The web page will then send the review off to our deployed model which will predict the sentiment of the entered review.\n",
    "\n",
    "## Instructions\n",
    "\n",
    "Some template code has already been provided for you, and you will need to implement additional functionality to successfully complete this notebook. You will not need to modify the included code beyond what is requested. Sections that begin with '**TODO**' in the header indicate that you need to complete or implement some portion within them. Instructions will be provided for each section and the specifics of the implementation are marked in the code block with a `# TODO: ...` comment. Please be sure to read the instructions carefully!\n",
    "\n",
    "In addition to implementing code, there will be questions for you to answer which relate to the task and your implementation. Each section where you will answer a question is preceded by a '**Question:**' header. Carefully read each question and provide your answer below the '**Answer:**' header by editing the Markdown cell.\n",
    "\n",
    "> **Note**: Code and Markdown cells can be executed using the **Shift+Enter** keyboard shortcut. In addition, a cell can be edited by typically clicking it (double-click for Markdown cells) or by pressing **Enter** while it is highlighted.\n",
    "\n",
    "## General Outline\n",
    "\n",
    "Recall the general outline for SageMaker projects using a notebook instance.\n",
    "\n",
    "1. Download or otherwise retrieve the data.\n",
    "2. Process / Prepare the data.\n",
    "3. Upload the processed data to S3.\n",
    "4. Train a chosen model.\n",
    "5. Test the trained model (typically using a batch transform job).\n",
    "6. Deploy the trained model.\n",
    "7. Use the deployed model.\n",
    "\n",
    "For this project, you will be following the steps in the general outline with some modifications. \n",
    "\n",
    "First, you will not be testing the model in its own step. You will still be testing the model, however, you will do it by deploying your model and then using the deployed model by sending the test data to it. One of the reasons for doing this is so that you can make sure that your deployed model is working correctly before moving forward.\n",
    "\n",
    "In addition, you will deploy and use your trained model a second time. In the second iteration you will customize the way that your trained model is deployed by including some of your own code. In addition, your newly deployed model will be used in the sentiment analysis web app."
   ]
  },
  {
   "cell_type": "markdown",
   "metadata": {},
   "source": [
    "## Step 1: Downloading the data\n",
    "\n",
    "As in the XGBoost in SageMaker notebook, we will be using the [IMDb dataset](http://ai.stanford.edu/~amaas/data/sentiment/)\n",
    "\n",
    "> Maas, Andrew L., et al. [Learning Word Vectors for Sentiment Analysis](http://ai.stanford.edu/~amaas/data/sentiment/). In _Proceedings of the 49th Annual Meeting of the Association for Computational Linguistics: Human Language Technologies_. Association for Computational Linguistics, 2011."
   ]
  },
  {
   "cell_type": "code",
   "execution_count": 1,
   "metadata": {},
   "outputs": [
    {
     "name": "stdout",
     "output_type": "stream",
     "text": [
      "mkdir: cannot create directory ‘../data’: File exists\n",
      "--2019-06-23 05:19:36--  http://ai.stanford.edu/~amaas/data/sentiment/aclImdb_v1.tar.gz\n",
      "Resolving ai.stanford.edu (ai.stanford.edu)... 171.64.68.10\n",
      "Connecting to ai.stanford.edu (ai.stanford.edu)|171.64.68.10|:80... connected.\n",
      "HTTP request sent, awaiting response... 200 OK\n",
      "Length: 84125825 (80M) [application/x-gzip]\n",
      "Saving to: ‘../data/aclImdb_v1.tar.gz’\n",
      "\n",
      "../data/aclImdb_v1. 100%[===================>]  80.23M  49.4MB/s    in 1.6s    \n",
      "\n",
      "2019-06-23 05:19:37 (49.4 MB/s) - ‘../data/aclImdb_v1.tar.gz’ saved [84125825/84125825]\n",
      "\n"
     ]
    }
   ],
   "source": [
    "%mkdir ../data\n",
    "!wget -O ../data/aclImdb_v1.tar.gz http://ai.stanford.edu/~amaas/data/sentiment/aclImdb_v1.tar.gz\n",
    "!tar -zxf ../data/aclImdb_v1.tar.gz -C ../data"
   ]
  },
  {
   "cell_type": "markdown",
   "metadata": {},
   "source": [
    "## Step 2: Preparing and Processing the data\n",
    "\n",
    "Also, as in the XGBoost notebook, we will be doing some initial data processing. The first few steps are the same as in the XGBoost example. To begin with, we will read in each of the reviews and combine them into a single input structure. Then, we will split the dataset into a training set and a testing set."
   ]
  },
  {
   "cell_type": "code",
   "execution_count": 2,
   "metadata": {},
   "outputs": [],
   "source": [
    "import os\n",
    "import glob\n",
    "\n",
    "def read_imdb_data(data_dir='../data/aclImdb'):\n",
    "    data = {}\n",
    "    labels = {}\n",
    "    \n",
    "    for data_type in ['train', 'test']:\n",
    "        data[data_type] = {}\n",
    "        labels[data_type] = {}\n",
    "        \n",
    "        for sentiment in ['pos', 'neg']:\n",
    "            data[data_type][sentiment] = []\n",
    "            labels[data_type][sentiment] = []\n",
    "            \n",
    "            path = os.path.join(data_dir, data_type, sentiment, '*.txt')\n",
    "            files = glob.glob(path)\n",
    "            \n",
    "            for f in files:\n",
    "                with open(f) as review:\n",
    "                    data[data_type][sentiment].append(review.read())\n",
    "                    # Here we represent a positive review by '1' and a negative review by '0'\n",
    "                    labels[data_type][sentiment].append(1 if sentiment == 'pos' else 0)\n",
    "                    \n",
    "            assert len(data[data_type][sentiment]) == len(labels[data_type][sentiment]), \\\n",
    "                    \"{}/{} data size does not match labels size\".format(data_type, sentiment)\n",
    "                \n",
    "    return data, labels"
   ]
  },
  {
   "cell_type": "code",
   "execution_count": 3,
   "metadata": {},
   "outputs": [
    {
     "name": "stdout",
     "output_type": "stream",
     "text": [
      "IMDB reviews: train = 12500 pos / 12500 neg, test = 12500 pos / 12500 neg\n"
     ]
    }
   ],
   "source": [
    "data, labels = read_imdb_data()\n",
    "print(\"IMDB reviews: train = {} pos / {} neg, test = {} pos / {} neg\".format(\n",
    "            len(data['train']['pos']), len(data['train']['neg']),\n",
    "            len(data['test']['pos']), len(data['test']['neg'])))"
   ]
  },
  {
   "cell_type": "markdown",
   "metadata": {},
   "source": [
    "Now that we've read the raw training and testing data from the downloaded dataset, we will combine the positive and negative reviews and shuffle the resulting records."
   ]
  },
  {
   "cell_type": "code",
   "execution_count": 4,
   "metadata": {},
   "outputs": [],
   "source": [
    "from sklearn.utils import shuffle\n",
    "\n",
    "def prepare_imdb_data(data, labels):\n",
    "    \"\"\"Prepare training and test sets from IMDb movie reviews.\"\"\"\n",
    "    \n",
    "    #Combine positive and negative reviews and labels\n",
    "    data_train = data['train']['pos'] + data['train']['neg']\n",
    "    data_test = data['test']['pos'] + data['test']['neg']\n",
    "    labels_train = labels['train']['pos'] + labels['train']['neg']\n",
    "    labels_test = labels['test']['pos'] + labels['test']['neg']\n",
    "    \n",
    "    #Shuffle reviews and corresponding labels within training and test sets\n",
    "    data_train, labels_train = shuffle(data_train, labels_train)\n",
    "    data_test, labels_test = shuffle(data_test, labels_test)\n",
    "    \n",
    "    # Return a unified training data, test data, training labels, test labets\n",
    "    return data_train, data_test, labels_train, labels_test"
   ]
  },
  {
   "cell_type": "code",
   "execution_count": 5,
   "metadata": {},
   "outputs": [
    {
     "name": "stdout",
     "output_type": "stream",
     "text": [
      "IMDb reviews (combined): train = 25000, test = 25000\n"
     ]
    }
   ],
   "source": [
    "train_X, test_X, train_y, test_y = prepare_imdb_data(data, labels)\n",
    "print(\"IMDb reviews (combined): train = {}, test = {}\".format(len(train_X), len(test_X)))"
   ]
  },
  {
   "cell_type": "markdown",
   "metadata": {},
   "source": [
    "Now that we have our training and testing sets unified and prepared, we should do a quick check and see an example of the data our model will be trained on. This is generally a good idea as it allows you to see how each of the further processing steps affects the reviews and it also ensures that the data has been loaded correctly."
   ]
  },
  {
   "cell_type": "code",
   "execution_count": 6,
   "metadata": {},
   "outputs": [
    {
     "name": "stdout",
     "output_type": "stream",
     "text": [
      "Isabel Allende's magical, lyrical novel about three generations of an aristocratic South American family was vandalized. The lumbering oaf of a movie that resulted--largely due to a magnificent cast of Anglo actors completely unable to carry off the evasive Latin mellifluousness of Allende's characters, and a plodding Scandinavian directorial hand--was so uncomfortable in its own skin that I returned to the theater a second time to make certain I had not missed something vital that might change my opinion. To my disappointment, I had not missed a thing. None among Meryl Streep, Jeremy Irons, Glenn Close and Vanessa Redgrave could wiggle free of the trap set for them by director Bille August. All of them looked perfectly stiff and resigned, as if, by putting forth as little effort as possible, they expected to fade unnoticed into lovely period sets. (Yes, the film was art directed within an inch of its life.) Curious that the production designer was permitted the gaffe of placing KFC products prominently in a scene that occurs circa 1970--years before KFC came into being. Back then, it was known by its original name: Kentucky Fried Chicken. Even pardoning that, what on earth is Kentucky Fried Chicken doing in a military dictatorship in South America in 1970? American fast food chains did not hit South America until the early 1980s. \"The House of the Spirits\" should have been the motion picture event of 1993. Because it was so club-footed and slavishly faithful to its vague idea of what the novel represented, Miramax had to market it as an art film. As a result, it was neither event nor art. And for that, Isabel Allende should have pressed charges for rape.\n",
      "0\n"
     ]
    }
   ],
   "source": [
    "print(train_X[100])\n",
    "print(train_y[100])"
   ]
  },
  {
   "cell_type": "markdown",
   "metadata": {},
   "source": [
    "The first step in processing the reviews is to make sure that any html tags that appear should be removed. In addition we wish to tokenize our input, that way words such as *entertained* and *entertaining* are considered the same with regard to sentiment analysis."
   ]
  },
  {
   "cell_type": "code",
   "execution_count": 7,
   "metadata": {},
   "outputs": [],
   "source": [
    "import nltk\n",
    "from nltk.corpus import stopwords\n",
    "from nltk.stem.porter import *\n",
    "\n",
    "import re\n",
    "from bs4 import BeautifulSoup\n",
    "\n",
    "def review_to_words(review):\n",
    "    nltk.download(\"stopwords\", quiet=True)\n",
    "    stemmer = PorterStemmer()\n",
    "    \n",
    "    text = BeautifulSoup(review, \"html.parser\").get_text() # Remove HTML tags\n",
    "    text = re.sub(r\"[^a-zA-Z0-9]\", \" \", text.lower()) # Convert to lower case\n",
    "    words = text.split() # Split string into words\n",
    "    words = [w for w in words if w not in stopwords.words(\"english\")] # Remove stopwords\n",
    "    words = [PorterStemmer().stem(w) for w in words] # stem\n",
    "    \n",
    "    return words"
   ]
  },
  {
   "cell_type": "markdown",
   "metadata": {},
   "source": [
    "The `review_to_words` method defined above uses `BeautifulSoup` to remove any html tags that appear and uses the `nltk` package to tokenize the reviews. As a check to ensure we know how everything is working, try applying `review_to_words` to one of the reviews in the training set."
   ]
  },
  {
   "cell_type": "code",
   "execution_count": 8,
   "metadata": {},
   "outputs": [
    {
     "data": {
      "text/plain": [
       "['isabel',\n",
       " 'allend',\n",
       " 'magic',\n",
       " 'lyric',\n",
       " 'novel',\n",
       " 'three',\n",
       " 'gener',\n",
       " 'aristocrat',\n",
       " 'south',\n",
       " 'american',\n",
       " 'famili',\n",
       " 'vandal',\n",
       " 'lumber',\n",
       " 'oaf',\n",
       " 'movi',\n",
       " 'result',\n",
       " 'larg',\n",
       " 'due',\n",
       " 'magnific',\n",
       " 'cast',\n",
       " 'anglo',\n",
       " 'actor',\n",
       " 'complet',\n",
       " 'unabl',\n",
       " 'carri',\n",
       " 'evas',\n",
       " 'latin',\n",
       " 'melliflu',\n",
       " 'allend',\n",
       " 'charact',\n",
       " 'plod',\n",
       " 'scandinavian',\n",
       " 'directori',\n",
       " 'hand',\n",
       " 'uncomfort',\n",
       " 'skin',\n",
       " 'return',\n",
       " 'theater',\n",
       " 'second',\n",
       " 'time',\n",
       " 'make',\n",
       " 'certain',\n",
       " 'miss',\n",
       " 'someth',\n",
       " 'vital',\n",
       " 'might',\n",
       " 'chang',\n",
       " 'opinion',\n",
       " 'disappoint',\n",
       " 'miss',\n",
       " 'thing',\n",
       " 'none',\n",
       " 'among',\n",
       " 'meryl',\n",
       " 'streep',\n",
       " 'jeremi',\n",
       " 'iron',\n",
       " 'glenn',\n",
       " 'close',\n",
       " 'vanessa',\n",
       " 'redgrav',\n",
       " 'could',\n",
       " 'wiggl',\n",
       " 'free',\n",
       " 'trap',\n",
       " 'set',\n",
       " 'director',\n",
       " 'bill',\n",
       " 'august',\n",
       " 'look',\n",
       " 'perfectli',\n",
       " 'stiff',\n",
       " 'resign',\n",
       " 'put',\n",
       " 'forth',\n",
       " 'littl',\n",
       " 'effort',\n",
       " 'possibl',\n",
       " 'expect',\n",
       " 'fade',\n",
       " 'unnot',\n",
       " 'love',\n",
       " 'period',\n",
       " 'set',\n",
       " 'ye',\n",
       " 'film',\n",
       " 'art',\n",
       " 'direct',\n",
       " 'within',\n",
       " 'inch',\n",
       " 'life',\n",
       " 'curiou',\n",
       " 'product',\n",
       " 'design',\n",
       " 'permit',\n",
       " 'gaff',\n",
       " 'place',\n",
       " 'kfc',\n",
       " 'product',\n",
       " 'promin',\n",
       " 'scene',\n",
       " 'occur',\n",
       " 'circa',\n",
       " '1970',\n",
       " 'year',\n",
       " 'kfc',\n",
       " 'came',\n",
       " 'back',\n",
       " 'known',\n",
       " 'origin',\n",
       " 'name',\n",
       " 'kentucki',\n",
       " 'fri',\n",
       " 'chicken',\n",
       " 'even',\n",
       " 'pardon',\n",
       " 'earth',\n",
       " 'kentucki',\n",
       " 'fri',\n",
       " 'chicken',\n",
       " 'militari',\n",
       " 'dictatorship',\n",
       " 'south',\n",
       " 'america',\n",
       " '1970',\n",
       " 'american',\n",
       " 'fast',\n",
       " 'food',\n",
       " 'chain',\n",
       " 'hit',\n",
       " 'south',\n",
       " 'america',\n",
       " 'earli',\n",
       " '1980',\n",
       " 'hous',\n",
       " 'spirit',\n",
       " 'motion',\n",
       " 'pictur',\n",
       " 'event',\n",
       " '1993',\n",
       " 'club',\n",
       " 'foot',\n",
       " 'slavishli',\n",
       " 'faith',\n",
       " 'vagu',\n",
       " 'idea',\n",
       " 'novel',\n",
       " 'repres',\n",
       " 'miramax',\n",
       " 'market',\n",
       " 'art',\n",
       " 'film',\n",
       " 'result',\n",
       " 'neither',\n",
       " 'event',\n",
       " 'art',\n",
       " 'isabel',\n",
       " 'allend',\n",
       " 'press',\n",
       " 'charg',\n",
       " 'rape']"
      ]
     },
     "execution_count": 8,
     "metadata": {},
     "output_type": "execute_result"
    }
   ],
   "source": [
    "# TODO: Apply review_to_words to a review (train_X[100] or any other review)\n",
    "review_to_words(train_X[100])"
   ]
  },
  {
   "cell_type": "markdown",
   "metadata": {},
   "source": [
    "**Question:** Above we mentioned that `review_to_words` method removes html formatting and allows us to tokenize the words found in a review, for example, converting *entertained* and *entertaining* into *entertain* so that they are treated as though they are the same word. What else, if anything, does this method do to the input?"
   ]
  },
  {
   "cell_type": "markdown",
   "metadata": {},
   "source": [
    "**Answer:** Asside from stemming, this function also does:\n",
    "\n",
    "    Remove any unnecessary characters.\n",
    "    Remove HTML tags.\n",
    "    Convert to lower case.\n",
    "    Remove stopwords."
   ]
  },
  {
   "cell_type": "markdown",
   "metadata": {},
   "source": [
    "The method below applies the `review_to_words` method to each of the reviews in the training and testing datasets. In addition it caches the results. This is because performing this processing step can take a long time. This way if you are unable to complete the notebook in the current session, you can come back without needing to process the data a second time."
   ]
  },
  {
   "cell_type": "code",
   "execution_count": 9,
   "metadata": {},
   "outputs": [],
   "source": [
    "import pickle\n",
    "\n",
    "cache_dir = os.path.join(\"../cache\", \"sentiment_analysis\")  # where to store cache files\n",
    "os.makedirs(cache_dir, exist_ok=True)  # ensure cache directory exists\n",
    "\n",
    "def preprocess_data(data_train, data_test, labels_train, labels_test,\n",
    "                    cache_dir=cache_dir, cache_file=\"preprocessed_data.pkl\"):\n",
    "    \"\"\"Convert each review to words; read from cache if available.\"\"\"\n",
    "\n",
    "    # If cache_file is not None, try to read from it first\n",
    "    cache_data = None\n",
    "    if cache_file is not None:\n",
    "        try:\n",
    "            with open(os.path.join(cache_dir, cache_file), \"rb\") as f:\n",
    "                cache_data = pickle.load(f)\n",
    "            print(\"Read preprocessed data from cache file:\", cache_file)\n",
    "        except:\n",
    "            pass  # unable to read from cache, but that's okay\n",
    "    \n",
    "    # If cache is missing, then do the heavy lifting\n",
    "    if cache_data is None:\n",
    "        # Preprocess training and test data to obtain words for each review\n",
    "        #words_train = list(map(review_to_words, data_train))\n",
    "        #words_test = list(map(review_to_words, data_test))\n",
    "        words_train = [review_to_words(review) for review in data_train]\n",
    "        words_test = [review_to_words(review) for review in data_test]\n",
    "        \n",
    "        # Write to cache file for future runs\n",
    "        if cache_file is not None:\n",
    "            cache_data = dict(words_train=words_train, words_test=words_test,\n",
    "                              labels_train=labels_train, labels_test=labels_test)\n",
    "            with open(os.path.join(cache_dir, cache_file), \"wb\") as f:\n",
    "                pickle.dump(cache_data, f)\n",
    "            print(\"Wrote preprocessed data to cache file:\", cache_file)\n",
    "    else:\n",
    "        # Unpack data loaded from cache file\n",
    "        words_train, words_test, labels_train, labels_test = (cache_data['words_train'],\n",
    "                cache_data['words_test'], cache_data['labels_train'], cache_data['labels_test'])\n",
    "    \n",
    "    return words_train, words_test, labels_train, labels_test"
   ]
  },
  {
   "cell_type": "code",
   "execution_count": 10,
   "metadata": {},
   "outputs": [
    {
     "name": "stdout",
     "output_type": "stream",
     "text": [
      "Read preprocessed data from cache file: preprocessed_data.pkl\n"
     ]
    }
   ],
   "source": [
    "# Preprocess data\n",
    "train_X, test_X, train_y, test_y = preprocess_data(train_X, test_X, train_y, test_y)"
   ]
  },
  {
   "cell_type": "markdown",
   "metadata": {},
   "source": [
    "## Transform the data\n",
    "\n",
    "In the XGBoost notebook we transformed the data from its word representation to a bag-of-words feature representation. For the model we are going to construct in this notebook we will construct a feature representation which is very similar. To start, we will represent each word as an integer. Of course, some of the words that appear in the reviews occur very infrequently and so likely don't contain much information for the purposes of sentiment analysis. The way we will deal with this problem is that we will fix the size of our working vocabulary and we will only include the words that appear most frequently. We will then combine all of the infrequent words into a single category and, in our case, we will label it as `1`.\n",
    "\n",
    "Since we will be using a recurrent neural network, it will be convenient if the length of each review is the same. To do this, we will fix a size for our reviews and then pad short reviews with the category 'no word' (which we will label `0`) and truncate long reviews."
   ]
  },
  {
   "cell_type": "markdown",
   "metadata": {},
   "source": [
    "### (TODO) Create a word dictionary\n",
    "\n",
    "To begin with, we need to construct a way to map words that appear in the reviews to integers. Here we fix the size of our vocabulary (including the 'no word' and 'infrequent' categories) to be `5000` but you may wish to change this to see how it affects the model.\n",
    "\n",
    "> **TODO:** Complete the implementation for the `build_dict()` method below. Note that even though the vocab_size is set to `5000`, we only want to construct a mapping for the most frequently appearing `4998` words. This is because we want to reserve the special labels `0` for 'no word' and `1` for 'infrequent word'."
   ]
  },
  {
   "cell_type": "code",
   "execution_count": 11,
   "metadata": {},
   "outputs": [],
   "source": [
    "import numpy as np\n",
    "from collections import Counter\n",
    "\n",
    "def get_word_count(data):\n",
    "    \"\"\"\n",
    "    Determines how often each word appears in `data`. Note that `data` is a list of sentences and that a\n",
    "    sentence is a list of words.\n",
    "    return: A dict storing the words that appear in the reviews along with how often they occur\n",
    "    \"\"\"\n",
    "    word_count = {} \n",
    "    for review in data:\n",
    "        for word in review:\n",
    "            if word in word_count:\n",
    "                word_count[word] += 1\n",
    "            else: \n",
    "                word_count[word] = 1\n",
    "    return word_count\n",
    "\n",
    "def build_dict(data, vocab_size = 5000):\n",
    "    \"\"\"Construct and return a dictionary mapping each of the most frequently appearing words to a unique integer.\"\"\"\n",
    "\n",
    "    word_count = get_word_count(data)\n",
    "     # TODO: Sort the words found in `data` so that sorted_words[0] is the most frequently appearing word and\n",
    "    #       sorted_words[-1] is the least frequently appearing word.  \n",
    "    \n",
    "    sorted_words = [v[0] for v in sorted(word_count.items(), key=lambda kv: kv[1], reverse=True)]                \n",
    "    \n",
    "    word_dict = {} # This is what we are building, a dictionary that translates words into integers\n",
    "    for idx, word in enumerate(sorted_words[:vocab_size - 2]): # The -2 is so that we save room for the 'no word'\n",
    "        word_dict[word] = idx + 2                              # 'infrequent' labels\n",
    "        \n",
    "    return word_dict"
   ]
  },
  {
   "cell_type": "code",
   "execution_count": 12,
   "metadata": {},
   "outputs": [],
   "source": [
    "word_dict = build_dict(train_X)"
   ]
  },
  {
   "cell_type": "code",
   "execution_count": 13,
   "metadata": {},
   "outputs": [
    {
     "name": "stdout",
     "output_type": "stream",
     "text": [
      "{'movi': 2, 'film': 3, 'one': 4, 'like': 5, 'time': 6, 'good': 7, 'make': 8, 'charact': 9, 'get': 10, 'see': 11, 'watch': 12, 'stori': 13, 'even': 14, 'would': 15, 'realli': 16, 'well': 17, 'scene': 18, 'look': 19, 'show': 20, 'much': 21, 'end': 22, 'peopl': 23, 'bad': 24, 'go': 25, 'great': 26, 'also': 27, 'first': 28, 'love': 29, 'think': 30, 'way': 31, 'act': 32, 'play': 33, 'made': 34, 'thing': 35, 'could': 36, 'know': 37, 'say': 38, 'seem': 39, 'work': 40, 'plot': 41, 'two': 42, 'actor': 43, 'year': 44, 'come': 45, 'mani': 46, 'seen': 47, 'take': 48, 'want': 49, 'life': 50, 'never': 51, 'littl': 52, 'best': 53, 'tri': 54, 'man': 55, 'ever': 56, 'give': 57, 'better': 58, 'still': 59, 'perform': 60, 'find': 61, 'feel': 62, 'part': 63, 'back': 64, 'use': 65, 'someth': 66, 'director': 67, 'actual': 68, 'interest': 69, 'lot': 70, 'real': 71, 'old': 72, 'cast': 73, 'though': 74, 'live': 75, 'star': 76, 'enjoy': 77, 'guy': 78, 'anoth': 79, 'new': 80, 'role': 81, 'noth': 82, '10': 83, 'funni': 84, 'music': 85, 'point': 86, 'start': 87, 'set': 88, 'girl': 89, 'origin': 90, 'day': 91, 'world': 92, 'everi': 93, 'believ': 94, 'turn': 95, 'quit': 96, 'direct': 97, 'us': 98, 'thought': 99, 'fact': 100, 'minut': 101, 'horror': 102, 'kill': 103, 'action': 104, 'comedi': 105, 'pretti': 106, 'young': 107, 'wonder': 108, 'happen': 109, 'around': 110, 'got': 111, 'effect': 112, 'right': 113, 'long': 114, 'howev': 115, 'big': 116, 'line': 117, 'famili': 118, 'enough': 119, 'seri': 120, 'may': 121, 'need': 122, 'fan': 123, 'bit': 124, 'script': 125, 'beauti': 126, 'person': 127, 'becom': 128, 'without': 129, 'must': 130, 'alway': 131, 'friend': 132, 'tell': 133, 'reason': 134, 'saw': 135, 'last': 136, 'final': 137, 'kid': 138, 'almost': 139, 'put': 140, 'least': 141, 'sure': 142, 'done': 143, 'whole': 144, 'place': 145, 'complet': 146, 'kind': 147, 'differ': 148, 'expect': 149, 'shot': 150, 'far': 151, 'mean': 152, 'anyth': 153, 'book': 154, 'laugh': 155, 'might': 156, 'name': 157, 'sinc': 158, 'begin': 159, '2': 160, 'probabl': 161, 'woman': 162, 'help': 163, 'entertain': 164, 'let': 165, 'screen': 166, 'call': 167, 'tv': 168, 'moment': 169, 'away': 170, 'read': 171, 'yet': 172, 'rather': 173, 'worst': 174, 'run': 175, 'fun': 176, 'lead': 177, 'hard': 178, 'audienc': 179, 'idea': 180, 'anyon': 181, 'episod': 182, 'american': 183, 'found': 184, 'appear': 185, 'bore': 186, 'especi': 187, 'although': 188, 'hope': 189, 'cours': 190, 'keep': 191, 'anim': 192, 'job': 193, 'goe': 194, 'move': 195, 'sens': 196, 'version': 197, 'dvd': 198, 'war': 199, 'money': 200, 'someon': 201, 'mind': 202, 'mayb': 203, 'problem': 204, 'true': 205, 'hous': 206, 'everyth': 207, 'nice': 208, 'second': 209, 'rate': 210, 'three': 211, 'night': 212, 'face': 213, 'follow': 214, 'recommend': 215, 'main': 216, 'product': 217, 'worth': 218, 'leav': 219, 'human': 220, 'special': 221, 'excel': 222, 'togeth': 223, 'wast': 224, 'everyon': 225, 'sound': 226, 'john': 227, 'hand': 228, '1': 229, 'father': 230, 'later': 231, 'eye': 232, 'said': 233, 'view': 234, 'instead': 235, 'review': 236, 'boy': 237, 'high': 238, 'hour': 239, 'miss': 240, 'classic': 241, 'talk': 242, 'wife': 243, 'understand': 244, 'left': 245, 'care': 246, 'black': 247, 'death': 248, 'open': 249, 'murder': 250, 'write': 251, 'half': 252, 'head': 253, 'rememb': 254, 'chang': 255, 'viewer': 256, 'fight': 257, 'gener': 258, 'surpris': 259, 'short': 260, 'includ': 261, 'die': 262, 'fall': 263, 'less': 264, 'els': 265, 'entir': 266, 'piec': 267, 'involv': 268, 'pictur': 269, 'simpli': 270, 'top': 271, 'power': 272, 'home': 273, 'total': 274, 'usual': 275, 'budget': 276, 'attempt': 277, 'suppos': 278, 'releas': 279, 'hollywood': 280, 'terribl': 281, 'song': 282, 'men': 283, 'possibl': 284, 'featur': 285, 'portray': 286, 'disappoint': 287, 'poor': 288, '3': 289, 'coupl': 290, 'camera': 291, 'stupid': 292, 'dead': 293, 'wrong': 294, 'produc': 295, 'low': 296, 'either': 297, 'video': 298, 'aw': 299, 'definit': 300, 'except': 301, 'rest': 302, 'given': 303, 'absolut': 304, 'women': 305, 'lack': 306, 'word': 307, 'writer': 308, 'titl': 309, 'talent': 310, 'decid': 311, 'full': 312, 'perfect': 313, 'along': 314, 'style': 315, 'close': 316, 'truli': 317, 'school': 318, 'emot': 319, 'save': 320, 'age': 321, 'sex': 322, 'next': 323, 'bring': 324, 'mr': 325, 'case': 326, 'killer': 327, 'heart': 328, 'comment': 329, 'sort': 330, 'creat': 331, 'perhap': 332, 'came': 333, 'brother': 334, 'sever': 335, 'joke': 336, 'art': 337, 'dialogu': 338, 'game': 339, 'small': 340, 'base': 341, 'flick': 342, 'written': 343, 'sequenc': 344, 'meet': 345, 'earli': 346, 'often': 347, 'other': 348, 'mother': 349, 'develop': 350, 'humor': 351, 'actress': 352, 'consid': 353, 'dark': 354, 'guess': 355, 'amaz': 356, 'unfortun': 357, 'light': 358, 'lost': 359, 'exampl': 360, 'cinema': 361, 'drama': 362, 'ye': 363, 'white': 364, 'experi': 365, 'imagin': 366, 'mention': 367, 'stop': 368, 'natur': 369, 'forc': 370, 'manag': 371, 'felt': 372, 'cut': 373, 'present': 374, 'children': 375, 'fail': 376, 'son': 377, 'car': 378, 'support': 379, 'qualiti': 380, 'ask': 381, 'hit': 382, 'side': 383, 'voic': 384, 'extrem': 385, 'impress': 386, 'evil': 387, 'wors': 388, 'stand': 389, 'went': 390, 'certainli': 391, 'basic': 392, 'oh': 393, 'overal': 394, 'favorit': 395, 'horribl': 396, 'mysteri': 397, 'number': 398, 'type': 399, 'danc': 400, 'wait': 401, 'hero': 402, 'alreadi': 403, '5': 404, 'learn': 405, 'matter': 406, '4': 407, 'michael': 408, 'genr': 409, 'fine': 410, 'despit': 411, 'throughout': 412, 'walk': 413, 'success': 414, 'histori': 415, 'question': 416, 'zombi': 417, 'town': 418, 'relationship': 419, 'realiz': 420, 'past': 421, 'child': 422, 'daughter': 423, 'late': 424, 'b': 425, 'wish': 426, 'hate': 427, 'credit': 428, 'event': 429, 'theme': 430, 'touch': 431, 'citi': 432, 'today': 433, 'sometim': 434, 'behind': 435, 'god': 436, 'twist': 437, 'sit': 438, 'stay': 439, 'annoy': 440, 'deal': 441, 'abl': 442, 'rent': 443, 'pleas': 444, 'edit': 445, 'blood': 446, 'deserv': 447, 'comic': 448, 'anyway': 449, 'appar': 450, 'soon': 451, 'gave': 452, 'etc': 453, 'level': 454, 'slow': 455, 'chanc': 456, 'score': 457, 'bodi': 458, 'brilliant': 459, 'incred': 460, 'figur': 461, 'situat': 462, 'self': 463, 'major': 464, 'stuff': 465, 'decent': 466, 'element': 467, 'dream': 468, 'return': 469, 'obvious': 470, 'order': 471, 'continu': 472, 'pace': 473, 'ridicul': 474, 'happi': 475, 'highli': 476, 'group': 477, 'add': 478, 'thank': 479, 'ladi': 480, 'novel': 481, 'pain': 482, 'speak': 483, 'career': 484, 'shoot': 485, 'strang': 486, 'heard': 487, 'sad': 488, 'husband': 489, 'polic': 490, 'import': 491, 'break': 492, 'took': 493, 'cannot': 494, 'strong': 495, 'predict': 496, 'robert': 497, 'violenc': 498, 'hilari': 499, 'recent': 500, 'countri': 501, 'known': 502, 'particularli': 503, 'pick': 504, 'documentari': 505, 'season': 506, 'critic': 507, 'jame': 508, 'compar': 509, 'obviou': 510, 'alon': 511, 'told': 512, 'state': 513, 'visual': 514, 'rock': 515, 'theater': 516, 'offer': 517, 'exist': 518, 'opinion': 519, 'gore': 520, 'crap': 521, 'hold': 522, 'result': 523, 'realiti': 524, 'hear': 525, 'room': 526, 'clich': 527, 'effort': 528, 'thriller': 529, 'caus': 530, 'serious': 531, 'sequel': 532, 'explain': 533, 'king': 534, 'local': 535, 'ago': 536, 'hell': 537, 'none': 538, 'note': 539, 'allow': 540, 'sister': 541, 'david': 542, 'simpl': 543, 'femal': 544, 'deliv': 545, 'ok': 546, 'class': 547, 'convinc': 548, 'check': 549, 'suspens': 550, 'win': 551, 'buy': 552, 'oscar': 553, 'huge': 554, 'valu': 555, 'sexual': 556, 'scari': 557, 'cool': 558, 'similar': 559, 'excit': 560, 'exactli': 561, 'provid': 562, 'apart': 563, 'avoid': 564, 'shown': 565, 'seriou': 566, 'english': 567, 'whose': 568, 'taken': 569, 'cinematographi': 570, 'shock': 571, 'polit': 572, 'spoiler': 573, 'offic': 574, 'across': 575, 'middl': 576, 'pass': 577, 'street': 578, 'messag': 579, 'silli': 580, 'charm': 581, 'somewhat': 582, 'modern': 583, 'filmmak': 584, 'confus': 585, 'form': 586, 'tale': 587, 'singl': 588, 'jack': 589, 'mostli': 590, 'attent': 591, 'william': 592, 'carri': 593, 'sing': 594, 'five': 595, 'subject': 596, 'richard': 597, 'prove': 598, 'stage': 599, 'team': 600, 'unlik': 601, 'cop': 602, 'georg': 603, 'televis': 604, 'monster': 605, 'earth': 606, 'cover': 607, 'villain': 608, 'pay': 609, 'marri': 610, 'toward': 611, 'build': 612, 'parent': 613, 'pull': 614, 'due': 615, 'fill': 616, 'respect': 617, 'dialog': 618, 'four': 619, 'remind': 620, 'futur': 621, 'typic': 622, 'weak': 623, '7': 624, 'cheap': 625, 'intellig': 626, 'atmospher': 627, 'british': 628, '80': 629, 'clearli': 630, 'paul': 631, 'dog': 632, 'non': 633, 'fast': 634, 'knew': 635, '8': 636, 'artist': 637, 'crime': 638, 'easili': 639, 'escap': 640, 'doubt': 641, 'adult': 642, 'detail': 643, 'date': 644, 'romant': 645, 'fire': 646, 'member': 647, 'gun': 648, 'drive': 649, 'straight': 650, 'beyond': 651, 'fit': 652, 'attack': 653, 'imag': 654, 'upon': 655, 'posit': 656, 'whether': 657, 'peter': 658, 'fantast': 659, 'appreci': 660, 'captur': 661, 'aspect': 662, 'ten': 663, 'plan': 664, 'discov': 665, 'remain': 666, 'near': 667, 'period': 668, 'air': 669, 'realist': 670, 'mark': 671, 'red': 672, 'dull': 673, 'adapt': 674, 'within': 675, 'spend': 676, 'lose': 677, 'color': 678, 'materi': 679, 'chase': 680, 'mari': 681, 'storylin': 682, 'forget': 683, 'bunch': 684, 'clear': 685, 'lee': 686, 'victim': 687, 'nearli': 688, 'box': 689, 'york': 690, 'inspir': 691, 'match': 692, 'mess': 693, 'finish': 694, 'standard': 695, 'easi': 696, 'truth': 697, 'busi': 698, 'suffer': 699, 'dramat': 700, 'space': 701, 'bill': 702, 'western': 703, 'e': 704, 'list': 705, 'battl': 706, 'notic': 707, 'de': 708, 'french': 709, 'ad': 710, '9': 711, 'tom': 712, 'larg': 713, 'among': 714, 'eventu': 715, 'train': 716, 'accept': 717, 'agre': 718, 'spirit': 719, 'soundtrack': 720, 'third': 721, 'teenag': 722, 'soldier': 723, 'adventur': 724, 'famou': 725, 'suggest': 726, 'drug': 727, 'sorri': 728, 'cri': 729, 'normal': 730, 'babi': 731, 'ultim': 732, 'troubl': 733, 'contain': 734, 'certain': 735, 'cultur': 736, 'romanc': 737, 'rare': 738, 'lame': 739, 'somehow': 740, 'disney': 741, 'mix': 742, 'gone': 743, 'cartoon': 744, 'student': 745, 'reveal': 746, 'fear': 747, 'kept': 748, 'suck': 749, 'attract': 750, 'appeal': 751, 'premis': 752, 'secret': 753, 'greatest': 754, 'design': 755, 'shame': 756, 'throw': 757, 'copi': 758, 'scare': 759, 'wit': 760, 'america': 761, 'admit': 762, 'particular': 763, 'relat': 764, 'brought': 765, 'screenplay': 766, 'whatev': 767, 'pure': 768, '70': 769, 'harri': 770, 'averag': 771, 'master': 772, 'describ': 773, 'male': 774, 'treat': 775, '20': 776, 'fantasi': 777, 'issu': 778, 'warn': 779, 'inde': 780, 'forward': 781, 'background': 782, 'project': 783, 'free': 784, 'japanes': 785, 'memor': 786, 'poorli': 787, 'award': 788, 'locat': 789, 'amus': 790, 'potenti': 791, 'struggl': 792, 'weird': 793, 'magic': 794, 'societi': 795, 'okay': 796, 'imdb': 797, 'doctor': 798, 'accent': 799, 'water': 800, 'hot': 801, '30': 802, 'express': 803, 'alien': 804, 'dr': 805, 'odd': 806, 'crazi': 807, 'choic': 808, 'studio': 809, 'fiction': 810, 'control': 811, 'becam': 812, 'masterpiec': 813, 'fli': 814, 'difficult': 815, 'joe': 816, 'scream': 817, 'costum': 818, 'lover': 819, 'uniqu': 820, 'refer': 821, 'remak': 822, 'vampir': 823, 'girlfriend': 824, 'prison': 825, 'execut': 826, 'wear': 827, 'jump': 828, 'wood': 829, 'unless': 830, 'creepi': 831, 'cheesi': 832, 'superb': 833, 'otherwis': 834, 'parti': 835, 'roll': 836, 'ghost': 837, 'mad': 838, 'public': 839, 'depict': 840, 'jane': 841, 'moral': 842, 'badli': 843, 'week': 844, 'earlier': 845, 'dumb': 846, 'fi': 847, 'flaw': 848, 'grow': 849, 'deep': 850, 'sci': 851, 'maker': 852, 'cat': 853, 'connect': 854, 'older': 855, 'footag': 856, 'plenti': 857, 'bother': 858, 'outsid': 859, 'stick': 860, 'gay': 861, 'catch': 862, 'plu': 863, 'co': 864, 'popular': 865, 'equal': 866, 'social': 867, 'disturb': 868, 'quickli': 869, 'perfectli': 870, 'dress': 871, 'era': 872, '90': 873, 'mistak': 874, 'lie': 875, 'previou': 876, 'ride': 877, 'combin': 878, 'concept': 879, 'band': 880, 'rich': 881, 'answer': 882, 'surviv': 883, 'front': 884, 'sweet': 885, 'christma': 886, 'insid': 887, 'bare': 888, 'eat': 889, 'concern': 890, 'beat': 891, 'listen': 892, 'ben': 893, 'c': 894, 'serv': 895, 'term': 896, 'meant': 897, 'la': 898, 'german': 899, 'stereotyp': 900, 'hardli': 901, 'innoc': 902, 'law': 903, 'desper': 904, 'memori': 905, 'promis': 906, 'cute': 907, 'intent': 908, 'variou': 909, 'inform': 910, 'steal': 911, 'brain': 912, 'post': 913, 'tone': 914, 'island': 915, 'amount': 916, 'track': 917, 'nuditi': 918, 'compani': 919, 'claim': 920, 'store': 921, 'flat': 922, 'hair': 923, '50': 924, 'univers': 925, 'land': 926, 'fairli': 927, 'danger': 928, 'kick': 929, 'scott': 930, 'player': 931, 'crew': 932, 'plain': 933, 'step': 934, 'toni': 935, 'share': 936, 'centuri': 937, 'tast': 938, 'engag': 939, 'achiev': 940, 'cold': 941, 'travel': 942, 'suit': 943, 'record': 944, 'rip': 945, 'sadli': 946, 'manner': 947, 'tension': 948, 'wrote': 949, 'spot': 950, 'intens': 951, 'fascin': 952, 'familiar': 953, 'remark': 954, 'depth': 955, 'burn': 956, 'destroy': 957, 'histor': 958, 'sleep': 959, 'purpos': 960, 'languag': 961, 'ruin': 962, 'ignor': 963, 'delight': 964, 'unbeliev': 965, 'italian': 966, 'soul': 967, 'abil': 968, 'collect': 969, 'clever': 970, 'detect': 971, 'violent': 972, 'rape': 973, 'reach': 974, 'door': 975, 'scienc': 976, 'liter': 977, 'trash': 978, 'reveng': 979, 'caught': 980, 'commun': 981, 'creatur': 982, 'trip': 983, 'approach': 984, 'intrigu': 985, 'fashion': 986, 'paint': 987, 'introduc': 988, 'skill': 989, 'complex': 990, 'channel': 991, 'camp': 992, 'christian': 993, 'hole': 994, 'extra': 995, 'ann': 996, 'limit': 997, 'immedi': 998, 'mental': 999, 'mere': 1000, 'comput': 1001, 'million': 1002, 'slightli': 1003, '6': 1004, 'conclus': 1005, 'slasher': 1006, 'suddenli': 1007, 'imposs': 1008, 'neither': 1009, 'crimin': 1010, 'teen': 1011, 'nation': 1012, 'spent': 1013, 'physic': 1014, 'respons': 1015, 'planet': 1016, 'receiv': 1017, 'fake': 1018, 'blue': 1019, 'sick': 1020, 'bizarr': 1021, 'embarrass': 1022, 'indian': 1023, 'ring': 1024, '15': 1025, 'drop': 1026, 'pop': 1027, 'drag': 1028, 'haunt': 1029, 'suspect': 1030, 'pointless': 1031, 'edg': 1032, 'search': 1033, 'handl': 1034, 'common': 1035, 'biggest': 1036, 'hurt': 1037, 'arriv': 1038, 'faith': 1039, 'technic': 1040, 'angel': 1041, 'genuin': 1042, 'dad': 1043, 'solid': 1044, 'awesom': 1045, 'f': 1046, 'former': 1047, 'focu': 1048, 'colleg': 1049, 'van': 1050, 'count': 1051, 'heavi': 1052, 'tear': 1053, 'wall': 1054, 'rais': 1055, 'laughabl': 1056, 'younger': 1057, 'visit': 1058, 'excus': 1059, 'sign': 1060, 'fair': 1061, 'cult': 1062, 'motion': 1063, 'tough': 1064, 'key': 1065, 'desir': 1066, 'super': 1067, 'addit': 1068, 'stun': 1069, 'exploit': 1070, 'cloth': 1071, 'smith': 1072, 'tortur': 1073, 'race': 1074, 'davi': 1075, 'author': 1076, 'cross': 1077, 'jim': 1078, 'focus': 1079, 'compel': 1080, 'consist': 1081, 'minor': 1082, 'chemistri': 1083, 'commit': 1084, 'pathet': 1085, 'park': 1086, 'frank': 1087, 'obsess': 1088, 'tradit': 1089, 'grade': 1090, 'asid': 1091, '60': 1092, 'brutal': 1093, 'somewher': 1094, 'steve': 1095, 'grant': 1096, 'opportun': 1097, 'explor': 1098, 'depress': 1099, 'rule': 1100, 'u': 1101, 'besid': 1102, 'honest': 1103, 'dub': 1104, 'anti': 1105, 'intend': 1106, 'trailer': 1107, 'bar': 1108, 'scientist': 1109, 'west': 1110, 'longer': 1111, 'regard': 1112, 'decad': 1113, 'judg': 1114, 'silent': 1115, 'creativ': 1116, 'armi': 1117, 'wild': 1118, 'g': 1119, 'south': 1120, 'stewart': 1121, 'draw': 1122, 'road': 1123, 'govern': 1124, 'boss': 1125, 'ex': 1126, 'practic': 1127, 'club': 1128, 'motiv': 1129, 'surprisingli': 1130, 'festiv': 1131, 'gang': 1132, 'green': 1133, 'redeem': 1134, 'london': 1135, 'page': 1136, 'militari': 1137, 'idiot': 1138, 'machin': 1139, 'display': 1140, 'aliv': 1141, 'repeat': 1142, 'thrill': 1143, 'folk': 1144, '100': 1145, 'nobodi': 1146, 'yeah': 1147, '40': 1148, 'journey': 1149, 'garbag': 1150, 'ground': 1151, 'tire': 1152, 'smile': 1153, 'bought': 1154, 'mood': 1155, 'cost': 1156, 'stone': 1157, 'sam': 1158, 'mouth': 1159, 'noir': 1160, 'terrif': 1161, 'agent': 1162, 'requir': 1163, 'utterli': 1164, 'area': 1165, 'honestli': 1166, 'sexi': 1167, 'geniu': 1168, 'report': 1169, 'investig': 1170, 'humour': 1171, 'enter': 1172, 'glad': 1173, 'serial': 1174, 'occasion': 1175, 'passion': 1176, 'narr': 1177, 'climax': 1178, 'marriag': 1179, 'studi': 1180, 'industri': 1181, 'center': 1182, 'nowher': 1183, 'ship': 1184, 'charli': 1185, 'demon': 1186, 'loos': 1187, 'bear': 1188, 'hors': 1189, 'wow': 1190, 'hang': 1191, 'graphic': 1192, 'admir': 1193, 'giant': 1194, 'send': 1195, 'loud': 1196, 'damn': 1197, 'profession': 1198, 'rel': 1199, 'nake': 1200, 'subtl': 1201, 'blow': 1202, 'bottom': 1203, 'insult': 1204, 'batman': 1205, 'boyfriend': 1206, 'r': 1207, 'doubl': 1208, 'kelli': 1209, 'initi': 1210, 'frame': 1211, 'opera': 1212, 'gem': 1213, 'challeng': 1214, 'drawn': 1215, 'affect': 1216, 'church': 1217, 'cinemat': 1218, 'nightmar': 1219, 'seek': 1220, 'l': 1221, 'fulli': 1222, 'evid': 1223, 'j': 1224, 'arm': 1225, 'essenti': 1226, 'conflict': 1227, 'christoph': 1228, 'grace': 1229, 'wind': 1230, 'henri': 1231, 'witch': 1232, 'narrat': 1233, 'assum': 1234, 'hunt': 1235, 'push': 1236, 'wise': 1237, 'chri': 1238, 'month': 1239, 'nomin': 1240, 'repres': 1241, 'sceneri': 1242, 'affair': 1243, 'hide': 1244, 'avail': 1245, 'bond': 1246, 'justic': 1247, 'smart': 1248, 'thu': 1249, 'outstand': 1250, 'interview': 1251, 'flashback': 1252, 'presenc': 1253, 'constantli': 1254, 'satisfi': 1255, 'bed': 1256, 'central': 1257, 'sell': 1258, 'content': 1259, 'iron': 1260, 'everybodi': 1261, 'gag': 1262, 'slowli': 1263, 'hotel': 1264, 'hire': 1265, 'system': 1266, 'charl': 1267, 'hey': 1268, 'thrown': 1269, 'adam': 1270, 'individu': 1271, 'mediocr': 1272, 'jone': 1273, 'allen': 1274, 'ray': 1275, 'lesson': 1276, 'billi': 1277, 'cameo': 1278, 'photographi': 1279, 'pari': 1280, 'fellow': 1281, 'strike': 1282, 'brief': 1283, 'absurd': 1284, 'rise': 1285, 'independ': 1286, 'neg': 1287, 'impact': 1288, 'phone': 1289, 'ill': 1290, 'born': 1291, 'model': 1292, 'angl': 1293, 'fresh': 1294, 'spoil': 1295, 'abus': 1296, 'likabl': 1297, 'hill': 1298, 'discuss': 1299, 'sight': 1300, 'ahead': 1301, 'photograph': 1302, 'sent': 1303, 'blame': 1304, 'occur': 1305, 'shine': 1306, 'logic': 1307, 'bruce': 1308, 'mainli': 1309, 'commerci': 1310, 'skip': 1311, 'forev': 1312, 'teacher': 1313, 'held': 1314, 'segment': 1315, 'surround': 1316, 'zero': 1317, 'blond': 1318, 'resembl': 1319, 'trap': 1320, 'satir': 1321, 'summer': 1322, 'six': 1323, 'fool': 1324, 'queen': 1325, 'ball': 1326, 'sub': 1327, 'tragedi': 1328, 'twice': 1329, 'reaction': 1330, 'pack': 1331, 'bomb': 1332, 'hospit': 1333, 'will': 1334, 'protagonist': 1335, 'mile': 1336, 'sport': 1337, 'vote': 1338, 'drink': 1339, 'trust': 1340, 'mom': 1341, 'jerri': 1342, 'encount': 1343, 'plane': 1344, 'current': 1345, 'program': 1346, 'al': 1347, 'station': 1348, 'choos': 1349, 'celebr': 1350, 'martin': 1351, 'join': 1352, 'round': 1353, 'field': 1354, 'tragic': 1355, 'favourit': 1356, 'lord': 1357, 'jean': 1358, 'vision': 1359, 'robot': 1360, 'tie': 1361, 'arthur': 1362, 'roger': 1363, 'fortun': 1364, 'random': 1365, 'psycholog': 1366, 'intern': 1367, 'dread': 1368, 'nonsens': 1369, 'prefer': 1370, 'epic': 1371, 'improv': 1372, 'legend': 1373, 'formula': 1374, 'highlight': 1375, 'pleasur': 1376, '11': 1377, 'dollar': 1378, 'tape': 1379, 'thin': 1380, 'object': 1381, 'wide': 1382, 'gorgeou': 1383, 'fox': 1384, 'porn': 1385, 'ugli': 1386, 'buddi': 1387, 'influenc': 1388, 'prepar': 1389, 'ii': 1390, 'nasti': 1391, 'warm': 1392, 'progress': 1393, 'reflect': 1394, 'supposedli': 1395, 'youth': 1396, 'worthi': 1397, 'latter': 1398, 'unusu': 1399, 'length': 1400, 'crash': 1401, 'superior': 1402, 'shop': 1403, 'childhood': 1404, 'seven': 1405, 'theatr': 1406, 'remot': 1407, 'disgust': 1408, 'funniest': 1409, 'paid': 1410, 'pilot': 1411, 'fell': 1412, 'trick': 1413, 'convers': 1414, 'castl': 1415, 'establish': 1416, 'gangster': 1417, 'disast': 1418, 'rob': 1419, 'disappear': 1420, 'heaven': 1421, 'mine': 1422, 'suicid': 1423, 'ident': 1424, 'heroin': 1425, 'mask': 1426, 'singer': 1427, 'tend': 1428, 'decis': 1429, 'forgotten': 1430, 'partner': 1431, 'brian': 1432, 'desert': 1433, 'alan': 1434, 'recogn': 1435, 'sky': 1436, 'ms': 1437, 'thoroughli': 1438, 'p': 1439, 'stuck': 1440, 'accur': 1441, 'replac': 1442, 'market': 1443, 'seemingli': 1444, 'danni': 1445, 'uncl': 1446, 'andi': 1447, 'commentari': 1448, 'eddi': 1449, 'clue': 1450, 'devil': 1451, 'jackson': 1452, 'pair': 1453, 'that': 1454, 'therefor': 1455, 'refus': 1456, 'ed': 1457, 'accid': 1458, 'unit': 1459, 'fate': 1460, 'river': 1461, 'fault': 1462, 'afraid': 1463, 'tune': 1464, 'clean': 1465, 'russian': 1466, 'hidden': 1467, 'stephen': 1468, 'instanc': 1469, 'test': 1470, 'captain': 1471, 'irrit': 1472, 'quick': 1473, 'readi': 1474, 'convey': 1475, 'european': 1476, 'frustrat': 1477, 'insan': 1478, 'daniel': 1479, 'wed': 1480, 'chines': 1481, 'food': 1482, 'rescu': 1483, '1950': 1484, 'dirti': 1485, 'lock': 1486, 'angri': 1487, 'joy': 1488, 'price': 1489, 'steven': 1490, 'bland': 1491, 'cage': 1492, 'rang': 1493, 'anymor': 1494, 'wooden': 1495, 'news': 1496, 'n': 1497, 'rush': 1498, 'jason': 1499, 'board': 1500, 'worri': 1501, 'led': 1502, '12': 1503, 'twenti': 1504, 'martial': 1505, 'transform': 1506, 'cgi': 1507, 'symbol': 1508, 'hunter': 1509, 'piti': 1510, 'onto': 1511, 'x': 1512, 'invent': 1513, 'sentiment': 1514, 'johnni': 1515, 'explan': 1516, 'process': 1517, 'attitud': 1518, 'owner': 1519, 'awar': 1520, 'aim': 1521, 'energi': 1522, 'necessari': 1523, 'favor': 1524, 'floor': 1525, 'target': 1526, 'opposit': 1527, 'religi': 1528, 'blind': 1529, 'insight': 1530, 'chick': 1531, 'window': 1532, 'movement': 1533, 'comparison': 1534, 'mountain': 1535, 'research': 1536, 'deepli': 1537, 'possess': 1538, 'rain': 1539, 'whatsoev': 1540, 'comed': 1541, 'grand': 1542, 'began': 1543, 'bank': 1544, 'shadow': 1545, 'mid': 1546, 'parodi': 1547, 'princ': 1548, 'taylor': 1549, 'pre': 1550, 'friendship': 1551, 'weapon': 1552, 'credibl': 1553, 'dougla': 1554, 'teach': 1555, 'flesh': 1556, 'bloodi': 1557, 'terror': 1558, 'protect': 1559, 'hint': 1560, 'marvel': 1561, 'drunk': 1562, 'watchabl': 1563, 'anybodi': 1564, 'leader': 1565, 'accord': 1566, 'load': 1567, 'superman': 1568, 'brown': 1569, 'freddi': 1570, 'tim': 1571, 'appropri': 1572, 'hitler': 1573, 'seat': 1574, 'jeff': 1575, 'knock': 1576, 'charg': 1577, 'unknown': 1578, 'keaton': 1579, 'villag': 1580, 'empti': 1581, 'media': 1582, 'england': 1583, 'unnecessari': 1584, 'enemi': 1585, 'utter': 1586, 'craft': 1587, 'dare': 1588, 'perspect': 1589, 'buck': 1590, 'strength': 1591, 'wave': 1592, 'correct': 1593, 'contrast': 1594, 'ford': 1595, 'nativ': 1596, 'kiss': 1597, 'chill': 1598, 'soap': 1599, 'speed': 1600, 'magnific': 1601, 'anywher': 1602, 'knowledg': 1603, 'nazi': 1604, 'distract': 1605, 'breath': 1606, 'ice': 1607, '1980': 1608, 'fred': 1609, 'mission': 1610, 'crowd': 1611, 'jr': 1612, 'moon': 1613, 'joan': 1614, 'frighten': 1615, '000': 1616, 'kate': 1617, 'soft': 1618, 'hundr': 1619, 'dick': 1620, 'dan': 1621, 'nick': 1622, 'radio': 1623, 'simon': 1624, 'somebodi': 1625, 'dozen': 1626, 'andrew': 1627, 'academi': 1628, 'loss': 1629, 'shakespear': 1630, 'thousand': 1631, 'account': 1632, 'vehicl': 1633, 'root': 1634, 'quot': 1635, 'sum': 1636, 'convent': 1637, 'behavior': 1638, 'leg': 1639, '1970': 1640, 'gold': 1641, 'regular': 1642, 'compet': 1643, 'pretenti': 1644, 'demand': 1645, 'worker': 1646, 'japan': 1647, 'notabl': 1648, 'explos': 1649, 'privat': 1650, 'lynch': 1651, 'interpret': 1652, 'stretch': 1653, 'candi': 1654, 'constant': 1655, 'debut': 1656, 'tarzan': 1657, 'revolv': 1658, 'sea': 1659, 'prais': 1660, 'translat': 1661, 'spi': 1662, 'quiet': 1663, 'franc': 1664, 'threaten': 1665, 'jesu': 1666, 'failur': 1667, 'sat': 1668, 'ass': 1669, 'technolog': 1670, 'higher': 1671, 'punch': 1672, 'aid': 1673, 'kevin': 1674, 'met': 1675, 'toy': 1676, 'vh': 1677, 'interact': 1678, 'mike': 1679, 'abandon': 1680, 'bet': 1681, 'command': 1682, 'confront': 1683, 'separ': 1684, 'recal': 1685, 'belong': 1686, 'servic': 1687, 'site': 1688, 'stunt': 1689, 'gotten': 1690, 'techniqu': 1691, 'cabl': 1692, 'foot': 1693, 'freak': 1694, 'bug': 1695, 'bright': 1696, 'fu': 1697, 'african': 1698, 'jimmi': 1699, 'capabl': 1700, 'boat': 1701, 'presid': 1702, 'succeed': 1703, 'clark': 1704, 'fat': 1705, 'stock': 1706, 'structur': 1707, 'gene': 1708, 'spanish': 1709, 'kidnap': 1710, 'paper': 1711, 'whilst': 1712, 'factor': 1713, 'belief': 1714, 'witti': 1715, 'educ': 1716, 'tree': 1717, 'complic': 1718, 'realis': 1719, 'attend': 1720, 'realism': 1721, 'bob': 1722, 'finest': 1723, 'santa': 1724, 'assist': 1725, 'broken': 1726, 'smoke': 1727, 'up': 1728, 'determin': 1729, 'depart': 1730, 'v': 1731, 'observ': 1732, 'rubbish': 1733, 'hat': 1734, 'fame': 1735, 'lewi': 1736, 'oper': 1737, 'routin': 1738, 'domin': 1739, 'lone': 1740, 'hook': 1741, 'advanc': 1742, 'kinda': 1743, 'morgan': 1744, 'safe': 1745, 'foreign': 1746, 'rank': 1747, 'numer': 1748, 'shallow': 1749, 'vs': 1750, 'werewolf': 1751, 'washington': 1752, 'rose': 1753, 'shape': 1754, 'civil': 1755, 'morn': 1756, 'gari': 1757, 'accomplish': 1758, 'kong': 1759, 'ordinari': 1760, 'winner': 1761, 'whenev': 1762, 'grab': 1763, 'peac': 1764, 'virtual': 1765, 'h': 1766, 'offens': 1767, 'luck': 1768, 'contriv': 1769, 'unfunni': 1770, 'welcom': 1771, 'activ': 1772, 'complain': 1773, 'patient': 1774, 'bigger': 1775, 'dimension': 1776, 'con': 1777, 'pretend': 1778, 'trek': 1779, 'dri': 1780, 'eric': 1781, 'lesbian': 1782, 'wake': 1783, 'code': 1784, 'flash': 1785, 'cain': 1786, 'statu': 1787, 'albert': 1788, 'guard': 1789, 'dancer': 1790, 'corrupt': 1791, 'manipul': 1792, 'speech': 1793, 'awkward': 1794, 'gain': 1795, 'signific': 1796, 'sourc': 1797, 'context': 1798, '13': 1799, 'psycho': 1800, 'corni': 1801, 'anthoni': 1802, 'sean': 1803, 'clip': 1804, 'priest': 1805, 'advic': 1806, 'theatric': 1807, 'reli': 1808, 'w': 1809, 'curiou': 1810, 'religion': 1811, 'flow': 1812, 'addict': 1813, 'jennif': 1814, 'secur': 1815, 'skin': 1816, 'howard': 1817, 'specif': 1818, 'asian': 1819, 'organ': 1820, 'comfort': 1821, 'core': 1822, 'golden': 1823, 'promot': 1824, 'luke': 1825, 'lucki': 1826, 'cash': 1827, 'cheat': 1828, 'dislik': 1829, 'associ': 1830, 'lower': 1831, 'wing': 1832, 'frequent': 1833, 'regret': 1834, 'frankli': 1835, 'devic': 1836, 'contribut': 1837, 'spell': 1838, 'balanc': 1839, 'degre': 1840, 'lake': 1841, 'sake': 1842, 'print': 1843, 'forgiv': 1844, 'mass': 1845, 'thoma': 1846, 'betti': 1847, 'unexpect': 1848, 'gordon': 1849, 'crack': 1850, 'invit': 1851, 'amateur': 1852, 'construct': 1853, 'unfold': 1854, 'grown': 1855, 'depend': 1856, 'categori': 1857, 'anna': 1858, 'intellectu': 1859, 'honor': 1860, 'matur': 1861, 'walter': 1862, 'condit': 1863, 'grew': 1864, 'veteran': 1865, 'sudden': 1866, 'spectacular': 1867, 'mirror': 1868, 'sole': 1869, 'gift': 1870, 'demonstr': 1871, 'experienc': 1872, 'robin': 1873, 'overli': 1874, 'meanwhil': 1875, 'freedom': 1876, 'liner': 1877, 'card': 1878, 'grip': 1879, 'crappi': 1880, 'oliv': 1881, 'unabl': 1882, 'colour': 1883, 'theori': 1884, 'circumst': 1885, 'section': 1886, 'brilliantli': 1887, 'drew': 1888, 'subtitl': 1889, 'sheriff': 1890, 'laughter': 1891, 'altern': 1892, 'pile': 1893, 'cook': 1894, 'matt': 1895, 'sheer': 1896, 'path': 1897, 'parker': 1898, 'defin': 1899, 'relief': 1900, 'sinatra': 1901, 'treatment': 1902, 'lawyer': 1903, 'wander': 1904, 'hall': 1905, 'accident': 1906, 'captiv': 1907, 'dragon': 1908, 'hank': 1909, 'gratuit': 1910, 'moor': 1911, 'halloween': 1912, 'wound': 1913, 'unintent': 1914, 'wayn': 1915, 'barbara': 1916, 'kung': 1917, 'jacki': 1918, 'cowboy': 1919, 'broadway': 1920, 'k': 1921, 'statement': 1922, 'spoof': 1923, 'winter': 1924, 'surreal': 1925, 'canadian': 1926, 'fare': 1927, 'cheer': 1928, 'gonna': 1929, 'compos': 1930, 'fish': 1931, 'treasur': 1932, 'unrealist': 1933, 'sensit': 1934, 'woodi': 1935, 'emerg': 1936, 'victor': 1937, 'sympathet': 1938, 'neighbor': 1939, 'ran': 1940, 'driven': 1941, 'menac': 1942, 'topic': 1943, 'overlook': 1944, 'authent': 1945, 'glass': 1946, 'expos': 1947, 'michel': 1948, 'gross': 1949, 'ancient': 1950, 'handsom': 1951, 'chief': 1952, 'russel': 1953, 'network': 1954, 'stranger': 1955, 'cinderella': 1956, 'contemporari': 1957, 'pleasant': 1958, 'nevertheless': 1959, 'feet': 1960, 'comedian': 1961, 'built': 1962, 'endless': 1963, 'miser': 1964, 'blockbust': 1965, 'underr': 1966, 'letter': 1967, 'gori': 1968, 'earn': 1969, 'consider': 1970, 'solv': 1971, 'switch': 1972, 'brook': 1973, 'joseph': 1974, 'convict': 1975, 'bullet': 1976, 'victoria': 1977, 'edward': 1978, 'virgin': 1979, '0': 1980, 'scale': 1981, 'chosen': 1982, 'scenario': 1983, 'alex': 1984, 'cynic': 1985, 'outrag': 1986, 'curs': 1987, 'com': 1988, 'gut': 1989, 'sword': 1990, 'juli': 1991, 'wrap': 1992, 'uk': 1993, 'monkey': 1994, 'driver': 1995, 'substanc': 1996, 'proper': 1997, 'screenwrit': 1998, 'remov': 1999, 'par': 2000, 'indic': 2001, 'court': 2002, 'bird': 2003, 'naiv': 2004, 'rental': 2005, 'loser': 2006, 'advertis': 2007, 'grave': 2008, 'consequ': 2009, 'nanci': 2010, 'inevit': 2011, 'roy': 2012, 'brave': 2013, 'fatal': 2014, 'le': 2015, 'germani': 2016, 'slap': 2017, 'invis': 2018, 'bridg': 2019, 'ador': 2020, 'provok': 2021, 'anger': 2022, 'footbal': 2023, 'loui': 2024, 'alcohol': 2025, 'anderson': 2026, 'chan': 2027, 'stumbl': 2028, 'willi': 2029, 'professor': 2030, 'ryan': 2031, 'sharp': 2032, 'assassin': 2033, 'bat': 2034, '1930': 2035, 'australian': 2036, 'patrick': 2037, 'refresh': 2038, 'heck': 2039, 'amateurish': 2040, 'lousi': 2041, 'strongli': 2042, 'liber': 2043, 'cell': 2044, 'ape': 2045, 'deni': 2046, 'eight': 2047, 'trilog': 2048, 'saturday': 2049, 'sin': 2050, 'san': 2051, 'justifi': 2052, 'vagu': 2053, 'resid': 2054, 'defeat': 2055, 'mini': 2056, 'creator': 2057, 'reput': 2058, 'sympathi': 2059, 'indi': 2060, 'terrifi': 2061, 'tediou': 2062, 'tabl': 2063, 'prevent': 2064, 'endur': 2065, 'expert': 2066, 'task': 2067, 'rival': 2068, 'basebal': 2069, 'offend': 2070, 'trial': 2071, 'imit': 2072, 'employ': 2073, 'che': 2074, 'pitch': 2075, 'europ': 2076, 'max': 2077, 'dig': 2078, 'fairi': 2079, 'complaint': 2080, 'weekend': 2081, 'beach': 2082, 'purchas': 2083, 'murphi': 2084, 'format': 2085, 'risk': 2086, 'tini': 2087, 'bite': 2088, 'harsh': 2089, 'powel': 2090, 'reminisc': 2091, 'titan': 2092, 'glimps': 2093, 'hype': 2094, 'nois': 2095, 'strip': 2096, 'till': 2097, '14': 2098, 'north': 2099, 'prime': 2100, 'fals': 2101, 'asleep': 2102, 'descript': 2103, 'africa': 2104, 'texa': 2105, 'destruct': 2106, 'revel': 2107, 'semi': 2108, 'excess': 2109, 'spin': 2110, 'uninterest': 2111, 'inner': 2112, 'surfac': 2113, 'arrest': 2114, 'sitcom': 2115, 'maintain': 2116, 'controversi': 2117, 'makeup': 2118, 'massiv': 2119, 'dinosaur': 2120, 'hitchcock': 2121, 'argu': 2122, 'twin': 2123, 'melodrama': 2124, 'ludicr': 2125, 'kim': 2126, 'reject': 2127, 'expens': 2128, 'insist': 2129, 'ideal': 2130, 'stare': 2131, 'forest': 2132, 'ala': 2133, 'erot': 2134, 'nail': 2135, 'ga': 2136, 'supernatur': 2137, 'press': 2138, 'subplot': 2139, 'host': 2140, 'atroci': 2141, 'columbo': 2142, 'identifi': 2143, 'presum': 2144, 'cant': 2145, 'notch': 2146, 'dude': 2147, 'method': 2148, 'character': 2149, 'guest': 2150, 'forgett': 2151, 'plagu': 2152, 'closer': 2153, 'crude': 2154, 'foster': 2155, 'border': 2156, 'lion': 2157, 'ear': 2158, 'princess': 2159, 'landscap': 2160, 'beast': 2161, 'previous': 2162, 'storytel': 2163, 'jungl': 2164, 'birth': 2165, 'damag': 2166, 'urban': 2167, 'aunt': 2168, 'accus': 2169, 'pacino': 2170, 'bound': 2171, 'nude': 2172, 'doll': 2173, 'guid': 2174, 'chose': 2175, 'emma': 2176, 'propaganda': 2177, 'thirti': 2178, 'jess': 2179, 'warrior': 2180, 'whoever': 2181, '25': 2182, 'mainstream': 2183, 'mate': 2184, 'pet': 2185, 'latest': 2186, 'size': 2187, 'gritti': 2188, 'poster': 2189, 'exact': 2190, 'merit': 2191, 'cooper': 2192, 'upset': 2193, 'deadli': 2194, 'friday': 2195, 'citizen': 2196, 'blend': 2197, 'buff': 2198, 'rough': 2199, 'settl': 2200, 'contact': 2201, 'corps': 2202, '1990': 2203, 'ton': 2204, 'popul': 2205, 'wilson': 2206, 'contest': 2207, 'sun': 2208, 'warner': 2209, 'widow': 2210, 'pitt': 2211, 'bu': 2212, 'environ': 2213, 'metal': 2214, 'overcom': 2215, 'alic': 2216, 'rat': 2217, 'select': 2218, 'mgm': 2219, 'lift': 2220, 'ted': 2221, 'particip': 2222, 'guilti': 2223, 'link': 2224, 'revolut': 2225, 'afternoon': 2226, 'corner': 2227, 'matrix': 2228, 'corpor': 2229, '1960': 2230, 'prostitut': 2231, 'johnson': 2232, 'exagger': 2233, 'moron': 2234, 'accompani': 2235, 'holm': 2236, 'friendli': 2237, 'sincer': 2238, 'doom': 2239, 'instal': 2240, 'leagu': 2241, 'clair': 2242, 'multipl': 2243, 'hood': 2244, 'hip': 2245, 'string': 2246, 'advis': 2247, 'grim': 2248, 'junk': 2249, 'aka': 2250, 'sunday': 2251, 'examin': 2252, 'blah': 2253, 'defend': 2254, 'campi': 2255, 'lugosi': 2256, 'irish': 2257, 'pro': 2258, 'rachel': 2259, 'shake': 2260, 'confid': 2261, 'tight': 2262, 'icon': 2263, 'varieti': 2264, 'shut': 2265, 'denni': 2266, 'directli': 2267, 'jaw': 2268, 'mexican': 2269, 'medic': 2270, 'goal': 2271, 'attach': 2272, 'sullivan': 2273, 'breast': 2274, 'sentenc': 2275, 'truck': 2276, 'sarah': 2277, 'duke': 2278, 'legendari': 2279, 'vietnam': 2280, 'prior': 2281, 'courag': 2282, 'dean': 2283, 'terrorist': 2284, 'bourn': 2285, 'proceed': 2286, 'un': 2287, 'behav': 2288, 'hong': 2289, 'nose': 2290, 'donald': 2291, 'split': 2292, 'entri': 2293, 'yell': 2294, 'confess': 2295, 'lifetim': 2296, 'concentr': 2297, 'forth': 2298, 'buri': 2299, 'crush': 2300, 'borrow': 2301, 'swim': 2302, 'stolen': 2303, 'jerk': 2304, 'everywher': 2305, 'unconvinc': 2306, 'gather': 2307, 'california': 2308, 'deliveri': 2309, 'turkey': 2310, 'pan': 2311, 'lip': 2312, 'spite': 2313, 'julia': 2314, 'china': 2315, 'reward': 2316, 'offici': 2317, 'flight': 2318, 'hoffman': 2319, 'quest': 2320, 'freeman': 2321, 'downright': 2322, 'proud': 2323, 'jon': 2324, 'fade': 2325, 'encourag': 2326, 'sir': 2327, 'fabul': 2328, 'lazi': 2329, 'worthwhil': 2330, 'sink': 2331, 'betray': 2332, 'notori': 2333, 'jail': 2334, 'inept': 2335, 'bell': 2336, 'storm': 2337, 'imageri': 2338, 'cousin': 2339, 'retard': 2340, 'bag': 2341, 'susan': 2342, 'lisa': 2343, 'relev': 2344, 'teeth': 2345, 'shower': 2346, 'survivor': 2347, 'branagh': 2348, 'hugh': 2349, 'mexico': 2350, 'tremend': 2351, 'bride': 2352, 'finger': 2353, 'stab': 2354, 'alright': 2355, 'toler': 2356, 'facial': 2357, 'quirki': 2358, 'shark': 2359, 'trade': 2360, 'summari': 2361, 'hyster': 2362, 'blown': 2363, 'bitter': 2364, 'von': 2365, 'pose': 2366, 'ha': 2367, 'christ': 2368, 'afterward': 2369, 'address': 2370, 'scheme': 2371, 'cruel': 2372, 'bone': 2373, 'larri': 2374, 'ron': 2375, 'ned': 2376, 'pursu': 2377, 'distinct': 2378, 'thumb': 2379, 'feed': 2380, 'beg': 2381, 'screw': 2382, 'tour': 2383, 'swear': 2384, 'snake': 2385, 'traci': 2386, 'mechan': 2387, 'occas': 2388, 'chair': 2389, 'raw': 2390, 'stomach': 2391, 'obscur': 2392, 'photo': 2393, 'chain': 2394, 'sidney': 2395, 'holiday': 2396, 'heavili': 2397, 'southern': 2398, 'resist': 2399, 'gruesom': 2400, 'cabin': 2401, 'render': 2402, 'necessarili': 2403, 'argument': 2404, 'hardi': 2405, 'philip': 2406, 'racist': 2407, 'india': 2408, 'satan': 2409, 'understood': 2410, 'indulg': 2411, 'fourth': 2412, 'forgot': 2413, 'tongu': 2414, 'midnight': 2415, 'obnoxi': 2416, 'outfit': 2417, 'pregnant': 2418, 'integr': 2419, 'stalk': 2420, 'belov': 2421, 'lay': 2422, 'carol': 2423, 'garden': 2424, 'deeper': 2425, 'magazin': 2426, 'inhabit': 2427, 'slapstick': 2428, 'ticket': 2429, '17': 2430, 'restor': 2431, 'devot': 2432, 'incid': 2433, 'brad': 2434, 'shoe': 2435, 'lincoln': 2436, 'benefit': 2437, 'elizabeth': 2438, 'underground': 2439, 'guarante': 2440, 'anticip': 2441, 'divorc': 2442, 'disbelief': 2443, 'sandler': 2444, 'lili': 2445, 'maria': 2446, 'mildli': 2447, 'slave': 2448, 'princip': 2449, 'capit': 2450, 'creation': 2451, 'cring': 2452, 'bbc': 2453, 'explod': 2454, 'amazingli': 2455, 'greater': 2456, 'halfway': 2457, 'introduct': 2458, 'funnier': 2459, 'lesli': 2460, 'extraordinari': 2461, 'extent': 2462, 'overwhelm': 2463, 'tap': 2464, 'punish': 2465, 'enhanc': 2466, 'advantag': 2467, 'wreck': 2468, 'transfer': 2469, 'text': 2470, 'horrif': 2471, 'east': 2472, 'lo': 2473, 'plant': 2474, 'preview': 2475, 'error': 2476, 'deliber': 2477, 'jessica': 2478, 'lane': 2479, 'dynam': 2480, 'vacat': 2481, '2000': 2482, 'basi': 2483, 'homosexu': 2484, 'sophist': 2485, 'appli': 2486, 'ensu': 2487, 'miller': 2488, 'miscast': 2489, 'vincent': 2490, 'sleazi': 2491, 'mansion': 2492, 'spoken': 2493, 'uncomfort': 2494, 'measur': 2495, 'elev': 2496, 'extend': 2497, 'bollywood': 2498, 'reed': 2499, 'via': 2500, 'steel': 2501, 'cathol': 2502, 'melt': 2503, 'overact': 2504, 'goofi': 2505, 'beer': 2506, 'breathtak': 2507, 'hippi': 2508, 'blair': 2509, 'mous': 2510, 'alter': 2511, 'stanley': 2512, 'fix': 2513, 'savag': 2514, 'dentist': 2515, 'conceiv': 2516, 'assign': 2517, 'daili': 2518, 'inspector': 2519, 'succe': 2520, 'properli': 2521, 'nowaday': 2522, 'burt': 2523, 'everyday': 2524, 'sacrific': 2525, 'subsequ': 2526, 'carpent': 2527, 'oppos': 2528, 'laura': 2529, 'neck': 2530, 'massacr': 2531, 'block': 2532, 'circl': 2533, 'pool': 2534, 'access': 2535, 'concert': 2536, 'mob': 2537, 'fallen': 2538, 'fay': 2539, 'portrait': 2540, 'grey': 2541, 'lesser': 2542, 'seagal': 2543, 'christi': 2544, 'usa': 2545, 'chees': 2546, 'competit': 2547, 'relax': 2548, 'jewish': 2549, 'jake': 2550, 'sinist': 2551, 'isol': 2552, 'react': 2553, 'nonetheless': 2554, 'suitabl': 2555, 'ironi': 2556, 'spiritu': 2557, 'immens': 2558, 'stink': 2559, 'nine': 2560, 'lyric': 2561, 'chop': 2562, 'appal': 2563, '2006': 2564, 'creep': 2565, 'sold': 2566, 'rage': 2567, 'needless': 2568, 'spring': 2569, 'reduc': 2570, 'retir': 2571, 'user': 2572, 'nut': 2573, 'franchis': 2574, 'shirt': 2575, 'navi': 2576, 'showcas': 2577, 'luci': 2578, 'adopt': 2579, 'stanwyck': 2580, 'bulli': 2581, 'uninspir': 2582, 'bath': 2583, 'digit': 2584, 'jay': 2585, 'zone': 2586, 'per': 2587, 'asham': 2588, 'nurs': 2589, '2001': 2590, 'oddli': 2591, 'broadcast': 2592, 'illustr': 2593, 'upper': 2594, 'laid': 2595, 'amongst': 2596, 'sutherland': 2597, '1940': 2598, 'fulfil': 2599, 'baker': 2600, 'brando': 2601, 'throat': 2602, 'stylish': 2603, 'aspir': 2604, 'disguis': 2605, 'impli': 2606, '18': 2607, 'wwii': 2608, 'pride': 2609, 'neighborhood': 2610, 'em': 2611, 'nobl': 2612, 'pound': 2613, 'endear': 2614, 'wanna': 2615, 'thief': 2616, 'dawn': 2617, 'diseas': 2618, 'tens': 2619, '16': 2620, 'prop': 2621, 'bett': 2622, 'coher': 2623, 'rochest': 2624, 'shoulder': 2625, 'distribut': 2626, 'cinematograph': 2627, 'dinner': 2628, 'bo': 2629, 'albeit': 2630, 'shift': 2631, 'poignant': 2632, 'silenc': 2633, 'rebel': 2634, 'matthau': 2635, 'forti': 2636, 'surf': 2637, 'contract': 2638, 'snow': 2639, 'knife': 2640, 'shout': 2641, 'wash': 2642, 'function': 2643, 'eeri': 2644, 'reunion': 2645, 'derek': 2646, 'duti': 2647, 'proof': 2648, 'internet': 2649, 'silver': 2650, 'heat': 2651, 'instinct': 2652, 'elvira': 2653, 'mindless': 2654, 'henc': 2655, 'chuck': 2656, 'horrend': 2657, 'cancel': 2658, 'height': 2659, 'cannib': 2660, 'widmark': 2661, 'alik': 2662, 'etern': 2663, 'greatli': 2664, 'spielberg': 2665, 'incoher': 2666, 'mill': 2667, 'premier': 2668, 'neat': 2669, 'musician': 2670, 'repetit': 2671, 'innov': 2672, 'absorb': 2673, 'pie': 2674, 'torn': 2675, 'glori': 2676, 'elvi': 2677, 'britain': 2678, 'crisi': 2679, 'blank': 2680, 'itali': 2681, 'racism': 2682, 'redempt': 2683, 'trite': 2684, 'announc': 2685, 'lovabl': 2686, 'precis': 2687, 'horrifi': 2688, 'wealthi': 2689, 'infam': 2690, 'bang': 2691, 'homag': 2692, 'nelson': 2693, 'diamond': 2694, 'fbi': 2695, 'burton': 2696, 'parallel': 2697, 'helen': 2698, 'dedic': 2699, 'ensembl': 2700, 'happili': 2701, 'chaplin': 2702, 'resolut': 2703, 'wilder': 2704, 'streisand': 2705, 'hammer': 2706, 'flop': 2707, 'pat': 2708, 'conclud': 2709, 'broke': 2710, 'oil': 2711, 'carter': 2712, 'st': 2713, 'mar': 2714, 'disagre': 2715, 'plastic': 2716, 'factori': 2717, 'triumph': 2718, 'cube': 2719, 'fighter': 2720, 'climb': 2721, 'own': 2722, 'vega': 2723, 'chuckl': 2724, 'weight': 2725, 'rocket': 2726, 'row': 2727, 'bush': 2728, 'march': 2729, 'lust': 2730, 'sensibl': 2731, 'enorm': 2732, 'wherea': 2733, 'spare': 2734, 'unforgett': 2735, 'boot': 2736, 'thug': 2737, 'dane': 2738, 'mst3k': 2739, 'dump': 2740, 'meaning': 2741, 'luca': 2742, 'kurt': 2743, 'stress': 2744, 'adequ': 2745, 'difficulti': 2746, 'dear': 2747, 'butt': 2748, 'brand': 2749, 'engin': 2750, 'fifti': 2751, 'rap': 2752, 'threat': 2753, 'caricatur': 2754, 'arnold': 2755, 'bobbi': 2756, 'karloff': 2757, 'arrog': 2758, 'secretari': 2759, 'journalist': 2760, 'elabor': 2761, 'polish': 2762, 'ego': 2763, 'fest': 2764, 'homeless': 2765, 'ralph': 2766, 'swing': 2767, 'hamlet': 2768, 'flynn': 2769, 'barri': 2770, 'grate': 2771, 'conspiraci': 2772, 'float': 2773, 'tool': 2774, 'spike': 2775, 'arrang': 2776, 'fanci': 2777, 'induc': 2778, 'simpson': 2779, 'unbear': 2780, 'resort': 2781, 'puppet': 2782, 'cruis': 2783, 'tribut': 2784, 'choreograph': 2785, 'guilt': 2786, 'muppet': 2787, 'boll': 2788, 'exercis': 2789, 'pig': 2790, 'basement': 2791, 'phillip': 2792, 'item': 2793, '24': 2794, 'file': 2795, 'slip': 2796, 'editor': 2797, 'toilet': 2798, 'babe': 2799, 'tower': 2800, 'fianc': 2801, 'document': 2802, 'ham': 2803, 'stan': 2804, 'puzzl': 2805, 'medium': 2806, 'korean': 2807, 'ward': 2808, 'layer': 2809, 'scarecrow': 2810, 'superfici': 2811, 'spark': 2812, 'assur': 2813, 'inexplic': 2814, 'slaughter': 2815, 'larger': 2816, 'denzel': 2817, 'catherin': 2818, 'territori': 2819, 'transit': 2820, 'librari': 2821, 'portion': 2822, 'glover': 2823, 'doc': 2824, 'orient': 2825, 'philosoph': 2826, 'minim': 2827, 'persona': 2828, 'boredom': 2829, 'shi': 2830, 'jeremi': 2831, 'walken': 2832, 'financi': 2833, 'sneak': 2834, 'dorothi': 2835, 'pg': 2836, 'jet': 2837, 'wolf': 2838, 'curti': 2839, 'owe': 2840, 'ban': 2841, 'eleph': 2842, 'profound': 2843, 'multi': 2844, 'cusack': 2845, 'ambigu': 2846, 'whale': 2847, 'backdrop': 2848, 'hudson': 2849, 'metaphor': 2850, 'rave': 2851, 'hack': 2852, 'birthday': 2853, 'ultra': 2854, 'notion': 2855, 'stiff': 2856, 'viru': 2857, 'elsewher': 2858, 'union': 2859, '2005': 2860, 'gadget': 2861, 'implaus': 2862, 'eastwood': 2863, 'urg': 2864, 'slight': 2865, '1st': 2866, 'pad': 2867, 'reader': 2868, 'lloyd': 2869, 'squar': 2870, 'bibl': 2871, 'newspap': 2872, 'poison': 2873, 'afford': 2874, 'disc': 2875, 'eva': 2876, 'canada': 2877, 'distanc': 2878, 'superhero': 2879, 'hawk': 2880, 'deriv': 2881, 'drown': 2882, 'charisma': 2883, 'essenc': 2884, 'cure': 2885, 'huh': 2886, 'restaur': 2887, 'health': 2888, 'skit': 2889, 'montag': 2890, 'heston': 2891, 'sadist': 2892, 'spread': 2893, 'button': 2894, 'fetch': 2895, 'dealt': 2896, 'muslim': 2897, 'companion': 2898, 'gradual': 2899, 'peak': 2900, 'lab': 2901, 'maniac': 2902, 'invest': 2903, 'godfath': 2904, 'scoobi': 2905, 'estat': 2906, 'gothic': 2907, 'tea': 2908, 'subtleti': 2909, 'servant': 2910, 'alli': 2911, 'kane': 2912, 'cup': 2913, 'countless': 2914, 'ritter': 2915, 'miik': 2916, 'elect': 2917, 'iii': 2918, 'electr': 2919, 'heroic': 2920, 'salli': 2921, 'charismat': 2922, 'briefli': 2923, 'tender': 2924, 'bud': 2925, 'neil': 2926, 'toss': 2927, 'nuanc': 2928, 'wannab': 2929, 'admittedli': 2930, 'ingredi': 2931, 'resourc': 2932, 'grandmoth': 2933, 'reel': 2934, 'cole': 2935, 'label': 2936, 'poverti': 2937, 'pit': 2938, 'stood': 2939, 'dawson': 2940, 'stronger': 2941, 'shall': 2942, 'pauli': 2943, 'gate': 2944, 'kubrick': 2945, 'mafia': 2946, 'reev': 2947, 'mild': 2948, 'punk': 2949, 'carrey': 2950, 'assault': 2951, 'useless': 2952, 'tag': 2953, 'terri': 2954, 'outcom': 2955, 'smooth': 2956, 'burst': 2957, 'cox': 2958, 'bakshi': 2959, 'astair': 2960, 'smash': 2961, 'fond': 2962, 'easier': 2963, 'updat': 2964, 'ian': 2965, 'cardboard': 2966, 'sketch': 2967, 'vulner': 2968, 'melodramat': 2969, 'increasingli': 2970, 'resolv': 2971, 'qualifi': 2972, '2002': 2973, 'vari': 2974, 'coincid': 2975, 'exchang': 2976, 'divers': 2977, 'fist': 2978, 'samurai': 2979, 'rex': 2980, 'templ': 2981, 'scratch': 2982, 'reynold': 2983, 'luckili': 2984, 'insert': 2985, 'be': 2986, 'brillianc': 2987, 'conveni': 2988, 'blast': 2989, 'suspend': 2990, 'tame': 2991, 'soprano': 2992, 'farm': 2993, 'gotta': 2994, 'meat': 2995, 'ambiti': 2996, 'matthew': 2997, 'nuclear': 2998, 'fisher': 2999, 'strictli': 3000, 'pin': 3001, 'hamilton': 3002, 'coach': 3003, 'seventi': 3004, 'jami': 3005, 'walker': 3006, 'spooki': 3007, 'kudo': 3008, 'grasp': 3009, 'revers': 3010, 'ninja': 3011, 'closet': 3012, 'worthless': 3013, 'timeless': 3014, 'brosnan': 3015, 'convolut': 3016, 'recreat': 3017, 'cave': 3018, 'instantli': 3019, 'struck': 3020, 'butcher': 3021, 'empir': 3022, 'clock': 3023, 'monk': 3024, 'eccentr': 3025, 'joey': 3026, 'discoveri': 3027, 'selfish': 3028, 'evok': 3029, 'sidekick': 3030, 'gray': 3031, 'wipe': 3032, 'inconsist': 3033, 'cliff': 3034, 'eighti': 3035, 'declar': 3036, 'seller': 3037, 'mitchel': 3038, 'norman': 3039, 'fifteen': 3040, 'bleak': 3041, 'pal': 3042, 'clown': 3043, 'communist': 3044, 'importantli': 3045, 'sloppi': 3046, 'partli': 3047, 'miracl': 3048, 'chew': 3049, 'ho': 3050, 'aforement': 3051, 'enthusiast': 3052, 'destin': 3053, 'debat': 3054, 'lifestyl': 3055, 'flawless': 3056, 'stoog': 3057, 'superbl': 3058, 'farc': 3059, 'cheek': 3060, 'australia': 3061, 'websit': 3062, 'piano': 3063, '45': 3064, 'psychiatrist': 3065, 'seed': 3066, 'wick': 3067, 'bash': 3068, 'splatter': 3069, 'emili': 3070, 'incompet': 3071, 'regardless': 3072, 'dash': 3073, 'dire': 3074, 'wrestl': 3075, 'soviet': 3076, 'drivel': 3077, 'kitchen': 3078, 'abc': 3079, 'anni': 3080, 'slice': 3081, 'pressur': 3082, 'directori': 3083, 'akshay': 3084, 'beaten': 3085, 'recov': 3086, 'seduc': 3087, 'cagney': 3088, 'increas': 3089, 'boil': 3090, 'ken': 3091, 'flower': 3092, 'artifici': 3093, 'duo': 3094, 'cia': 3095, 'jar': 3096, 'prize': 3097, 'lou': 3098, 'blob': 3099, 'glow': 3100, 'cameron': 3101, 'mann': 3102, 'pleasantli': 3103, 'dave': 3104, 'curios': 3105, 'distant': 3106, 'helicopt': 3107, 'suppli': 3108, 'doo': 3109, 'chapter': 3110, 'judi': 3111, 'splendid': 3112, 'ranger': 3113, 'eleg': 3114, 'panic': 3115, 'web': 3116, 'drunken': 3117, 'craven': 3118, 'goldberg': 3119, 'combat': 3120, 'turner': 3121, 'craig': 3122, 'psychot': 3123, 'favour': 3124, 'ellen': 3125, 'perri': 3126, 'laurel': 3127, 'hop': 3128, 'francisco': 3129, 'glenn': 3130, 'gentl': 3131, 'min': 3132, 'shortli': 3133, 'graduat': 3134, 'gandhi': 3135, 'slightest': 3136, 'flip': 3137, '20th': 3138, 'falk': 3139, 'wizard': 3140, 'plausibl': 3141, 'alexand': 3142, 'ruth': 3143, 'philosophi': 3144, 'greek': 3145, 'fx': 3146, 'modesti': 3147, 'rid': 3148, 'hatr': 3149, 'tall': 3150, 'manhattan': 3151, 'futurist': 3152, 'ocean': 3153, 'felix': 3154, 'we': 3155, 'fund': 3156, 'knight': 3157, 'dracula': 3158, 'jealou': 3159, 'preciou': 3160, 'legal': 3161, 'holi': 3162, 'lend': 3163, 'harm': 3164, 'unpleas': 3165, 'reviv': 3166, 'digniti': 3167, 'thread': 3168, 'explicit': 3169, 'tank': 3170, 'mock': 3171, 'nod': 3172, 'childish': 3173, 'forbidden': 3174, 'ami': 3175, 'scientif': 3176, 'bless': 3177, 'overdon': 3178, 'giallo': 3179, 'awaken': 3180, 'nerv': 3181, 'thick': 3182, 'broad': 3183, 'yesterday': 3184, 'unwatch': 3185, '99': 3186, 'awe': 3187, 'margaret': 3188, 'fever': 3189, 'elderli': 3190, 'torment': 3191, '2004': 3192, 'pirat': 3193, 'mel': 3194, 'verhoeven': 3195, 'eve': 3196, 'repeatedli': 3197, 'politician': 3198, 'griffith': 3199, 'bin': 3200, 'rivet': 3201, 'custom': 3202, 'royal': 3203, 'ambit': 3204, 'timothi': 3205, 'ah': 3206, 'uniform': 3207, 'publish': 3208, 'romero': 3209, 'roman': 3210, 'acclaim': 3211, 'automat': 3212, 'kay': 3213, 'lean': 3214, 'absenc': 3215, 'eas': 3216, 'stiller': 3217, 'launch': 3218, 'gabriel': 3219, 'tomato': 3220, 'pulp': 3221, 'sunshin': 3222, 'warren': 3223, 'foul': 3224, 'stinker': 3225, 'antic': 3226, 'darker': 3227, 'crook': 3228, 'transport': 3229, 'wallac': 3230, 'homicid': 3231, 'pierc': 3232, 'phrase': 3233, 'purpl': 3234, 'bathroom': 3235, 'termin': 3236, 'q': 3237, 'horrid': 3238, 'eyr': 3239, 'marin': 3240, 'coloni': 3241, 'li': 3242, 'choreographi': 3243, 'contrari': 3244, '2003': 3245, 'kenneth': 3246, 'pray': 3247, 'prom': 3248, 'juvenil': 3249, 'saint': 3250, 'brazil': 3251, 'revolutionari': 3252, 'ought': 3253, 'viciou': 3254, 'awak': 3255, 'packag': 3256, 'donna': 3257, 'hollow': 3258, 'evolv': 3259, 'sixti': 3260, 'album': 3261, 'rambo': 3262, 'karen': 3263, 'ireland': 3264, 'option': 3265, 'dose': 3266, 'twelv': 3267, 'kapoor': 3268, 'conserv': 3269, 'blade': 3270, 'nerd': 3271, 'mildr': 3272, 'candid': 3273, 'ramon': 3274, 'boast': 3275, 'stole': 3276, 'beatti': 3277, 'defi': 3278, 'overr': 3279, 'mummi': 3280, 'flame': 3281, 'confirm': 3282, 'detract': 3283, 'trio': 3284, 'astonish': 3285, 'protest': 3286, 'altman': 3287, 'collabor': 3288, 'global': 3289, 'natali': 3290, 'kirk': 3291, 'funer': 3292, 'fulci': 3293, 'jazz': 3294, 'delici': 3295, 'bull': 3296, 'shade': 3297, 'bottl': 3298, 'nicholson': 3299, 'leap': 3300, 'racial': 3301, 'tommi': 3302, 'whip': 3303, 'spit': 3304, 'blake': 3305, 'enterpris': 3306, 'destini': 3307, 'audio': 3308, 'mystic': 3309, 'yellow': 3310, 'staff': 3311, 'neo': 3312, 'enchant': 3313, 'altogeth': 3314, 'todd': 3315, 'swedish': 3316, 'reunit': 3317, 'inherit': 3318, 'vivid': 3319, 'threw': 3320, 'pseudo': 3321, 'popcorn': 3322, 'adolesc': 3323, 'meaningless': 3324, 'harder': 3325, 'bedroom': 3326, 'fonda': 3327, 'visibl': 3328, 'merci': 3329, 'reserv': 3330, 'jew': 3331, 'respond': 3332, 'moodi': 3333, 'ruthless': 3334, 'wire': 3335, 'decor': 3336, 'tip': 3337, 'befriend': 3338, 'edi': 3339, 'voight': 3340, 'crocodil': 3341, 'await': 3342, 'kennedi': 3343, 'lemmon': 3344, 'exhibit': 3345, 'fanat': 3346, 'bust': 3347, 'atlanti': 3348, 'suspici': 3349, 'roommat': 3350, 'synopsi': 3351, 'lawrenc': 3352, 'madonna': 3353, 'uneven': 3354, 'leonard': 3355, 'unsettl': 3356, 'clint': 3357, 'clumsi': 3358, 'holli': 3359, 'bargain': 3360, 'audit': 3361, 'rural': 3362, '2007': 3363, 'abysm': 3364, 'chao': 3365, 'garner': 3366, 'centr': 3367, 'palma': 3368, 'ventur': 3369, 'bold': 3370, 'dimens': 3371, 'voyag': 3372, 'carl': 3373, 'incident': 3374, 'bradi': 3375, 'echo': 3376, 'cd': 3377, 'acknowledg': 3378, 'immigr': 3379, 'characterist': 3380, 'daddi': 3381, 'cuba': 3382, 'hart': 3383, 'neglect': 3384, 'humili': 3385, 'ant': 3386, '2nd': 3387, 'nearbi': 3388, 'cari': 3389, 'troop': 3390, 'imperson': 3391, 'elimin': 3392, 'tiger': 3393, 'mall': 3394, 'trail': 3395, 'lit': 3396, 'versu': 3397, 'wealth': 3398, 'poetic': 3399, 'timon': 3400, 'repuls': 3401, 'domest': 3402, 'saga': 3403, 'mickey': 3404, 'pun': 3405, 'infect': 3406, 'marshal': 3407, 'jeffrey': 3408, 'celluloid': 3409, 'paus': 3410, 'mistaken': 3411, 'collaps': 3412, 'homer': 3413, 'solo': 3414, 'prejudic': 3415, 'sore': 3416, '1996': 3417, 'assembl': 3418, 'gear': 3419, 'apolog': 3420, 'promin': 3421, 'cake': 3422, 'hbo': 3423, 'tribe': 3424, 'interrupt': 3425, 'inan': 3426, 'leon': 3427, 'coffe': 3428, 'pant': 3429, 'milk': 3430, 'inappropri': 3431, 'equip': 3432, 'coat': 3433, 'harvey': 3434, 'undoubtedli': 3435, 'chest': 3436, 'ginger': 3437, 'olivi': 3438, 'airplan': 3439, 'exot': 3440, 'highest': 3441, 'consum': 3442, 'devast': 3443, 'pot': 3444, 'jenni': 3445, 'aveng': 3446, 'retain': 3447, 'furthermor': 3448, 'pen': 3449, 'maggi': 3450, 'brooklyn': 3451, 'trace': 3452, 'humbl': 3453, 'primari': 3454, 'solut': 3455, 'colonel': 3456, 'colleagu': 3457, 'embrac': 3458, 'florida': 3459, 'polanski': 3460, 'institut': 3461, 'instant': 3462, 'vulgar': 3463, 'seduct': 3464, 'strain': 3465, 'gender': 3466, 'cope': 3467, 'wive': 3468, '1999': 3469, '3rd': 3470, 'bowl': 3471, 'illog': 3472, 'poke': 3473, 'linda': 3474, 'godzilla': 3475, 'principl': 3476, 'smaller': 3477, 'ya': 3478, 'dutch': 3479, 'disabl': 3480, 'rick': 3481, 'sale': 3482, 'outer': 3483, 'descend': 3484, 'dian': 3485, 'glamor': 3486, 'cue': 3487, 'primarili': 3488, 'lol': 3489, 'gloriou': 3490, 'mixtur': 3491, 'predecessor': 3492, 'blatant': 3493, 'secondli': 3494, 'rabbit': 3495, 'dive': 3496, 'hal': 3497, 'beneath': 3498, 'yard': 3499, 'devoid': 3500, 'inferior': 3501, 'scope': 3502, 'dud': 3503, 'bubbl': 3504, 'vast': 3505, 'gundam': 3506, 'hideou': 3507, 'trademark': 3508, 'alfr': 3509, 'casual': 3510, 'senseless': 3511, 'shelf': 3512, 'alert': 3513, 'april': 3514, 'breed': 3515, 'arab': 3516, 'garbo': 3517, 'domino': 3518, 'disjoint': 3519, 'et': 3520, 'aggress': 3521, 'invas': 3522, 'streep': 3523, 'myer': 3524, 'countrysid': 3525, 'simplist': 3526, 'talki': 3527, 'grinch': 3528, 'pearl': 3529, 'museum': 3530, 'z': 3531, 'shirley': 3532, 'robberi': 3533, 'experiment': 3534, 'rendit': 3535, 'khan': 3536, 'loyal': 3537, 'illeg': 3538, 'robinson': 3539, 'disgrac': 3540, 'defens': 3541, 'hardcor': 3542, 'sh': 3543, 'hopeless': 3544, 'applaud': 3545, 'acid': 3546, 'uwe': 3547, 'slide': 3548, 'vanish': 3549, 'mayor': 3550, 'obtain': 3551, 'stellar': 3552, 'oz': 3553, 'unhappi': 3554, 'stir': 3555, 'maci': 3556, 'stack': 3557, 'mail': 3558, 'boom': 3559, 'soccer': 3560, 'topless': 3561, 'tempt': 3562, 'fri': 3563, 'scroog': 3564, 'psychic': 3565, 'recruit': 3566, 'incomprehens': 3567, 'blew': 3568, 'counter': 3569, 'declin': 3570, 'span': 3571, 'wont': 3572, 'spider': 3573, 'hartley': 3574, 'emphasi': 3575, 'dicken': 3576, 'rifl': 3577, 'craze': 3578, 'tenant': 3579, 'berlin': 3580, 'grandfath': 3581, 'diana': 3582, 'dismiss': 3583, 'amanda': 3584, 'woo': 3585, 'shaw': 3586, 'bitch': 3587, 'sympath': 3588, 'ration': 3589, 'wet': 3590, 'goer': 3591, 'intim': 3592, 'niro': 3593, 'shed': 3594, 'justin': 3595, 'resurrect': 3596, 'trashi': 3597, 'ethnic': 3598, 'revolt': 3599, 'parad': 3600, 'faster': 3601, 'porno': 3602, 'riot': 3603, 'sibl': 3604, 'lumet': 3605, 'wendi': 3606, 'hopper': 3607, 'wheel': 3608, 'commend': 3609, 'unreal': 3610, 'ensur': 3611, 'patriot': 3612, 'dealer': 3613, 'slick': 3614, 'weakest': 3615, 'steam': 3616, 'eager': 3617, 'immort': 3618, 'ballet': 3619, 'partial': 3620, 'gap': 3621, 'enlighten': 3622, 'biographi': 3623, 'honesti': 3624, 'mario': 3625, 'region': 3626, 'nephew': 3627, 'lena': 3628, 'jonathan': 3629, 'feminist': 3630, 'farmer': 3631, 'andr': 3632, 'hesit': 3633, 'choru': 3634, 'worm': 3635, '00': 3636, 'rider': 3637, 'leo': 3638, 'macarthur': 3639, 'blunt': 3640, 'victori': 3641, 'sandra': 3642, 'repress': 3643, 'similarli': 3644, 'skull': 3645, 'psychopath': 3646, 'hung': 3647, 'vice': 3648, 'owen': 3649, 'snap': 3650, 'charlott': 3651, 'kingdom': 3652, 'wore': 3653, 'sappi': 3654, 'nostalg': 3655, 'morri': 3656, 'prequel': 3657, 'util': 3658, 'safeti': 3659, 'mutant': 3660, 'properti': 3661, 'composit': 3662, 'confin': 3663, 'franco': 3664, 'bonu': 3665, 'rambl': 3666, 'speci': 3667, 'dust': 3668, 'farrel': 3669, 'tad': 3670, 'bumbl': 3671, 'despair': 3672, 'rocki': 3673, 'deed': 3674, 'dalton': 3675, 'compens': 3676, 'miseri': 3677, 'montana': 3678, 'whoopi': 3679, 'rope': 3680, 'valuabl': 3681, 'latin': 3682, 'heartbreak': 3683, 'snl': 3684, 'bergman': 3685, 'compass': 3686, 'strand': 3687, 'drain': 3688, 'acquir': 3689, 'repli': 3690, 'drum': 3691, 'emperor': 3692, 'cg': 3693, 'pattern': 3694, 'recycl': 3695, 'hyde': 3696, 'thru': 3697, 'kyle': 3698, 'nervou': 3699, 'exit': 3700, 'tail': 3701, '1972': 3702, 'campbel': 3703, 'bow': 3704, 'del': 3705, 'pour': 3706, 'mistress': 3707, 'roth': 3708, 'rotten': 3709, 'downhil': 3710, '35': 3711, 'carradin': 3712, 'slug': 3713, 'tonight': 3714, 'gimmick': 3715, 'rapist': 3716, 'da': 3717, 'orson': 3718, 'oppress': 3719, 'percept': 3720, 'olli': 3721, 'wacki': 3722, 'gal': 3723, 'airport': 3724, 'chess': 3725, 'contempl': 3726, 'romp': 3727, 'martian': 3728, 'bleed': 3729, 'radic': 3730, 'arguabl': 3731, 'dazzl': 3732, 'pursuit': 3733, 'attorney': 3734, 'arc': 3735, 'banal': 3736, 'melodi': 3737, 'slash': 3738, 'mislead': 3739, 'preach': 3740, 'tackl': 3741, 'belt': 3742, 'pervert': 3743, 'pervers': 3744, 'champion': 3745, 'programm': 3746, 'paltrow': 3747, 'unpredict': 3748, 'stilt': 3749, 'tooth': 3750, 'taught': 3751, 'edgar': 3752, '1983': 3753, 'heal': 3754, 'shelley': 3755, 'raymond': 3756, 'gambl': 3757, 'vocal': 3758, 'poem': 3759, 'chicken': 3760, 'cleverli': 3761, 'rubi': 3762, 'duval': 3763, 'marti': 3764, 'sensat': 3765, 'mesmer': 3766, 'plight': 3767, 'conneri': 3768, 'bela': 3769, 'passeng': 3770, 'uplift': 3771, 'vengeanc': 3772, 'maid': 3773, 'franki': 3774, 'dixon': 3775, 'virginia': 3776, 'employe': 3777, 'closest': 3778, 'orang': 3779, 'tiresom': 3780, 'graham': 3781, 'outing': 3782, 'profan': 3783, 'paranoia': 3784, 'calm': 3785, 'mute': 3786, 'quarter': 3787, 'climact': 3788, 'engross': 3789, 'swallow': 3790, 'secretli': 3791, 'clone': 3792, 'iran': 3793, 'inject': 3794, 'scottish': 3795, 'habit': 3796, 'suffic': 3797, 'gerard': 3798, 'extens': 3799, 'monologu': 3800, 'yawn': 3801, 'crystal': 3802, 'lundgren': 3803, 'convincingli': 3804, 'abraham': 3805, '1968': 3806, 'volum': 3807, 'tube': 3808, 'sirk': 3809, 'whine': 3810, 'bay': 3811, 'numb': 3812, 'amitabh': 3813, 'giggl': 3814, 'pokemon': 3815, 'backward': 3816, 'earl': 3817, 'trend': 3818, 'linger': 3819, 'surpass': 3820, 'plod': 3821, 'meander': 3822, 'underst': 3823, 'nichola': 3824, 'grotesqu': 3825, 'poetri': 3826, 'richardson': 3827, 'bend': 3828, 'lowest': 3829, 'austen': 3830, 'chicago': 3831, 'franci': 3832, 'profess': 3833, 'fed': 3834, 'expand': 3835, 'frankenstein': 3836, 'dispos': 3837, 'junior': 3838, 'ethan': 3839, 'spock': 3840, 'septemb': 3841, 'taxi': 3842, 'im': 3843, 'abort': 3844, 'mundan': 3845, 'descent': 3846, 'hum': 3847, 'catchi': 3848, 'simplic': 3849, 'sue': 3850, 'myth': 3851, 'instrument': 3852, 'muddl': 3853, 'tourist': 3854, 'household': 3855, 'waitress': 3856, 'eugen': 3857, 'spoke': 3858, 'econom': 3859, 'greedi': 3860, 'rant': 3861, 'literatur': 3862, 'compliment': 3863, 'der': 3864, 'rubber': 3865, 'cannon': 3866, 'lure': 3867, 'nostalgia': 3868, 'dysfunct': 3869, 'stallon': 3870, 'map': 3871, 'furi': 3872, 'molli': 3873, 'irrelev': 3874, 'flee': 3875, 'firstli': 3876, 'alongsid': 3877, 'june': 3878, 'mortal': 3879, 'crucial': 3880, 'stale': 3881, 'duck': 3882, 'sissi': 3883, 'eaten': 3884, 'equival': 3885, 'phantom': 3886, 'louis': 3887, 'deaf': 3888, 'cent': 3889, 'insur': 3890, 'coast': 3891, 'recognit': 3892, 'mankind': 3893, 'omen': 3894, 'phoni': 3895, 'hello': 3896, 'lang': 3897, 'damon': 3898, 'dictat': 3899, 'occupi': 3900, 'bacal': 3901, 'recognis': 3902, 'dement': 3903, 'randi': 3904, 'carel': 3905, 'grayson': 3906, 'loyalti': 3907, 'bump': 3908, 'lengthi': 3909, 'newli': 3910, 'bike': 3911, 'twilight': 3912, 'reign': 3913, 'rude': 3914, 'wisdom': 3915, 'likewis': 3916, 'daisi': 3917, 'dreari': 3918, '1973': 3919, 'distinguish': 3920, 'heel': 3921, 'onlin': 3922, 'buffalo': 3923, 'damm': 3924, 'ashley': 3925, 'freez': 3926, 'drake': 3927, 'biko': 3928, 'rooney': 3929, 'antwon': 3930, 'labor': 3931, 'blackmail': 3932, 'cyborg': 3933, 'unorigin': 3934, 'provoc': 3935, 'interior': 3936, 'pink': 3937, 'worn': 3938, 'approv': 3939, 'incorpor': 3940, 'emphas': 3941, 'nineti': 3942, 'inher': 3943, 'exposur': 3944, 'startl': 3945, 'sailor': 3946, 'butler': 3947, 'basketbal': 3948, 'attribut': 3949, 'chronicl': 3950, 'prey': 3951, 'proce': 3952, 'analysi': 3953, 'baddi': 3954, 'vein': 3955, 'boxer': 3956, 'ridden': 3957, 'barrymor': 3958, 'tunnel': 3959, 'keith': 3960, 'carla': 3961, 'stalker': 3962, 'predat': 3963, 'simmon': 3964, 'condemn': 3965, 'degrad': 3966, 'meg': 3967, 'barrel': 3968, 'indiffer': 3969, 'millionair': 3970, 'hypnot': 3971, 'drift': 3972, 'julian': 3973, 'improvis': 3974, 'mighti': 3975, 'fleet': 3976, 'underli': 3977, 'er': 3978, 'elm': 3979, 'bunni': 3980, 'belushi': 3981, 'substitut': 3982, 'undeni': 3983, 'nicol': 3984, 'unrel': 3985, 'robbin': 3986, 'walsh': 3987, 'mormon': 3988, 'othello': 3989, 'meyer': 3990, 'reid': 3991, 'lampoon': 3992, 'enthusiasm': 3993, 'exquisit': 3994, 'disord': 3995, 'roof': 3996, 'watson': 3997, 'novak': 3998, 'nyc': 3999, '3d': 4000, 'hay': 4001, 'vital': 4002, 'alarm': 4003, 'priceless': 4004, 'edgi': 4005, 'rukh': 4006, 'shove': 4007, 'dolph': 4008, 'alison': 4009, 'mtv': 4010, 'palac': 4011, 'errol': 4012, 'greed': 4013, 'warmth': 4014, 'firm': 4015, 'marion': 4016, 'agenda': 4017, 'unawar': 4018, 'preserv': 4019, 'session': 4020, 'crown': 4021, 'peck': 4022, 'coup': 4023, 'iraq': 4024, 'eastern': 4025, 'sergeant': 4026, 'championship': 4027, 'showdown': 4028, 'drip': 4029, 'unleash': 4030, 'minimum': 4031, 'campaign': 4032, 'israel': 4033, 'spain': 4034, 'simultan': 4035, 'what': 4036, 'nun': 4037, 'distort': 4038, 'petti': 4039, '13th': 4040, 'peril': 4041, 'gestur': 4042, 'glanc': 4043, 'pamela': 4044, '1933': 4045, 'cassidi': 4046, 'randomli': 4047, 'testament': 4048, 'angela': 4049, 'orlean': 4050, 'profit': 4051, 'ponder': 4052, 'beatl': 4053, 'valentin': 4054, 'thompson': 4055, 'zizek': 4056, 'brenda': 4057, 'quinn': 4058, 'restrain': 4059, 'han': 4060, 'kurosawa': 4061, 'travesti': 4062, 'valley': 4063, 'stake': 4064, 'shootout': 4065, 'miyazaki': 4066, '1984': 4067, 'regist': 4068, 'climat': 4069, 'contradict': 4070, 'reson': 4071, 'realm': 4072, 'crow': 4073, 'bro': 4074, 'cream': 4075, 'jan': 4076, 'empathi': 4077, 'unimagin': 4078, 'rout': 4079, 'represent': 4080, 'exposit': 4081, 'fido': 4082, 'cooki': 4083, 'crawl': 4084, 'gentleman': 4085, 'perpetu': 4086, 'calib': 4087, 'buster': 4088, 'scotland': 4089, 'mon': 4090, 'stroke': 4091, 'wig': 4092, 'din': 4093, 'sabrina': 4094, 'wax': 4095, 'unseen': 4096, 'dana': 4097, 'demis': 4098, 'shaki': 4099, 'abomin': 4100, 'warrant': 4101, '1987': 4102, 'censor': 4103, 'derang': 4104, 'ross': 4105, 'spacey': 4106, 'unsatisfi': 4107, 'businessman': 4108, 'absent': 4109, 'josh': 4110, 'sucker': 4111, 'painter': 4112, 'delic': 4113, '1997': 4114, 'meryl': 4115, 'distress': 4116, 'monoton': 4117, 'baldwin': 4118, 'sammi': 4119, 'cloud': 4120, 'femm': 4121, 'ustinov': 4122, 'pretens': 4123, 'tacki': 4124, 'perceiv': 4125, 'geek': 4126, 'greg': 4127, 'soderbergh': 4128, 'passabl': 4129, 'darren': 4130, 'mclaglen': 4131, 'traumat': 4132, 'pole': 4133, 'stargat': 4134, 'shoddi': 4135, 'compromis': 4136, 'fuller': 4137, 'crawford': 4138, 'uncov': 4139, 'valid': 4140, 'seal': 4141, 'deniro': 4142, 'nathan': 4143, 'accuraci': 4144, '1993': 4145, 'exclus': 4146, 'furiou': 4147, 'austin': 4148, 'norm': 4149, 'dee': 4150, 'unravel': 4151, 'anchor': 4152, 'deceas': 4153, 'verbal': 4154, 'reluct': 4155, 'tech': 4156, 'kumar': 4157, 'click': 4158, 'antonioni': 4159, 'fenc': 4160, 'tarantino': 4161, 'fog': 4162, 'jewel': 4163, 'correctli': 4164, 'judgment': 4165, 'wholli': 4166, 'primit': 4167, 'sid': 4168, 'polici': 4169, 'expedit': 4170, 'clash': 4171, 'crippl': 4172, 'joel': 4173, 'sustain': 4174, 'temper': 4175, 'roller': 4176, 'patienc': 4177, 'dreck': 4178, 'alec': 4179, 'clerk': 4180, 'shanghai': 4181, 'sand': 4182, 'enforc': 4183, 'hallucin': 4184, '1971': 4185, 'conduct': 4186, 'malon': 4187, 'sunni': 4188, 'behold': 4189, 'sheet': 4190, 'trait': 4191, 'mode': 4192, 'logan': 4193, 'slam': 4194, 'darn': 4195, 'nicola': 4196, 'fought': 4197, 'debt': 4198, 'bake': 4199, 'murray': 4200, '1995': 4201, 'tax': 4202, 'ritual': 4203, 'unfair': 4204, 'wang': 4205, 'fart': 4206, 'seldom': 4207, 'wretch': 4208, 'fabric': 4209, '3000': 4210, 'pocket': 4211, '2008': 4212, 'vanc': 4213, 'exhaust': 4214, 'legaci': 4215, 'shell': 4216, 'bias': 4217, 'schedul': 4218, 'technicolor': 4219, 'runner': 4220, 'pete': 4221, 'soup': 4222, 'outlin': 4223, 'stuart': 4224, 'robber': 4225, 'critiqu': 4226, 'sweep': 4227, 'preposter': 4228, 'scriptwrit': 4229, 'penni': 4230, 'phil': 4231, 'despis': 4232, 'stark': 4233, 'canyon': 4234, 'fundament': 4235, 'guitar': 4236, 'rita': 4237, 'bridget': 4238, 'clau': 4239, 'squad': 4240, 'divid': 4241, 'grief': 4242, 'isabel': 4243, 'tactic': 4244, 'helpless': 4245, 'preston': 4246, 'conscious': 4247, 'gregori': 4248, 'culmin': 4249, 'jacket': 4250, 'vomit': 4251, 'marc': 4252, 'downey': 4253, 'drove': 4254, 'invad': 4255, 'rear': 4256, 'newman': 4257, 'alicia': 4258, 'bloom': 4259, 'liberti': 4260, 'alley': 4261, 'rehash': 4262, 'delv': 4263, 'unexpectedli': 4264, 'propos': 4265, 'boyl': 4266, 'consciou': 4267, 'sugar': 4268, 'palanc': 4269, 'lacklust': 4270, 'russia': 4271, 'jodi': 4272, 'inabl': 4273, 'cigarett': 4274, 'flair': 4275, 'sentinel': 4276, 'passag': 4277, 'kansa': 4278, 'implic': 4279, 'connor': 4280, 'agenc': 4281, 'restrict': 4282, 'sniper': 4283, 'feat': 4284, 'cap': 4285, 'horn': 4286, 'pale': 4287, 'chainsaw': 4288, 'wrench': 4289, 'lush': 4290, 'tendenc': 4291, 'rod': 4292, 'rehears': 4293, 'asylum': 4294, 'awhil': 4295, 'karl': 4296, 'bacon': 4297, 'rampag': 4298, '22': 4299, 'vet': 4300, 'sharon': 4301, 'behaviour': 4302, '1936': 4303, 'mccoy': 4304, 'foxx': 4305, 'kolchak': 4306, 'delet': 4307, 'aesthet': 4308, 'yeti': 4309, 'arrow': 4310, 'tripe': 4311, 'improb': 4312, 'ladder': 4313, 'lurk': 4314, 'underneath': 4315, 'fright': 4316, 'filler': 4317, 'elit': 4318, 'amazon': 4319, 'aristocrat': 4320, 'rhythm': 4321, 'wildli': 4322, 'loneli': 4323, 'conscienc': 4324, '1988': 4325, 'visitor': 4326, 'weav': 4327, 'scoop': 4328, 'sung': 4329, 'tasteless': 4330, 'paramount': 4331, '1920': 4332, 'hackney': 4333, 'paradis': 4334, 'minu': 4335, 'hungri': 4336, 'coaster': 4337, 'newcom': 4338, 'suspicion': 4339, 'spice': 4340, 'tomorrow': 4341, 'stream': 4342, 'wagner': 4343, 'financ': 4344, '1978': 4345, 'globe': 4346, 'hulk': 4347, 'suffici': 4348, 'rumor': 4349, 'basing': 4350, 'el': 4351, 'shortcom': 4352, 'prank': 4353, '19th': 4354, 'thunderbird': 4355, 'couch': 4356, 'rub': 4357, 'straightforward': 4358, 'immers': 4359, '1989': 4360, 'wwe': 4361, 'entranc': 4362, 'smell': 4363, 'curli': 4364, 'heist': 4365, 'iv': 4366, 'impos': 4367, 'minist': 4368, 'beverli': 4369, 'standout': 4370, 'penn': 4371, 'lectur': 4372, '75': 4373, 'inmat': 4374, 'secondari': 4375, 'cancer': 4376, 'teas': 4377, 'naughti': 4378, 'choppi': 4379, 'grudg': 4380, 'dirt': 4381, 'literari': 4382, 'counterpart': 4383, 'tierney': 4384, 'atroc': 4385, 'quietli': 4386, 'abrupt': 4387, 'brit': 4388, 'recogniz': 4389, 'ingeni': 4390, 'ram': 4391, 'posey': 4392, 'leigh': 4393, 'en': 4394, 'chavez': 4395, 'hopkin': 4396, 'worship': 4397, 'bread': 4398, 'chamberlain': 4399, '1939': 4400, 'paxton': 4401, 'springer': 4402, 'ace': 4403, 'injuri': 4404, 'sublim': 4405, 'variat': 4406, 'policeman': 4407, 'ratso': 4408, 'entitl': 4409, '1986': 4410, 'morbid': 4411, 'heartfelt': 4412, 'net': 4413, 'misguid': 4414, 'skeptic': 4415, 'enthral': 4416, 'sassi': 4417, 'esther': 4418, 'watcher': 4419, 'convert': 4420, 'laurenc': 4421, 'duel': 4422, 'nolan': 4423, 'moreov': 4424, 'clan': 4425, 'yearn': 4426, 'quaid': 4427, 'lindsay': 4428, 'transcend': 4429, 'missil': 4430, 'cattl': 4431, 'geni': 4432, 'nemesi': 4433, 'attenborough': 4434, 'bernard': 4435, 'brood': 4436, 'out': 4437, 'characteris': 4438, 'hk': 4439, 'youngest': 4440, 'hopelessli': 4441, 'obstacl': 4442, '1979': 4443, 'tyler': 4444, 'spiral': 4445, 'graini': 4446, 'artsi': 4447, 'bye': 4448, 'dont': 4449, 'poe': 4450, 'unexplain': 4451, 'diari': 4452, 'facil': 4453, 'carlito': 4454, 'grin': 4455, 'kidman': 4456, 'kitti': 4457, 'moder': 4458, 'buzz': 4459, 'reliabl': 4460, 'egg': 4461, 'mytholog': 4462, 'uncut': 4463, 'enabl': 4464, 'cruelti': 4465, 'rosemari': 4466, 'puppi': 4467, 'steadi': 4468, 'bean': 4469, 'setup': 4470, 'vader': 4471, 'decept': 4472, 'athlet': 4473, 'despic': 4474, 'fuel': 4475, 'spontan': 4476, 'narrow': 4477, '1969': 4478, 'christin': 4479, 'exterior': 4480, 'oblig': 4481, 'bewar': 4482, 'bronson': 4483, 'baffl': 4484, 'hammi': 4485, 'niec': 4486, 'kline': 4487, 'heap': 4488, 'patricia': 4489, 'acquaint': 4490, 'underworld': 4491, 'sweat': 4492, 'bounc': 4493, 'gina': 4494, 'gillian': 4495, 'weather': 4496, 'effici': 4497, 'brendan': 4498, 'martha': 4499, 'clueless': 4500, 'preming': 4501, 'hain': 4502, 'disastr': 4503, 'harmless': 4504, 'hepburn': 4505, 'housewif': 4506, 'mayhem': 4507, 'enlist': 4508, 'biker': 4509, 'outlaw': 4510, 'shatter': 4511, 'scar': 4512, 'injur': 4513, 'goof': 4514, 'preachi': 4515, 'insipid': 4516, 'virtu': 4517, 'astound': 4518, 'suprem': 4519, 'fontain': 4520, 'sooner': 4521, 'renaiss': 4522, '73': 4523, 'candl': 4524, 'rome': 4525, 'taboo': 4526, 'headach': 4527, 'analyz': 4528, 'circu': 4529, '19': 4530, 'loath': 4531, 'dilemma': 4532, 'viewpoint': 4533, 'loi': 4534, 'tick': 4535, 'sleepwalk': 4536, 'trigger': 4537, 'angst': 4538, 'uh': 4539, 'mermaid': 4540, 'lester': 4541, 'dandi': 4542, 'salt': 4543, 'ebert': 4544, 'scorses': 4545, 'surgeri': 4546, 'guin': 4547, 'glorifi': 4548, 'whore': 4549, 'stair': 4550, 'boston': 4551, 'tripl': 4552, 'steer': 4553, 'immatur': 4554, 'redund': 4555, 'dish': 4556, 'contempt': 4557, 'oldest': 4558, 'hostag': 4559, 'gere': 4560, 'overlong': 4561, 'zoom': 4562, 'idol': 4563, 'filth': 4564, 'cassavet': 4565, 'bent': 4566, 'macho': 4567, 'fluff': 4568, 'claustrophob': 4569, 'phenomenon': 4570, 'amor': 4571, 'camcord': 4572, 'dismal': 4573, 'hokey': 4574, 'spade': 4575, 'intric': 4576, 'sox': 4577, 'foolish': 4578, 'ariel': 4579, 'corbett': 4580, 'stimul': 4581, 'slimi': 4582, 'hooker': 4583, 'cush': 4584, 'messi': 4585, 'down': 4586, 'widescreen': 4587, 'conquer': 4588, 'mount': 4589, 'obligatori': 4590, 'strongest': 4591, 'nolt': 4592, 'radiat': 4593, 'dwarf': 4594, 'spinal': 4595, 'muscl': 4596, 'margin': 4597, 'flag': 4598, 'fascist': 4599, '1981': 4600, 'cohen': 4601, 'remad': 4602, 'preced': 4603, '1976': 4604, 'keen': 4605, 'rhyme': 4606, 'spree': 4607, 'shred': 4608, 'flirt': 4609, 'astronaut': 4610, 'schlock': 4611, 'corman': 4612, 'zane': 4613, 'gasp': 4614, 'transplant': 4615, 'mutual': 4616, 'harold': 4617, 'faint': 4618, 'frantic': 4619, 'alvin': 4620, 'perman': 4621, 'beard': 4622, 'gabl': 4623, 'assert': 4624, 'flashi': 4625, 'antagonist': 4626, 'naschi': 4627, 'trivia': 4628, 'proport': 4629, 'shield': 4630, 'cow': 4631, 'joker': 4632, 'brush': 4633, 'instruct': 4634, 'bitten': 4635, '95': 4636, 'archiv': 4637, 'www': 4638, 'neurot': 4639, 'inflict': 4640, 'bachelor': 4641, 'triangl': 4642, '1945': 4643, 'info': 4644, 'deer': 4645, 'divin': 4646, 'boob': 4647, 'strive': 4648, 'danish': 4649, 'carey': 4650, 'resum': 4651, 'hara': 4652, '28': 4653, 'off': 4654, 'flock': 4655, 'interestingli': 4656, 'mobil': 4657, 'discern': 4658, 'claud': 4659, 'raj': 4660, 'persuad': 4661, 'wield': 4662, 'fishburn': 4663, 'vaniti': 4664, 'departur': 4665, 'scandal': 4666, 'ritchi': 4667, 'barn': 4668, 'mol': 4669, 'sensual': 4670, 'repris': 4671, 'someday': 4672, 'aborigin': 4673, 'heartwarm': 4674, 'frontier': 4675, 'cb': 4676, 'senior': 4677, 'melissa': 4678, 'hug': 4679, 'casino': 4680, 'prophet': 4681, 'jade': 4682, 'luka': 4683, 'wendigo': 4684, 'artwork': 4685, 'vibrant': 4686, 'timberlak': 4687, 'europa': 4688, 'pickford': 4689, 'dame': 4690, 'cher': 4691, 'traffic': 4692, 'pixar': 4693, 'recit': 4694, 'submit': 4695, 'undermin': 4696, 'biblic': 4697, 'proclaim': 4698, 'fragil': 4699, 'carlo': 4700, 'hilar': 4701, 'rot': 4702, 'earnest': 4703, 'miracul': 4704, 'dylan': 4705, 'banter': 4706, 'clad': 4707, 'parson': 4708, 'loretta': 4709, 'dim': 4710, 'axe': 4711, 'hapless': 4712, 'helm': 4713, 'ish': 4714, 'bate': 4715, 'neill': 4716, 'cliffhang': 4717, 'harrison': 4718, 'kathryn': 4719, 'cycl': 4720, 'mobster': 4721, 'colin': 4722, 'anton': 4723, 'pacif': 4724, 'choke': 4725, 'marlon': 4726, 'orphan': 4727, 'uma': 4728, 'http': 4729, 'toronto': 4730, 'antholog': 4731, 'foil': 4732, 'aris': 4733, 'lucil': 4734, 'seedi': 4735, 'redneck': 4736, 'holocaust': 4737, 'trier': 4738, 'flavor': 4739, 'electron': 4740, 'wardrob': 4741, 'breakfast': 4742, 'cerebr': 4743, 'feast': 4744, 'bikini': 4745, 'jo': 4746, 'jordan': 4747, 'illus': 4748, 'estrang': 4749, 'vile': 4750, 'akin': 4751, 'bondag': 4752, 'lui': 4753, 'milo': 4754, 'razor': 4755, 'eli': 4756, 'venom': 4757, 'nope': 4758, 'sicken': 4759, 'shepherd': 4760, 'winchest': 4761, 'isra': 4762, 'rooki': 4763, 'token': 4764, 'pc': 4765, 'northern': 4766, 'mason': 4767, 'static': 4768, 'articl': 4769, 'alexandr': 4770, 'misfortun': 4771, 'vanessa': 4772, 'legitim': 4773, 'blatantli': 4774, 'mathieu': 4775, 'ceremoni': 4776, 'outdat': 4777, 'audrey': 4778, 'tack': 4779, 'gilbert': 4780, 'magician': 4781, 'frog': 4782, 'fifth': 4783, 'linear': 4784, 'boyer': 4785, 'shorter': 4786, 'affleck': 4787, 'abund': 4788, 'feminin': 4789, 'deem': 4790, 'smack': 4791, 'disregard': 4792, 'retriev': 4793, 'leather': 4794, 'cartoonish': 4795, 'glare': 4796, 'ideolog': 4797, 'peer': 4798, 'highway': 4799, 'charlton': 4800, 'psych': 4801, 'turd': 4802, 'wrestler': 4803, 'dudley': 4804, 'comprehend': 4805, 'clinic': 4806, 'oppon': 4807, 'nightclub': 4808, 'swept': 4809, 'gunga': 4810, 'howl': 4811, 'styliz': 4812, 'knightley': 4813, 'huston': 4814, 'monument': 4815, 'greet': 4816, 'senat': 4817, '1994': 4818, 'durat': 4819, '1991': 4820, 'whack': 4821, 'lighter': 4822, 'bastard': 4823, 'moe': 4824, 'tara': 4825, 'potter': 4826, 'energet': 4827, 'toe': 4828, 'chip': 4829, 'conrad': 4830, 'deliver': 4831, 'newer': 4832, 'lavish': 4833, 'corn': 4834, '4th': 4835, 'boo': 4836, 'snatch': 4837, 'salman': 4838, 'plate': 4839, 'spawn': 4840, 'cuban': 4841, 'einstein': 4842, 'client': 4843, 'lifeless': 4844, 'mitch': 4845, 'spine': 4846, 'breakdown': 4847, 'sleaz': 4848, 'goldsworthi': 4849, 'btw': 4850, 'compris': 4851, 'summar': 4852, 'bogu': 4853, 'collector': 4854, 'evolut': 4855, 'phenomen': 4856, 'uniformli': 4857, 'cemeteri': 4858, 'braveheart': 4859, 'creek': 4860, 'occup': 4861, 'constitut': 4862, 'outright': 4863, 'firmli': 4864, 'nina': 4865, 'liu': 4866, 'spectacl': 4867, 'eleven': 4868, 'sorrow': 4869, 'alleg': 4870, 'undertak': 4871, 'jam': 4872, 'undead': 4873, 'appl': 4874, 'ol': 4875, 'trauma': 4876, 'bori': 4877, 'pronounc': 4878, 'bulk': 4879, 'mcqueen': 4880, 'kazan': 4881, 'inaccuraci': 4882, '1977': 4883, 'ie': 4884, 'replay': 4885, 'embark': 4886, 'cecil': 4887, 'signal': 4888, 'luxuri': 4889, 'kent': 4890, 'jare': 4891, 'randolph': 4892, 'jule': 4893, 'historian': 4894, 'healthi': 4895, 'neatli': 4896, 'belli': 4897, 'judd': 4898, '1974': 4899, 'lex': 4900, 'fluid': 4901, 'clara': 4902, 'armstrong': 4903, 'gilliam': 4904, 'jedi': 4905, 'wtf': 4906, 'evelyn': 4907, 'capot': 4908, 'vignett': 4909, 'porter': 4910, 'truman': 4911, 'ash': 4912, 'blur': 4913, 'palm': 4914, 'comprehens': 4915, 'knee': 4916, 'id': 4917, 'rosario': 4918, 'tokyo': 4919, 'groan': 4920, '1985': 4921, 'congratul': 4922, 'kiddi': 4923, 'pioneer': 4924, 'roar': 4925, 'spray': 4926, 'vain': 4927, 'decapit': 4928, 'miami': 4929, 'bsg': 4930, 'bait': 4931, 'comb': 4932, 'abound': 4933, 'lauren': 4934, 'subtli': 4935, 'inclus': 4936, 'poker': 4937, 'pepper': 4938, 'sacrif': 4939, 'aussi': 4940, 'forgiven': 4941, 'paula': 4942, 'meal': 4943, 'goldblum': 4944, 'conan': 4945, 'mum': 4946, 'cape': 4947, 'walt': 4948, 'antonio': 4949, 'genet': 4950, 'fruit': 4951, 'lanc': 4952, 'carmen': 4953, 'basket': 4954, 'propheci': 4955, 'inaccur': 4956, 'relentless': 4957, 'unattract': 4958, 'galaxi': 4959, 'unsuspect': 4960, 'sidewalk': 4961, 'miniseri': 4962, 'curtain': 4963, 'substanti': 4964, 'ingrid': 4965, 'macabr': 4966, 'motorcycl': 4967, 'incorrect': 4968, 'masterson': 4969, 'frontal': 4970, 'optimist': 4971, 'epitom': 4972, 'weaker': 4973, 'victorian': 4974, 'playboy': 4975, 'spill': 4976, 'monti': 4977, 'weari': 4978, 'growth': 4979, 'profil': 4980, 'mice': 4981, 'asset': 4982, 'bravo': 4983, 'ghetto': 4984, 'drone': 4985, 'verg': 4986, 'sparkl': 4987, 'vastli': 4988, 'scarfac': 4989, 'detach': 4990, 'modest': 4991, 'evan': 4992, 'omin': 4993, 'orchestr': 4994, 'jill': 4995, 'turtl': 4996, '21st': 4997, 'bach': 4998, 'sophi': 4999}\n"
     ]
    }
   ],
   "source": [
    "print(word_dict)"
   ]
  },
  {
   "cell_type": "markdown",
   "metadata": {},
   "source": [
    "**Question:** What are the five most frequently appearing (tokenized) words in the training set? Does it makes sense that these words appear frequently in the training set?"
   ]
  },
  {
   "cell_type": "markdown",
   "metadata": {},
   "source": [
    "**Answer:** movi, film, one, like and time. Yes. I use these words a lot when I write movie reviews!"
   ]
  },
  {
   "cell_type": "code",
   "execution_count": 14,
   "metadata": {},
   "outputs": [
    {
     "name": "stdout",
     "output_type": "stream",
     "text": [
      "The 20 most common words in reviews are:  [('movi', 51695), ('film', 48190), ('one', 27741), ('like', 22799), ('time', 16191), ('good', 15360), ('make', 15207), ('charact', 14178), ('get', 14141), ('see', 14111), ('watch', 13940), ('stori', 13168), ('even', 12906), ('would', 12436), ('realli', 11736), ('well', 11042), ('scene', 10586), ('look', 10051), ('show', 9878), ('much', 9765)]\n"
     ]
    }
   ],
   "source": [
    "# TODO: Use this space to determine the five most frequently appearing words in the training set.\n",
    "word_count = get_word_count(train_X)\n",
    "sorted_words = [(v[0], v[1]) for v in sorted(word_count.items(), key=lambda kv: kv[1], reverse=True)]                \n",
    "print(\"The 20 most common words in reviews are: \", sorted_words[:20])"
   ]
  },
  {
   "cell_type": "markdown",
   "metadata": {},
   "source": [
    "### Save `word_dict`\n",
    "\n",
    "Later on when we construct an endpoint which processes a submitted review we will need to make use of the `word_dict` which we have created. As such, we will save it to a file now for future use."
   ]
  },
  {
   "cell_type": "code",
   "execution_count": 15,
   "metadata": {},
   "outputs": [],
   "source": [
    "data_dir = '../data/pytorch' # The folder we will use for storing data\n",
    "if not os.path.exists(data_dir): # Make sure that the folder exists\n",
    "    os.makedirs(data_dir)"
   ]
  },
  {
   "cell_type": "code",
   "execution_count": 16,
   "metadata": {},
   "outputs": [],
   "source": [
    "with open(os.path.join(data_dir, 'word_dict.pkl'), \"wb\") as f:\n",
    "    pickle.dump(word_dict, f)"
   ]
  },
  {
   "cell_type": "markdown",
   "metadata": {},
   "source": [
    "### Transform the reviews\n",
    "\n",
    "Now that we have our word dictionary which allows us to transform the words appearing in the reviews into integers, it is time to make use of it and convert our reviews to their integer sequence representation, making sure to pad or truncate to a fixed length, which in our case is `500`."
   ]
  },
  {
   "cell_type": "code",
   "execution_count": 17,
   "metadata": {},
   "outputs": [],
   "source": [
    "def convert_and_pad(word_dict, sentence, pad=500):\n",
    "    NOWORD = 0 # We will use 0 to represent the 'no word' category\n",
    "    INFREQ = 1 # and we use 1 to represent the infrequent words, i.e., words not appearing in word_dict\n",
    "    \n",
    "    working_sentence = [NOWORD] * pad\n",
    "    \n",
    "    for word_index, word in enumerate(sentence[:pad]):\n",
    "        if word in word_dict:\n",
    "            working_sentence[word_index] = word_dict[word]\n",
    "        else:\n",
    "            working_sentence[word_index] = INFREQ\n",
    "            \n",
    "    return working_sentence, min(len(sentence), pad)\n",
    "\n",
    "def convert_and_pad_data(word_dict, data, pad=500):\n",
    "    result = []\n",
    "    lengths = []\n",
    "    \n",
    "    for sentence in data:\n",
    "        converted, leng = convert_and_pad(word_dict, sentence, pad)\n",
    "        result.append(converted)\n",
    "        lengths.append(leng)\n",
    "        \n",
    "    return np.array(result), np.array(lengths)"
   ]
  },
  {
   "cell_type": "code",
   "execution_count": 18,
   "metadata": {},
   "outputs": [],
   "source": [
    "train_X, train_X_len = convert_and_pad_data(word_dict, train_X)\n",
    "test_X, test_X_len = convert_and_pad_data(word_dict, test_X)"
   ]
  },
  {
   "cell_type": "markdown",
   "metadata": {},
   "source": [
    "As a quick check to make sure that things are working as intended, check to see what one of the reviews in the training set looks like after having been processeed. Does this look reasonable? What is the length of a review in the training set?"
   ]
  },
  {
   "cell_type": "code",
   "execution_count": 19,
   "metadata": {},
   "outputs": [
    {
     "data": {
      "text/plain": [
       "array([ 147,    3,   34,  433,   15,  161,   76, 3642,    1, 2349, 1096,\n",
       "         68,   30,    4,   96,    1, 4602,    4,   91, 1958,  955, 1540,\n",
       "        699,  139, 2014, 2489,  508, 1121,   81,  776,   44,   72,  523,\n",
       "       1083,  126, 2126, 3998,    1,    1,  340,  379,   81, 2604,  308,\n",
       "         43,    3,  568,   60,  984,  156,  167,  760,  229,  160,    0,\n",
       "          0,    0,    0,    0,    0,    0,    0,    0,    0,    0,    0,\n",
       "          0,    0,    0,    0,    0,    0,    0,    0,    0,    0,    0,\n",
       "          0,    0,    0,    0,    0,    0,    0,    0,    0,    0,    0,\n",
       "          0,    0,    0,    0,    0,    0,    0,    0,    0,    0,    0,\n",
       "          0,    0,    0,    0,    0,    0,    0,    0,    0,    0,    0,\n",
       "          0,    0,    0,    0,    0,    0,    0,    0,    0,    0,    0,\n",
       "          0,    0,    0,    0,    0,    0,    0,    0,    0,    0,    0,\n",
       "          0,    0,    0,    0,    0,    0,    0,    0,    0,    0,    0,\n",
       "          0,    0,    0,    0,    0,    0,    0,    0,    0,    0,    0,\n",
       "          0,    0,    0,    0,    0,    0,    0,    0,    0,    0,    0,\n",
       "          0,    0,    0,    0,    0,    0,    0,    0,    0,    0,    0,\n",
       "          0,    0,    0,    0,    0,    0,    0,    0,    0,    0,    0,\n",
       "          0,    0,    0,    0,    0,    0,    0,    0,    0,    0,    0,\n",
       "          0,    0,    0,    0,    0,    0,    0,    0,    0,    0,    0,\n",
       "          0,    0,    0,    0,    0,    0,    0,    0,    0,    0,    0,\n",
       "          0,    0,    0,    0,    0,    0,    0,    0,    0,    0,    0,\n",
       "          0,    0,    0,    0,    0,    0,    0,    0,    0,    0,    0,\n",
       "          0,    0,    0,    0,    0,    0,    0,    0,    0,    0,    0,\n",
       "          0,    0,    0,    0,    0,    0,    0,    0,    0,    0,    0,\n",
       "          0,    0,    0,    0,    0,    0,    0,    0,    0,    0,    0,\n",
       "          0,    0,    0,    0,    0,    0,    0,    0,    0,    0,    0,\n",
       "          0,    0,    0,    0,    0,    0,    0,    0,    0,    0,    0,\n",
       "          0,    0,    0,    0,    0,    0,    0,    0,    0,    0,    0,\n",
       "          0,    0,    0,    0,    0,    0,    0,    0,    0,    0,    0,\n",
       "          0,    0,    0,    0,    0,    0,    0,    0,    0,    0,    0,\n",
       "          0,    0,    0,    0,    0,    0,    0,    0,    0,    0,    0,\n",
       "          0,    0,    0,    0,    0,    0,    0,    0,    0,    0,    0,\n",
       "          0,    0,    0,    0,    0,    0,    0,    0,    0,    0,    0,\n",
       "          0,    0,    0,    0,    0,    0,    0,    0,    0,    0,    0,\n",
       "          0,    0,    0,    0,    0,    0,    0,    0,    0,    0,    0,\n",
       "          0,    0,    0,    0,    0,    0,    0,    0,    0,    0,    0,\n",
       "          0,    0,    0,    0,    0,    0,    0,    0,    0,    0,    0,\n",
       "          0,    0,    0,    0,    0,    0,    0,    0,    0,    0,    0,\n",
       "          0,    0,    0,    0,    0,    0,    0,    0,    0,    0,    0,\n",
       "          0,    0,    0,    0,    0,    0,    0,    0,    0,    0,    0,\n",
       "          0,    0,    0,    0,    0,    0,    0,    0,    0,    0,    0,\n",
       "          0,    0,    0,    0,    0,    0,    0,    0,    0,    0,    0,\n",
       "          0,    0,    0,    0,    0,    0,    0,    0,    0,    0,    0,\n",
       "          0,    0,    0,    0,    0,    0,    0,    0,    0,    0,    0,\n",
       "          0,    0,    0,    0,    0,    0,    0,    0,    0,    0,    0,\n",
       "          0,    0,    0,    0,    0])"
      ]
     },
     "execution_count": 19,
     "metadata": {},
     "output_type": "execute_result"
    }
   ],
   "source": [
    "# Use this cell to examine one of the processed reviews to make sure everything is working as intended.\n",
    "train_X[121]"
   ]
  },
  {
   "cell_type": "markdown",
   "metadata": {},
   "source": [
    "**Question:** In the cells above we use the `preprocess_data` and `convert_and_pad_data` methods to process both the training and testing set. Why or why not might this be a problem?"
   ]
  },
  {
   "cell_type": "markdown",
   "metadata": {},
   "source": [
    "**Answer:** To deal with both short and very long reviews, we can pad or truncate all the reviews to a specific length (in this case 500). For reviews shorter than 500 words, we'll pad with 0s. For reviews longer than 500, we truncate them to the first 500 words."
   ]
  },
  {
   "cell_type": "markdown",
   "metadata": {},
   "source": [
    "## Step 3: Upload the data to S3\n",
    "\n",
    "As in the XGBoost notebook, we will need to upload the training dataset to S3 in order for our training code to access it. For now we will save it locally and we will upload to S3 later on.\n",
    "\n",
    "### Save the processed training dataset locally\n",
    "\n",
    "It is important to note the format of the data that we are saving as we will need to know it when we write the training code. In our case, each row of the dataset has the form `label`, `length`, `review[500]` where `review[500]` is a sequence of `500` integers representing the words in the review."
   ]
  },
  {
   "cell_type": "code",
   "execution_count": 20,
   "metadata": {},
   "outputs": [],
   "source": [
    "import pandas as pd\n",
    "    \n",
    "pd.concat([pd.DataFrame(train_y), pd.DataFrame(train_X_len), pd.DataFrame(train_X)], axis=1) \\\n",
    "        .to_csv(os.path.join(data_dir, 'train.csv'), header=False, index=False)"
   ]
  },
  {
   "cell_type": "markdown",
   "metadata": {},
   "source": [
    "### Uploading the training data\n",
    "\n",
    "\n",
    "Next, we need to upload the training data to the SageMaker default S3 bucket so that we can provide access to it while training our model."
   ]
  },
  {
   "cell_type": "code",
   "execution_count": 21,
   "metadata": {},
   "outputs": [],
   "source": [
    "import sagemaker\n",
    "\n",
    "sagemaker_session = sagemaker.Session()\n",
    "\n",
    "bucket = sagemaker_session.default_bucket()\n",
    "prefix = 'sagemaker/sentiment_rnn'\n",
    "\n",
    "role = sagemaker.get_execution_role()"
   ]
  },
  {
   "cell_type": "code",
   "execution_count": 22,
   "metadata": {},
   "outputs": [],
   "source": [
    "input_data = sagemaker_session.upload_data(path=data_dir, bucket=bucket, key_prefix=prefix)"
   ]
  },
  {
   "cell_type": "markdown",
   "metadata": {},
   "source": [
    "**NOTE:** The cell above uploads the entire contents of our data directory. This includes the `word_dict.pkl` file. This is fortunate as we will need this later on when we create an endpoint that accepts an arbitrary review. For now, we will just take note of the fact that it resides in the data directory (and so also in the S3 training bucket) and that we will need to make sure it gets saved in the model directory."
   ]
  },
  {
   "cell_type": "markdown",
   "metadata": {},
   "source": [
    "## Step 4: Build and Train the PyTorch Model\n",
    "\n",
    "In the XGBoost notebook we discussed what a model is in the SageMaker framework. In particular, a model comprises three objects\n",
    "\n",
    " - Model Artifacts,\n",
    " - Training Code, and\n",
    " - Inference Code,\n",
    " \n",
    "each of which interact with one another. In the XGBoost example we used training and inference code that was provided by Amazon. Here we will still be using containers provided by Amazon with the added benefit of being able to include our own custom code.\n",
    "\n",
    "We will start by implementing our own neural network in PyTorch along with a training script. For the purposes of this project we have provided the necessary model object in the `model.py` file, inside of the `train` folder. You can see the provided implementation by running the cell below."
   ]
  },
  {
   "cell_type": "code",
   "execution_count": 23,
   "metadata": {},
   "outputs": [
    {
     "name": "stdout",
     "output_type": "stream",
     "text": [
      "\u001b[34mimport\u001b[39;49;00m \u001b[04m\u001b[36mtorch.nn\u001b[39;49;00m \u001b[34mas\u001b[39;49;00m \u001b[04m\u001b[36mnn\u001b[39;49;00m\r\n",
      "\r\n",
      "\u001b[34mclass\u001b[39;49;00m \u001b[04m\u001b[32mLSTMClassifier\u001b[39;49;00m(nn.Module):\r\n",
      "    \u001b[33m\"\"\"\u001b[39;49;00m\r\n",
      "\u001b[33m    This is the simple RNN model we will be using to perform Sentiment Analysis.\u001b[39;49;00m\r\n",
      "\u001b[33m    \"\"\"\u001b[39;49;00m\r\n",
      "\r\n",
      "    \u001b[34mdef\u001b[39;49;00m \u001b[32m__init__\u001b[39;49;00m(\u001b[36mself\u001b[39;49;00m, embedding_dim, hidden_dim, vocab_size):\r\n",
      "        \u001b[33m\"\"\"\u001b[39;49;00m\r\n",
      "\u001b[33m        Initialize the model by settingg up the various layers.\u001b[39;49;00m\r\n",
      "\u001b[33m        \"\"\"\u001b[39;49;00m\r\n",
      "        \u001b[36msuper\u001b[39;49;00m(LSTMClassifier, \u001b[36mself\u001b[39;49;00m).\u001b[32m__init__\u001b[39;49;00m()\r\n",
      "\r\n",
      "        \u001b[36mself\u001b[39;49;00m.embedding = nn.Embedding(vocab_size, embedding_dim, padding_idx=\u001b[34m0\u001b[39;49;00m)\r\n",
      "        \u001b[36mself\u001b[39;49;00m.lstm = nn.LSTM(embedding_dim, hidden_dim)\r\n",
      "        \u001b[36mself\u001b[39;49;00m.dense = nn.Linear(in_features=hidden_dim, out_features=\u001b[34m1\u001b[39;49;00m)\r\n",
      "        \u001b[36mself\u001b[39;49;00m.sig = nn.Sigmoid()\r\n",
      "        \r\n",
      "        \u001b[36mself\u001b[39;49;00m.word_dict = \u001b[36mNone\u001b[39;49;00m\r\n",
      "\r\n",
      "    \u001b[34mdef\u001b[39;49;00m \u001b[32mforward\u001b[39;49;00m(\u001b[36mself\u001b[39;49;00m, x):\r\n",
      "        \u001b[33m\"\"\"\u001b[39;49;00m\r\n",
      "\u001b[33m        Perform a forward pass of our model on some input.\u001b[39;49;00m\r\n",
      "\u001b[33m        \"\"\"\u001b[39;49;00m\r\n",
      "        x = x.t()\r\n",
      "        lengths = x[\u001b[34m0\u001b[39;49;00m,:]\r\n",
      "        reviews = x[\u001b[34m1\u001b[39;49;00m:,:]\r\n",
      "        embeds = \u001b[36mself\u001b[39;49;00m.embedding(reviews)\r\n",
      "        lstm_out, _ = \u001b[36mself\u001b[39;49;00m.lstm(embeds)\r\n",
      "        out = \u001b[36mself\u001b[39;49;00m.dense(lstm_out)\r\n",
      "        out = out[lengths - \u001b[34m1\u001b[39;49;00m, \u001b[36mrange\u001b[39;49;00m(\u001b[36mlen\u001b[39;49;00m(lengths))]\r\n",
      "        \u001b[34mreturn\u001b[39;49;00m \u001b[36mself\u001b[39;49;00m.sig(out.squeeze())\r\n"
     ]
    }
   ],
   "source": [
    "!pygmentize train/model.py"
   ]
  },
  {
   "cell_type": "markdown",
   "metadata": {},
   "source": [
    "The important takeaway from the implementation provided is that there are three parameters that we may wish to tweak to improve the performance of our model. These are the embedding dimension, the hidden dimension and the size of the vocabulary. We will likely want to make these parameters configurable in the training script so that if we wish to modify them we do not need to modify the script itself. We will see how to do this later on. To start we will write some of the training code in the notebook so that we can more easily diagnose any issues that arise.\n",
    "\n",
    "First we will load a small portion of the training data set to use as a sample. It would be very time consuming to try and train the model completely in the notebook as we do not have access to a gpu and the compute instance that we are using is not particularly powerful. However, we can work on a small bit of the data to get a feel for how our training script is behaving."
   ]
  },
  {
   "cell_type": "code",
   "execution_count": 24,
   "metadata": {},
   "outputs": [],
   "source": [
    "import torch\n",
    "import torch.utils.data\n",
    "\n",
    "# Read in only the first 250 rows\n",
    "train_sample = pd.read_csv(os.path.join(data_dir, 'train.csv'), header=None, names=None, nrows=250)\n",
    "\n",
    "# Turn the input pandas dataframe into tensors\n",
    "train_sample_y = torch.from_numpy(train_sample[[0]].values).float().squeeze()\n",
    "train_sample_X = torch.from_numpy(train_sample.drop([0], axis=1).values).long()\n",
    "\n",
    "# Build the dataset\n",
    "train_sample_ds = torch.utils.data.TensorDataset(train_sample_X, train_sample_y)\n",
    "# Build the dataloader\n",
    "train_sample_dl = torch.utils.data.DataLoader(train_sample_ds, batch_size=50)"
   ]
  },
  {
   "cell_type": "markdown",
   "metadata": {},
   "source": [
    "### (TODO) Writing the training method\n",
    "\n",
    "Next we need to write the training code itself. This should be very similar to training methods that you have written before to train PyTorch models. We will leave any difficult aspects such as model saving / loading and parameter loading until a little later."
   ]
  },
  {
   "cell_type": "code",
   "execution_count": 25,
   "metadata": {},
   "outputs": [],
   "source": [
    "def train(model, train_loader, epochs, optimizer, loss_fn, device):\n",
    "    for epoch in range(1, epochs + 1):\n",
    "        model.train()\n",
    "        total_loss = 0\n",
    "        for batch in train_loader:         \n",
    "            batch_X, batch_y = batch\n",
    "            \n",
    "            batch_X = batch_X.to(device)\n",
    "            batch_y = batch_y.to(device)\n",
    "            \n",
    "            # TODO: Complete this train method to train the model provided.\n",
    "            optimizer.zero_grad()\n",
    "            output = model.forward(batch_X)\n",
    "            loss = loss_fn(output, batch_y)\n",
    "            loss.backward()\n",
    "            \n",
    "            optimizer.step()\n",
    "            \n",
    "            total_loss += loss.data.item()\n",
    "        print(\"Epoch: {}, BCELoss: {}\".format(epoch, total_loss / len(train_loader)))"
   ]
  },
  {
   "cell_type": "markdown",
   "metadata": {},
   "source": [
    "Supposing we have the training method above, we will test that it is working by writing a bit of code in the notebook that executes our training method on the small sample training set that we loaded earlier. The reason for doing this in the notebook is so that we have an opportunity to fix any errors that arise early when they are easier to diagnose."
   ]
  },
  {
   "cell_type": "code",
   "execution_count": 26,
   "metadata": {},
   "outputs": [
    {
     "name": "stdout",
     "output_type": "stream",
     "text": [
      "Epoch: 1, BCELoss: 0.6923141241073608\n",
      "Epoch: 2, BCELoss: 0.6841198921203613\n",
      "Epoch: 3, BCELoss: 0.6775123596191406\n",
      "Epoch: 4, BCELoss: 0.6702695608139038\n",
      "Epoch: 5, BCELoss: 0.6613955855369568\n"
     ]
    }
   ],
   "source": [
    "import torch.optim as optim\n",
    "from train.model import LSTMClassifier\n",
    "\n",
    "device = torch.device(\"cuda\" if torch.cuda.is_available() else \"cpu\")\n",
    "model = LSTMClassifier(32, 100, 5000).to(device)\n",
    "optimizer = optim.Adam(model.parameters())\n",
    "loss_fn = torch.nn.BCELoss()\n",
    "\n",
    "train(model, train_sample_dl, 5, optimizer, loss_fn, device)"
   ]
  },
  {
   "cell_type": "markdown",
   "metadata": {},
   "source": [
    "In order to construct a PyTorch model using SageMaker we must provide SageMaker with a training script. We may optionally include a directory which will be copied to the container and from which our training code will be run. When the training container is executed it will check the uploaded directory (if there is one) for a `requirements.txt` file and install any required Python libraries, after which the training script will be run."
   ]
  },
  {
   "cell_type": "markdown",
   "metadata": {},
   "source": [
    "### (TODO) Training the model\n",
    "\n",
    "When a PyTorch model is constructed in SageMaker, an entry point must be specified. This is the Python file which will be executed when the model is trained. Inside of the `train` directory is a file called `train.py` which has been provided and which contains most of the necessary code to train our model. The only thing that is missing is the implementation of the `train()` method which you wrote earlier in this notebook.\n",
    "\n",
    "**TODO**: Copy the `train()` method written above and paste it into the `train/train.py` file where required.\n",
    "\n",
    "The way that SageMaker passes hyperparameters to the training script is by way of arguments. These arguments can then be parsed and used in the training script. To see how this is done take a look at the provided `train/train.py` file."
   ]
  },
  {
   "cell_type": "code",
   "execution_count": 27,
   "metadata": {},
   "outputs": [],
   "source": [
    "from sagemaker.pytorch import PyTorch\n",
    "\n",
    "estimator = PyTorch(entry_point=\"train.py\",\n",
    "                    source_dir=\"train\",\n",
    "                    role=role,\n",
    "                    framework_version='0.4.0',\n",
    "                    train_instance_count=1,\n",
    "                    train_instance_type='ml.p2.xlarge',\n",
    "                    hyperparameters={\n",
    "                        'epochs': 10,\n",
    "                        'hidden_dim': 200,\n",
    "                    })"
   ]
  },
  {
   "cell_type": "code",
   "execution_count": 28,
   "metadata": {},
   "outputs": [
    {
     "name": "stdout",
     "output_type": "stream",
     "text": [
      "2019-06-23 05:22:07 Starting - Starting the training job...\n",
      "2019-06-23 05:22:10 Starting - Launching requested ML instances.........\n",
      "2019-06-23 05:23:39 Starting - Preparing the instances for training......\n",
      "2019-06-23 05:24:54 Downloading - Downloading input data...\n",
      "2019-06-23 05:25:27 Training - Downloading the training image...\n",
      "2019-06-23 05:26:01 Training - Training image download completed. Training in progress.\n",
      "\u001b[31mbash: cannot set terminal process group (-1): Inappropriate ioctl for device\u001b[0m\n",
      "\u001b[31mbash: no job control in this shell\u001b[0m\n",
      "\u001b[31m2019-06-23 05:26:02,109 sagemaker-containers INFO     Imported framework sagemaker_pytorch_container.training\u001b[0m\n",
      "\u001b[31m2019-06-23 05:26:02,137 sagemaker_pytorch_container.training INFO     Block until all host DNS lookups succeed.\u001b[0m\n",
      "\u001b[31m2019-06-23 05:26:05,191 sagemaker_pytorch_container.training INFO     Invoking user training script.\u001b[0m\n",
      "\u001b[31m2019-06-23 05:26:05,430 sagemaker-containers INFO     Module train does not provide a setup.py. \u001b[0m\n",
      "\u001b[31mGenerating setup.py\u001b[0m\n",
      "\u001b[31m2019-06-23 05:26:05,430 sagemaker-containers INFO     Generating setup.cfg\u001b[0m\n",
      "\u001b[31m2019-06-23 05:26:05,430 sagemaker-containers INFO     Generating MANIFEST.in\u001b[0m\n",
      "\u001b[31m2019-06-23 05:26:05,430 sagemaker-containers INFO     Installing module with the following command:\u001b[0m\n",
      "\u001b[31m/usr/bin/python -m pip install -U . -r requirements.txt\u001b[0m\n",
      "\u001b[31mProcessing /opt/ml/code\u001b[0m\n",
      "\u001b[31mCollecting pandas (from -r requirements.txt (line 1))\n",
      "  Downloading https://files.pythonhosted.org/packages/74/24/0cdbf8907e1e3bc5a8da03345c23cbed7044330bb8f73bb12e711a640a00/pandas-0.24.2-cp35-cp35m-manylinux1_x86_64.whl (10.0MB)\u001b[0m\n",
      "\u001b[31mCollecting numpy (from -r requirements.txt (line 2))\n",
      "  Downloading https://files.pythonhosted.org/packages/bb/ef/d5a21cbc094d3f4d5b5336494dbcc9550b70c766a8345513c7c24ed18418/numpy-1.16.4-cp35-cp35m-manylinux1_x86_64.whl (17.2MB)\u001b[0m\n",
      "\u001b[31mCollecting nltk (from -r requirements.txt (line 3))\n",
      "  Downloading https://files.pythonhosted.org/packages/8d/5d/825889810b85c303c8559a3fd74d451d80cf3585a851f2103e69576bf583/nltk-3.4.3.zip (1.4MB)\u001b[0m\n",
      "\u001b[31mCollecting beautifulsoup4 (from -r requirements.txt (line 4))\n",
      "  Downloading https://files.pythonhosted.org/packages/1d/5d/3260694a59df0ec52f8b4883f5d23b130bc237602a1411fa670eae12351e/beautifulsoup4-4.7.1-py3-none-any.whl (94kB)\u001b[0m\n",
      "\u001b[31mCollecting html5lib (from -r requirements.txt (line 5))\n",
      "  Downloading https://files.pythonhosted.org/packages/a5/62/bbd2be0e7943ec8504b517e62bab011b4946e1258842bc159e5dfde15b96/html5lib-1.0.1-py2.py3-none-any.whl (117kB)\u001b[0m\n",
      "\u001b[31mRequirement already satisfied, skipping upgrade: python-dateutil>=2.5.0 in /usr/local/lib/python3.5/dist-packages (from pandas->-r requirements.txt (line 1)) (2.7.5)\u001b[0m\n",
      "\u001b[31mCollecting pytz>=2011k (from pandas->-r requirements.txt (line 1))\n",
      "  Downloading https://files.pythonhosted.org/packages/3d/73/fe30c2daaaa0713420d0382b16fbb761409f532c56bdcc514bf7b6262bb6/pytz-2019.1-py2.py3-none-any.whl (510kB)\u001b[0m\n",
      "\u001b[31mRequirement already satisfied, skipping upgrade: six in /usr/local/lib/python3.5/dist-packages (from nltk->-r requirements.txt (line 3)) (1.11.0)\u001b[0m\n",
      "\u001b[31mCollecting soupsieve>=1.2 (from beautifulsoup4->-r requirements.txt (line 4))\n",
      "  Downloading https://files.pythonhosted.org/packages/b9/a5/7ea40d0f8676bde6e464a6435a48bc5db09b1a8f4f06d41dd997b8f3c616/soupsieve-1.9.1-py2.py3-none-any.whl\u001b[0m\n",
      "\u001b[31mCollecting webencodings (from html5lib->-r requirements.txt (line 5))\n",
      "  Downloading https://files.pythonhosted.org/packages/f4/24/2a3e3df732393fed8b3ebf2ec078f05546de641fe1b667ee316ec1dcf3b7/webencodings-0.5.1-py2.py3-none-any.whl\u001b[0m\n",
      "\u001b[31mBuilding wheels for collected packages: nltk, train\n",
      "  Running setup.py bdist_wheel for nltk: started\u001b[0m\n",
      "\u001b[31m  Running setup.py bdist_wheel for nltk: finished with status 'done'\n",
      "  Stored in directory: /root/.cache/pip/wheels/54/40/b7/c56ad418e6cd4d9e1e594b5e138d1ca6eec11a6ee3d464e5bb\n",
      "  Running setup.py bdist_wheel for train: started\n",
      "  Running setup.py bdist_wheel for train: finished with status 'done'\n",
      "  Stored in directory: /tmp/pip-ephem-wheel-cache-kcxmyllt/wheels/35/24/16/37574d11bf9bde50616c67372a334f94fa8356bc7164af8ca3\u001b[0m\n",
      "\u001b[31mSuccessfully built nltk train\u001b[0m\n",
      "\u001b[31mInstalling collected packages: numpy, pytz, pandas, nltk, soupsieve, beautifulsoup4, webencodings, html5lib, train\n",
      "  Found existing installation: numpy 1.15.4\n",
      "    Uninstalling numpy-1.15.4:\n",
      "      Successfully uninstalled numpy-1.15.4\u001b[0m\n",
      "\u001b[31mSuccessfully installed beautifulsoup4-4.7.1 html5lib-1.0.1 nltk-3.4.3 numpy-1.16.4 pandas-0.24.2 pytz-2019.1 soupsieve-1.9.1 train-1.0.0 webencodings-0.5.1\u001b[0m\n",
      "\u001b[31mYou are using pip version 18.1, however version 19.1.1 is available.\u001b[0m\n",
      "\u001b[31mYou should consider upgrading via the 'pip install --upgrade pip' command.\u001b[0m\n",
      "\u001b[31m2019-06-23 05:26:18,875 sagemaker-containers INFO     Invoking user script\n",
      "\u001b[0m\n",
      "\u001b[31mTraining Env:\n",
      "\u001b[0m\n",
      "\u001b[31m{\n",
      "    \"network_interface_name\": \"eth0\",\n",
      "    \"output_intermediate_dir\": \"/opt/ml/output/intermediate\",\n",
      "    \"current_host\": \"algo-1\",\n",
      "    \"channel_input_dirs\": {\n",
      "        \"training\": \"/opt/ml/input/data/training\"\n",
      "    },\n",
      "    \"input_dir\": \"/opt/ml/input\",\n",
      "    \"output_data_dir\": \"/opt/ml/output/data\",\n",
      "    \"input_data_config\": {\n",
      "        \"training\": {\n",
      "            \"S3DistributionType\": \"FullyReplicated\",\n",
      "            \"TrainingInputMode\": \"File\",\n",
      "            \"RecordWrapperType\": \"None\"\n",
      "        }\n",
      "    },\n",
      "    \"log_level\": 20,\n",
      "    \"hyperparameters\": {\n",
      "        \"epochs\": 10,\n",
      "        \"hidden_dim\": 200\n",
      "    },\n",
      "    \"output_dir\": \"/opt/ml/output\",\n",
      "    \"resource_config\": {\n",
      "        \"current_host\": \"algo-1\",\n",
      "        \"hosts\": [\n",
      "            \"algo-1\"\n",
      "        ],\n",
      "        \"network_interface_name\": \"eth0\"\n",
      "    },\n",
      "    \"module_name\": \"train\",\n",
      "    \"input_config_dir\": \"/opt/ml/input/config\",\n",
      "    \"model_dir\": \"/opt/ml/model\",\n",
      "    \"additional_framework_parameters\": {},\n",
      "    \"num_gpus\": 1,\n",
      "    \"job_name\": \"sagemaker-pytorch-2019-06-23-05-22-06-825\",\n",
      "    \"num_cpus\": 4,\n",
      "    \"module_dir\": \"s3://sagemaker-us-west-2-273775775360/sagemaker-pytorch-2019-06-23-05-22-06-825/source/sourcedir.tar.gz\",\n",
      "    \"framework_module\": \"sagemaker_pytorch_container.training:main\",\n",
      "    \"user_entry_point\": \"train.py\",\n",
      "    \"hosts\": [\n",
      "        \"algo-1\"\n",
      "    ]\u001b[0m\n",
      "\u001b[31m}\n",
      "\u001b[0m\n",
      "\u001b[31mEnvironment variables:\n",
      "\u001b[0m\n",
      "\u001b[31mSM_LOG_LEVEL=20\u001b[0m\n",
      "\u001b[31mSM_OUTPUT_DATA_DIR=/opt/ml/output/data\u001b[0m\n",
      "\u001b[31mPYTHONPATH=/usr/local/bin:/usr/lib/python35.zip:/usr/lib/python3.5:/usr/lib/python3.5/plat-x86_64-linux-gnu:/usr/lib/python3.5/lib-dynload:/usr/local/lib/python3.5/dist-packages:/usr/lib/python3/dist-packages\u001b[0m\n",
      "\u001b[31mSM_OUTPUT_INTERMEDIATE_DIR=/opt/ml/output/intermediate\u001b[0m\n",
      "\u001b[31mSM_OUTPUT_DIR=/opt/ml/output\u001b[0m\n",
      "\u001b[31mSM_FRAMEWORK_MODULE=sagemaker_pytorch_container.training:main\u001b[0m\n",
      "\u001b[31mSM_FRAMEWORK_PARAMS={}\u001b[0m\n",
      "\u001b[31mSM_NETWORK_INTERFACE_NAME=eth0\u001b[0m\n",
      "\u001b[31mSM_NUM_CPUS=4\u001b[0m\n",
      "\u001b[31mSM_HP_HIDDEN_DIM=200\u001b[0m\n",
      "\u001b[31mSM_CURRENT_HOST=algo-1\u001b[0m\n",
      "\u001b[31mSM_INPUT_DATA_CONFIG={\"training\":{\"RecordWrapperType\":\"None\",\"S3DistributionType\":\"FullyReplicated\",\"TrainingInputMode\":\"File\"}}\u001b[0m\n",
      "\u001b[31mSM_HOSTS=[\"algo-1\"]\u001b[0m\n",
      "\u001b[31mSM_INPUT_CONFIG_DIR=/opt/ml/input/config\u001b[0m\n",
      "\u001b[31mSM_MODEL_DIR=/opt/ml/model\u001b[0m\n",
      "\u001b[31mSM_RESOURCE_CONFIG={\"current_host\":\"algo-1\",\"hosts\":[\"algo-1\"],\"network_interface_name\":\"eth0\"}\u001b[0m\n",
      "\u001b[31mSM_HPS={\"epochs\":10,\"hidden_dim\":200}\u001b[0m\n",
      "\u001b[31mSM_TRAINING_ENV={\"additional_framework_parameters\":{},\"channel_input_dirs\":{\"training\":\"/opt/ml/input/data/training\"},\"current_host\":\"algo-1\",\"framework_module\":\"sagemaker_pytorch_container.training:main\",\"hosts\":[\"algo-1\"],\"hyperparameters\":{\"epochs\":10,\"hidden_dim\":200},\"input_config_dir\":\"/opt/ml/input/config\",\"input_data_config\":{\"training\":{\"RecordWrapperType\":\"None\",\"S3DistributionType\":\"FullyReplicated\",\"TrainingInputMode\":\"File\"}},\"input_dir\":\"/opt/ml/input\",\"job_name\":\"sagemaker-pytorch-2019-06-23-05-22-06-825\",\"log_level\":20,\"model_dir\":\"/opt/ml/model\",\"module_dir\":\"s3://sagemaker-us-west-2-273775775360/sagemaker-pytorch-2019-06-23-05-22-06-825/source/sourcedir.tar.gz\",\"module_name\":\"train\",\"network_interface_name\":\"eth0\",\"num_cpus\":4,\"num_gpus\":1,\"output_data_dir\":\"/opt/ml/output/data\",\"output_dir\":\"/opt/ml/output\",\"output_intermediate_dir\":\"/opt/ml/output/intermediate\",\"resource_config\":{\"current_host\":\"algo-1\",\"hosts\":[\"algo-1\"],\"network_interface_name\":\"eth0\"},\"user_entry_point\":\"train.py\"}\u001b[0m\n",
      "\u001b[31mSM_INPUT_DIR=/opt/ml/input\u001b[0m\n",
      "\u001b[31mSM_MODULE_DIR=s3://sagemaker-us-west-2-273775775360/sagemaker-pytorch-2019-06-23-05-22-06-825/source/sourcedir.tar.gz\u001b[0m\n",
      "\u001b[31mSM_USER_ARGS=[\"--epochs\",\"10\",\"--hidden_dim\",\"200\"]\u001b[0m\n",
      "\u001b[31mSM_CHANNELS=[\"training\"]\u001b[0m\n",
      "\u001b[31mSM_MODULE_NAME=train\u001b[0m\n",
      "\u001b[31mSM_CHANNEL_TRAINING=/opt/ml/input/data/training\u001b[0m\n",
      "\u001b[31mSM_USER_ENTRY_POINT=train.py\u001b[0m\n",
      "\u001b[31mSM_NUM_GPUS=1\u001b[0m\n",
      "\u001b[31mSM_HP_EPOCHS=10\n",
      "\u001b[0m\n",
      "\u001b[31mInvoking script with the following command:\n",
      "\u001b[0m\n",
      "\u001b[31m/usr/bin/python -m train --epochs 10 --hidden_dim 200\n",
      "\n",
      "\u001b[0m\n",
      "\u001b[31mUsing device cuda.\u001b[0m\n",
      "\u001b[31mGet train data loader.\u001b[0m\n"
     ]
    },
    {
     "name": "stdout",
     "output_type": "stream",
     "text": [
      "\u001b[31mModel loaded with embedding_dim 32, hidden_dim 200, vocab_size 5000.\u001b[0m\n",
      "\u001b[31mEpoch: 1, BCELoss: 0.6712871838589104\u001b[0m\n",
      "\u001b[31mEpoch: 2, BCELoss: 0.611212028532612\u001b[0m\n",
      "\u001b[31mEpoch: 3, BCELoss: 0.537777744385661\u001b[0m\n",
      "\u001b[31mEpoch: 4, BCELoss: 0.46801360468475184\u001b[0m\n",
      "\u001b[31mEpoch: 5, BCELoss: 0.41404042195300667\u001b[0m\n",
      "\u001b[31mEpoch: 6, BCELoss: 0.3819675640184052\u001b[0m\n",
      "\u001b[31mEpoch: 7, BCELoss: 0.34709408818459025\u001b[0m\n",
      "\u001b[31mEpoch: 8, BCELoss: 0.3368417991667378\u001b[0m\n",
      "\u001b[31mEpoch: 9, BCELoss: 0.3021901271172932\u001b[0m\n",
      "\u001b[31mEpoch: 10, BCELoss: 0.2845146376259473\u001b[0m\n",
      "\u001b[31m2019-06-23 05:29:22,901 sagemaker-containers INFO     Reporting training SUCCESS\u001b[0m\n",
      "\n",
      "2019-06-23 05:29:29 Uploading - Uploading generated training model\n",
      "2019-06-23 05:29:29 Completed - Training job completed\n",
      "Billable seconds: 276\n"
     ]
    }
   ],
   "source": [
    "estimator.fit({'training': input_data})"
   ]
  },
  {
   "cell_type": "markdown",
   "metadata": {},
   "source": [
    "## Step 5: Testing the model\n",
    "\n",
    "As mentioned at the top of this notebook, we will be testing this model by first deploying it and then sending the testing data to the deployed endpoint. We will do this so that we can make sure that the deployed model is working correctly.\n",
    "\n",
    "## Step 6: Deploy the model for testing\n",
    "\n",
    "Now that we have trained our model, we would like to test it to see how it performs. Currently our model takes input of the form `review_length, review[500]` where `review[500]` is a sequence of `500` integers which describe the words present in the review, encoded using `word_dict`. Fortunately for us, SageMaker provides built-in inference code for models with simple inputs such as this.\n",
    "\n",
    "There is one thing that we need to provide, however, and that is a function which loads the saved model. This function must be called `model_fn()` and takes as its only parameter a path to the directory where the model artifacts are stored. This function must also be present in the python file which we specified as the entry point. In our case the model loading function has been provided and so no changes need to be made.\n",
    "\n",
    "**NOTE**: When the built-in inference code is run it must import the `model_fn()` method from the `train.py` file. This is why the training code is wrapped in a main guard ( ie, `if __name__ == '__main__':` )\n",
    "\n",
    "Since we don't need to change anything in the code that was uploaded during training, we can simply deploy the current model as-is.\n",
    "\n",
    "**NOTE:** When deploying a model you are asking SageMaker to launch an compute instance that will wait for data to be sent to it. As a result, this compute instance will continue to run until *you* shut it down. This is important to know since the cost of a deployed endpoint depends on how long it has been running for.\n",
    "\n",
    "In other words **If you are no longer using a deployed endpoint, shut it down!**\n",
    "\n",
    "**TODO:** Deploy the trained model."
   ]
  },
  {
   "cell_type": "code",
   "execution_count": 29,
   "metadata": {},
   "outputs": [
    {
     "name": "stdout",
     "output_type": "stream",
     "text": [
      "--------------------------------------------------------------------------------------!"
     ]
    }
   ],
   "source": [
    "# TODO: Deploy the trained model\n",
    "predictor = estimator.deploy(initial_instance_count = 1, instance_type = 'ml.m4.xlarge')"
   ]
  },
  {
   "cell_type": "markdown",
   "metadata": {},
   "source": [
    "## Step 7 - Use the model for testing\n",
    "\n",
    "Once deployed, we can read in the test data and send it off to our deployed model to get some results. Once we collect all of the results we can determine how accurate our model is."
   ]
  },
  {
   "cell_type": "code",
   "execution_count": 30,
   "metadata": {},
   "outputs": [],
   "source": [
    "test_X = pd.concat([pd.DataFrame(test_X_len), pd.DataFrame(test_X)], axis=1)"
   ]
  },
  {
   "cell_type": "code",
   "execution_count": 31,
   "metadata": {},
   "outputs": [],
   "source": [
    "# We split the data into chunks and send each chunk seperately, accumulating the results.\n",
    "\n",
    "def predict(data, rows=512):\n",
    "    split_array = np.array_split(data, int(data.shape[0] / float(rows) + 1))\n",
    "    predictions = np.array([])\n",
    "    for array in split_array:\n",
    "        predictions = np.append(predictions, predictor.predict(array))\n",
    "    \n",
    "    return predictions"
   ]
  },
  {
   "cell_type": "code",
   "execution_count": 32,
   "metadata": {},
   "outputs": [],
   "source": [
    "predictions = predict(test_X.values)\n",
    "predictions = [round(num) for num in predictions]"
   ]
  },
  {
   "cell_type": "code",
   "execution_count": 33,
   "metadata": {},
   "outputs": [
    {
     "data": {
      "text/plain": [
       "0.85412"
      ]
     },
     "execution_count": 33,
     "metadata": {},
     "output_type": "execute_result"
    }
   ],
   "source": [
    "from sklearn.metrics import accuracy_score\n",
    "accuracy_score(test_y, predictions)"
   ]
  },
  {
   "cell_type": "markdown",
   "metadata": {},
   "source": [
    "**Question:** How does this model compare to the XGBoost model you created earlier? Why might these two models perform differently on this dataset? Which do *you* think is better for sentiment analysis?"
   ]
  },
  {
   "cell_type": "markdown",
   "metadata": {},
   "source": [
    "**Answer:** The XGBoost model I created earlier get the accuracy score of 0.85732. So It's slightly better than our model. But I guess there's not much difference."
   ]
  },
  {
   "cell_type": "markdown",
   "metadata": {},
   "source": [
    "### (TODO) More testing\n",
    "\n",
    "We now have a trained model which has been deployed and which we can send processed reviews to and which returns the predicted sentiment. However, ultimately we would like to be able to send our model an unprocessed review. That is, we would like to send the review itself as a string. For example, suppose we wish to send the following review to our model."
   ]
  },
  {
   "cell_type": "code",
   "execution_count": 34,
   "metadata": {},
   "outputs": [],
   "source": [
    "test_review = 'The simplest pleasures in life are the best, and this film is one of them. Combining a rather basic storyline of love and adventure this movie transcends the usual weekend fair with wit and unmitigated charm.'"
   ]
  },
  {
   "cell_type": "markdown",
   "metadata": {},
   "source": [
    "The question we now need to answer is, how do we send this review to our model?\n",
    "\n",
    "Recall in the first section of this notebook we did a bunch of data processing to the IMDb dataset. In particular, we did two specific things to the provided reviews.\n",
    " - Removed any html tags and stemmed the input\n",
    " - Encoded the review as a sequence of integers using `word_dict`\n",
    " \n",
    "In order process the review we will need to repeat these two steps.\n",
    "\n",
    "**TODO**: Using the `review_to_words` and `convert_and_pad` methods from section one, convert `test_review` into a numpy array `test_data` suitable to send to our model. Remember that our model expects input of the form `review_length, review[500]`."
   ]
  },
  {
   "cell_type": "code",
   "execution_count": 35,
   "metadata": {},
   "outputs": [],
   "source": [
    "# TODO: Convert test_review into a form usable by the model and save the results in test_data\n",
    "test_data = review_to_words(test_review)"
   ]
  },
  {
   "cell_type": "code",
   "execution_count": 36,
   "metadata": {},
   "outputs": [],
   "source": [
    "test_data = [np.array(convert_and_pad(word_dict, test_data)[0])]"
   ]
  },
  {
   "cell_type": "markdown",
   "metadata": {},
   "source": [
    "Now that we have processed the review, we can send the resulting array to our model to predict the sentiment of the review."
   ]
  },
  {
   "cell_type": "code",
   "execution_count": 37,
   "metadata": {},
   "outputs": [
    {
     "data": {
      "text/plain": [
       "array(0.65235144, dtype=float32)"
      ]
     },
     "execution_count": 37,
     "metadata": {},
     "output_type": "execute_result"
    }
   ],
   "source": [
    "predictor.predict(test_data)"
   ]
  },
  {
   "cell_type": "markdown",
   "metadata": {},
   "source": [
    "Since the return value of our model is close to `1`, we can be certain that the review we submitted is positive."
   ]
  },
  {
   "cell_type": "markdown",
   "metadata": {},
   "source": [
    "### Delete the endpoint\n",
    "\n",
    "Of course, just like in the XGBoost notebook, once we've deployed an endpoint it continues to run until we tell it to shut down. Since we are done using our endpoint for now, we can delete it."
   ]
  },
  {
   "cell_type": "code",
   "execution_count": 38,
   "metadata": {},
   "outputs": [],
   "source": [
    "estimator.delete_endpoint()"
   ]
  },
  {
   "cell_type": "markdown",
   "metadata": {},
   "source": [
    "## Step 6 (again) - Deploy the model for the web app\n",
    "\n",
    "Now that we know that our model is working, it's time to create some custom inference code so that we can send the model a review which has not been processed and have it determine the sentiment of the review.\n",
    "\n",
    "As we saw above, by default the estimator which we created, when deployed, will use the entry script and directory which we provided when creating the model. However, since we now wish to accept a string as input and our model expects a processed review, we need to write some custom inference code.\n",
    "\n",
    "We will store the code that we write in the `serve` directory. Provided in this directory is the `model.py` file that we used to construct our model, a `utils.py` file which contains the `review_to_words` and `convert_and_pad` pre-processing functions which we used during the initial data processing, and `predict.py`, the file which will contain our custom inference code. Note also that `requirements.txt` is present which will tell SageMaker what Python libraries are required by our custom inference code.\n",
    "\n",
    "When deploying a PyTorch model in SageMaker, you are expected to provide four functions which the SageMaker inference container will use.\n",
    " - `model_fn`: This function is the same function that we used in the training script and it tells SageMaker how to load our model.\n",
    " - `input_fn`: This function receives the raw serialized input that has been sent to the model's endpoint and its job is to de-serialize and make the input available for the inference code.\n",
    " - `output_fn`: This function takes the output of the inference code and its job is to serialize this output and return it to the caller of the model's endpoint.\n",
    " - `predict_fn`: The heart of the inference script, this is where the actual prediction is done and is the function which you will need to complete.\n",
    "\n",
    "For the simple website that we are constructing during this project, the `input_fn` and `output_fn` methods are relatively straightforward. We only require being able to accept a string as input and we expect to return a single value as output. You might imagine though that in a more complex application the input or output may be image data or some other binary data which would require some effort to serialize.\n",
    "\n",
    "### (TODO) Writing inference code\n",
    "\n",
    "Before writing our custom inference code, we will begin by taking a look at the code which has been provided."
   ]
  },
  {
   "cell_type": "code",
   "execution_count": 39,
   "metadata": {},
   "outputs": [
    {
     "name": "stdout",
     "output_type": "stream",
     "text": [
      "\u001b[34mimport\u001b[39;49;00m \u001b[04m\u001b[36margparse\u001b[39;49;00m\r\n",
      "\u001b[34mimport\u001b[39;49;00m \u001b[04m\u001b[36mjson\u001b[39;49;00m\r\n",
      "\u001b[34mimport\u001b[39;49;00m \u001b[04m\u001b[36mos\u001b[39;49;00m\r\n",
      "\u001b[34mimport\u001b[39;49;00m \u001b[04m\u001b[36mpickle\u001b[39;49;00m\r\n",
      "\u001b[34mimport\u001b[39;49;00m \u001b[04m\u001b[36msys\u001b[39;49;00m\r\n",
      "\u001b[34mimport\u001b[39;49;00m \u001b[04m\u001b[36msagemaker_containers\u001b[39;49;00m\r\n",
      "\u001b[34mimport\u001b[39;49;00m \u001b[04m\u001b[36mpandas\u001b[39;49;00m \u001b[34mas\u001b[39;49;00m \u001b[04m\u001b[36mpd\u001b[39;49;00m\r\n",
      "\u001b[34mimport\u001b[39;49;00m \u001b[04m\u001b[36mnumpy\u001b[39;49;00m \u001b[34mas\u001b[39;49;00m \u001b[04m\u001b[36mnp\u001b[39;49;00m\r\n",
      "\u001b[34mimport\u001b[39;49;00m \u001b[04m\u001b[36mtorch\u001b[39;49;00m\r\n",
      "\u001b[34mimport\u001b[39;49;00m \u001b[04m\u001b[36mtorch.nn\u001b[39;49;00m \u001b[34mas\u001b[39;49;00m \u001b[04m\u001b[36mnn\u001b[39;49;00m\r\n",
      "\u001b[34mimport\u001b[39;49;00m \u001b[04m\u001b[36mtorch.optim\u001b[39;49;00m \u001b[34mas\u001b[39;49;00m \u001b[04m\u001b[36moptim\u001b[39;49;00m\r\n",
      "\u001b[34mimport\u001b[39;49;00m \u001b[04m\u001b[36mtorch.utils.data\u001b[39;49;00m\r\n",
      "\r\n",
      "\u001b[34mfrom\u001b[39;49;00m \u001b[04m\u001b[36mmodel\u001b[39;49;00m \u001b[34mimport\u001b[39;49;00m LSTMClassifier\r\n",
      "\r\n",
      "\u001b[34mfrom\u001b[39;49;00m \u001b[04m\u001b[36mutils\u001b[39;49;00m \u001b[34mimport\u001b[39;49;00m review_to_words, convert_and_pad\r\n",
      "\r\n",
      "\u001b[34mdef\u001b[39;49;00m \u001b[32mmodel_fn\u001b[39;49;00m(model_dir):\r\n",
      "    \u001b[33m\"\"\"Load the PyTorch model from the `model_dir` directory.\"\"\"\u001b[39;49;00m\r\n",
      "    \u001b[34mprint\u001b[39;49;00m(\u001b[33m\"\u001b[39;49;00m\u001b[33mLoading model.\u001b[39;49;00m\u001b[33m\"\u001b[39;49;00m)\r\n",
      "\r\n",
      "    \u001b[37m# First, load the parameters used to create the model.\u001b[39;49;00m\r\n",
      "    model_info = {}\r\n",
      "    model_info_path = os.path.join(model_dir, \u001b[33m'\u001b[39;49;00m\u001b[33mmodel_info.pth\u001b[39;49;00m\u001b[33m'\u001b[39;49;00m)\r\n",
      "    \u001b[34mwith\u001b[39;49;00m \u001b[36mopen\u001b[39;49;00m(model_info_path, \u001b[33m'\u001b[39;49;00m\u001b[33mrb\u001b[39;49;00m\u001b[33m'\u001b[39;49;00m) \u001b[34mas\u001b[39;49;00m f:\r\n",
      "        model_info = torch.load(f)\r\n",
      "\r\n",
      "    \u001b[34mprint\u001b[39;49;00m(\u001b[33m\"\u001b[39;49;00m\u001b[33mmodel_info: {}\u001b[39;49;00m\u001b[33m\"\u001b[39;49;00m.format(model_info))\r\n",
      "\r\n",
      "    \u001b[37m# Determine the device and construct the model.\u001b[39;49;00m\r\n",
      "    device = torch.device(\u001b[33m\"\u001b[39;49;00m\u001b[33mcuda\u001b[39;49;00m\u001b[33m\"\u001b[39;49;00m \u001b[34mif\u001b[39;49;00m torch.cuda.is_available() \u001b[34melse\u001b[39;49;00m \u001b[33m\"\u001b[39;49;00m\u001b[33mcpu\u001b[39;49;00m\u001b[33m\"\u001b[39;49;00m)\r\n",
      "    model = LSTMClassifier(model_info[\u001b[33m'\u001b[39;49;00m\u001b[33membedding_dim\u001b[39;49;00m\u001b[33m'\u001b[39;49;00m], model_info[\u001b[33m'\u001b[39;49;00m\u001b[33mhidden_dim\u001b[39;49;00m\u001b[33m'\u001b[39;49;00m], model_info[\u001b[33m'\u001b[39;49;00m\u001b[33mvocab_size\u001b[39;49;00m\u001b[33m'\u001b[39;49;00m])\r\n",
      "\r\n",
      "    \u001b[37m# Load the store model parameters.\u001b[39;49;00m\r\n",
      "    model_path = os.path.join(model_dir, \u001b[33m'\u001b[39;49;00m\u001b[33mmodel.pth\u001b[39;49;00m\u001b[33m'\u001b[39;49;00m)\r\n",
      "    \u001b[34mwith\u001b[39;49;00m \u001b[36mopen\u001b[39;49;00m(model_path, \u001b[33m'\u001b[39;49;00m\u001b[33mrb\u001b[39;49;00m\u001b[33m'\u001b[39;49;00m) \u001b[34mas\u001b[39;49;00m f:\r\n",
      "        model.load_state_dict(torch.load(f))\r\n",
      "\r\n",
      "    \u001b[37m# Load the saved word_dict.\u001b[39;49;00m\r\n",
      "    word_dict_path = os.path.join(model_dir, \u001b[33m'\u001b[39;49;00m\u001b[33mword_dict.pkl\u001b[39;49;00m\u001b[33m'\u001b[39;49;00m)\r\n",
      "    \u001b[34mwith\u001b[39;49;00m \u001b[36mopen\u001b[39;49;00m(word_dict_path, \u001b[33m'\u001b[39;49;00m\u001b[33mrb\u001b[39;49;00m\u001b[33m'\u001b[39;49;00m) \u001b[34mas\u001b[39;49;00m f:\r\n",
      "        model.word_dict = pickle.load(f)\r\n",
      "\r\n",
      "    model.to(device).eval()\r\n",
      "\r\n",
      "    \u001b[34mprint\u001b[39;49;00m(\u001b[33m\"\u001b[39;49;00m\u001b[33mDone loading model.\u001b[39;49;00m\u001b[33m\"\u001b[39;49;00m)\r\n",
      "    \u001b[34mreturn\u001b[39;49;00m model\r\n",
      "\r\n",
      "\u001b[34mdef\u001b[39;49;00m \u001b[32minput_fn\u001b[39;49;00m(serialized_input_data, content_type):\r\n",
      "    \u001b[34mprint\u001b[39;49;00m(\u001b[33m'\u001b[39;49;00m\u001b[33mDeserializing the input data.\u001b[39;49;00m\u001b[33m'\u001b[39;49;00m)\r\n",
      "    \u001b[34mif\u001b[39;49;00m content_type == \u001b[33m'\u001b[39;49;00m\u001b[33mtext/plain\u001b[39;49;00m\u001b[33m'\u001b[39;49;00m:\r\n",
      "        data = serialized_input_data.decode(\u001b[33m'\u001b[39;49;00m\u001b[33mutf-8\u001b[39;49;00m\u001b[33m'\u001b[39;49;00m)\r\n",
      "        \u001b[34mreturn\u001b[39;49;00m data\r\n",
      "    \u001b[34mraise\u001b[39;49;00m \u001b[36mException\u001b[39;49;00m(\u001b[33m'\u001b[39;49;00m\u001b[33mRequested unsupported ContentType in content_type: \u001b[39;49;00m\u001b[33m'\u001b[39;49;00m + content_type)\r\n",
      "\r\n",
      "\u001b[34mdef\u001b[39;49;00m \u001b[32moutput_fn\u001b[39;49;00m(prediction_output, accept):\r\n",
      "    \u001b[34mprint\u001b[39;49;00m(\u001b[33m'\u001b[39;49;00m\u001b[33mSerializing the generated output.\u001b[39;49;00m\u001b[33m'\u001b[39;49;00m)\r\n",
      "    \u001b[34mreturn\u001b[39;49;00m \u001b[36mstr\u001b[39;49;00m(prediction_output)\r\n",
      "\r\n",
      "\u001b[34mdef\u001b[39;49;00m \u001b[32mpredict_fn\u001b[39;49;00m(input_data, model):\r\n",
      "    \u001b[34mprint\u001b[39;49;00m(\u001b[33m'\u001b[39;49;00m\u001b[33mInferring sentiment of input data.\u001b[39;49;00m\u001b[33m'\u001b[39;49;00m)\r\n",
      "\r\n",
      "    device = torch.device(\u001b[33m\"\u001b[39;49;00m\u001b[33mcuda\u001b[39;49;00m\u001b[33m\"\u001b[39;49;00m \u001b[34mif\u001b[39;49;00m torch.cuda.is_available() \u001b[34melse\u001b[39;49;00m \u001b[33m\"\u001b[39;49;00m\u001b[33mcpu\u001b[39;49;00m\u001b[33m\"\u001b[39;49;00m)\r\n",
      "    \r\n",
      "    \u001b[34mif\u001b[39;49;00m model.word_dict \u001b[35mis\u001b[39;49;00m \u001b[36mNone\u001b[39;49;00m:\r\n",
      "        \u001b[34mraise\u001b[39;49;00m \u001b[36mException\u001b[39;49;00m(\u001b[33m'\u001b[39;49;00m\u001b[33mModel has not been loaded properly, no word_dict.\u001b[39;49;00m\u001b[33m'\u001b[39;49;00m)\r\n",
      "    \r\n",
      "    \u001b[37m# TODO: Process input_data so that it is ready to be sent to our model.\u001b[39;49;00m\r\n",
      "    \u001b[37m#       You should produce two variables:\u001b[39;49;00m\r\n",
      "    \u001b[37m#         data_X   - A sequence of length 500 which represents the converted review\u001b[39;49;00m\r\n",
      "    \u001b[37m#         data_len - The length of the review\u001b[39;49;00m\r\n",
      "\r\n",
      "    data_X, data_len = convert_and_pad(model.word_dict, review_to_words(input_data))\r\n",
      "\r\n",
      "    \u001b[37m# Using data_X and data_len we construct an appropriate input tensor. Remember\u001b[39;49;00m\r\n",
      "    \u001b[37m# that our model expects input data of the form 'len, review[500]'.\u001b[39;49;00m\r\n",
      "    data_pack = np.hstack((data_len, data_X))\r\n",
      "    data_pack = data_pack.reshape(\u001b[34m1\u001b[39;49;00m, -\u001b[34m1\u001b[39;49;00m)\r\n",
      "    \r\n",
      "    data = torch.from_numpy(data_pack)\r\n",
      "    data = data.to(device)\r\n",
      "\r\n",
      "    \u001b[37m# Make sure to put the model into evaluation mode\u001b[39;49;00m\r\n",
      "    model.eval()\r\n",
      "\r\n",
      "    \u001b[37m# TODO: Compute the result of applying the model to the input data. The variable `result` should\u001b[39;49;00m\r\n",
      "    \u001b[37m#       be a numpy array which contains a single integer which is either 1 or 0\u001b[39;49;00m\r\n",
      "\r\n",
      "    \u001b[34mwith\u001b[39;49;00m torch.no_grad():\r\n",
      "        output = model.forward(data)\r\n",
      "        \r\n",
      "    result = np.round(output.numpy())\r\n",
      "\r\n",
      "    \u001b[34mreturn\u001b[39;49;00m result\r\n"
     ]
    }
   ],
   "source": [
    "!pygmentize serve/predict.py"
   ]
  },
  {
   "cell_type": "markdown",
   "metadata": {},
   "source": [
    "As mentioned earlier, the `model_fn` method is the same as the one provided in the training code and the `input_fn` and `output_fn` methods are very simple and your task will be to complete the `predict_fn` method. Make sure that you save the completed file as `predict.py` in the `serve` directory.\n",
    "\n",
    "**TODO**: Complete the `predict_fn()` method in the `serve/predict.py` file."
   ]
  },
  {
   "cell_type": "markdown",
   "metadata": {},
   "source": [
    "### Deploying the model\n",
    "\n",
    "Now that the custom inference code has been written, we will create and deploy our model. To begin with, we need to construct a new PyTorchModel object which points to the model artifacts created during training and also points to the inference code that we wish to use. Then we can call the deploy method to launch the deployment container.\n",
    "\n",
    "**NOTE**: The default behaviour for a deployed PyTorch model is to assume that any input passed to the predictor is a `numpy` array. In our case we want to send a string so we need to construct a simple wrapper around the `RealTimePredictor` class to accomodate simple strings. In a more complicated situation you may want to provide a serialization object, for example if you wanted to sent image data."
   ]
  },
  {
   "cell_type": "code",
   "execution_count": 40,
   "metadata": {},
   "outputs": [
    {
     "name": "stdout",
     "output_type": "stream",
     "text": [
      "--------------------------------------------------------------------------------------!"
     ]
    }
   ],
   "source": [
    "from sagemaker.predictor import RealTimePredictor\n",
    "from sagemaker.pytorch import PyTorchModel\n",
    "\n",
    "class StringPredictor(RealTimePredictor):\n",
    "    def __init__(self, endpoint_name, sagemaker_session):\n",
    "        super(StringPredictor, self).__init__(endpoint_name, sagemaker_session, content_type='text/plain')\n",
    "\n",
    "model = PyTorchModel(model_data=estimator.model_data,\n",
    "                     role = role,\n",
    "                     framework_version='0.4.0',\n",
    "                     entry_point='predict.py',\n",
    "                     source_dir='serve',\n",
    "                     predictor_cls=StringPredictor)\n",
    "predictor = model.deploy(initial_instance_count=1, instance_type='ml.m4.xlarge')"
   ]
  },
  {
   "cell_type": "markdown",
   "metadata": {},
   "source": [
    "### Testing the model\n",
    "\n",
    "Now that we have deployed our model with the custom inference code, we should test to see if everything is working. Here we test our model by loading the first `250` positive and negative reviews and send them to the endpoint, then collect the results. The reason for only sending some of the data is that the amount of time it takes for our model to process the input and then perform inference is quite long and so testing the entire data set would be prohibitive."
   ]
  },
  {
   "cell_type": "code",
   "execution_count": 41,
   "metadata": {},
   "outputs": [],
   "source": [
    "import glob\n",
    "\n",
    "def test_reviews(data_dir='../data/aclImdb', stop=250):\n",
    "    \n",
    "    results = []\n",
    "    ground = []\n",
    "    \n",
    "    # We make sure to test both positive and negative reviews    \n",
    "    for sentiment in ['pos', 'neg']:\n",
    "        \n",
    "        path = os.path.join(data_dir, 'test', sentiment, '*.txt')\n",
    "        files = glob.glob(path)\n",
    "        \n",
    "        files_read = 0\n",
    "        \n",
    "        print('Starting ', sentiment, ' files')\n",
    "        \n",
    "        # Iterate through the files and send them to the predictor\n",
    "        for f in files:\n",
    "            with open(f) as review:\n",
    "                # First, we store the ground truth (was the review positive or negative)\n",
    "                if sentiment == 'pos':\n",
    "                    ground.append(1)\n",
    "                else:\n",
    "                    ground.append(0)\n",
    "                # Read in the review and convert to 'utf-8' for transmission via HTTP\n",
    "                review_input = review.read().encode('utf-8')\n",
    "                # Send the review to the predictor and store the results\n",
    "                results.append(float(predictor.predict(review_input)))\n",
    "                \n",
    "            # Sending reviews to our endpoint one at a time takes a while so we\n",
    "            # only send a small number of reviews\n",
    "            files_read += 1\n",
    "            if files_read == stop:\n",
    "                break\n",
    "            \n",
    "    return ground, results"
   ]
  },
  {
   "cell_type": "code",
   "execution_count": 42,
   "metadata": {},
   "outputs": [
    {
     "name": "stdout",
     "output_type": "stream",
     "text": [
      "Starting  pos  files\n",
      "Starting  neg  files\n"
     ]
    }
   ],
   "source": [
    "ground, results = test_reviews()"
   ]
  },
  {
   "cell_type": "code",
   "execution_count": 43,
   "metadata": {},
   "outputs": [
    {
     "data": {
      "text/plain": [
       "0.846"
      ]
     },
     "execution_count": 43,
     "metadata": {},
     "output_type": "execute_result"
    }
   ],
   "source": [
    "from sklearn.metrics import accuracy_score\n",
    "accuracy_score(ground, results)"
   ]
  },
  {
   "cell_type": "markdown",
   "metadata": {},
   "source": [
    "As an additional test, we can try sending the `test_review` that we looked at earlier."
   ]
  },
  {
   "cell_type": "code",
   "execution_count": 44,
   "metadata": {},
   "outputs": [
    {
     "data": {
      "text/plain": [
       "b'1.0'"
      ]
     },
     "execution_count": 44,
     "metadata": {},
     "output_type": "execute_result"
    }
   ],
   "source": [
    "predictor.predict(test_review)"
   ]
  },
  {
   "cell_type": "markdown",
   "metadata": {},
   "source": [
    "Now that we know our endpoint is working as expected, we can set up the web page that will interact with it. If you don't have time to finish the project now, make sure to skip down to the end of this notebook and shut down your endpoint. You can deploy it again when you come back."
   ]
  },
  {
   "cell_type": "markdown",
   "metadata": {},
   "source": [
    "## Step 7 (again): Use the model for the web app\n",
    "\n",
    "> **TODO:** This entire section and the next contain tasks for you to complete, mostly using the AWS console.\n",
    "\n",
    "So far we have been accessing our model endpoint by constructing a predictor object which uses the endpoint and then just using the predictor object to perform inference. What if we wanted to create a web app which accessed our model? The way things are set up currently makes that not possible since in order to access a SageMaker endpoint the app would first have to authenticate with AWS using an IAM role which included access to SageMaker endpoints. However, there is an easier way! We just need to use some additional AWS services.\n",
    "\n",
    "<img src=\"Web App Diagram.svg\">\n",
    "\n",
    "The diagram above gives an overview of how the various services will work together. On the far right is the model which we trained above and which is deployed using SageMaker. On the far left is our web app that collects a user's movie review, sends it off and expects a positive or negative sentiment in return.\n",
    "\n",
    "In the middle is where some of the magic happens. We will construct a Lambda function, which you can think of as a straightforward Python function that can be executed whenever a specified event occurs. We will give this function permission to send and recieve data from a SageMaker endpoint.\n",
    "\n",
    "Lastly, the method we will use to execute the Lambda function is a new endpoint that we will create using API Gateway. This endpoint will be a url that listens for data to be sent to it. Once it gets some data it will pass that data on to the Lambda function and then return whatever the Lambda function returns. Essentially it will act as an interface that lets our web app communicate with the Lambda function.\n",
    "\n",
    "### Setting up a Lambda function\n",
    "\n",
    "The first thing we are going to do is set up a Lambda function. This Lambda function will be executed whenever our public API has data sent to it. When it is executed it will receive the data, perform any sort of processing that is required, send the data (the review) to the SageMaker endpoint we've created and then return the result.\n",
    "\n",
    "#### Part A: Create an IAM Role for the Lambda function\n",
    "\n",
    "Since we want the Lambda function to call a SageMaker endpoint, we need to make sure that it has permission to do so. To do this, we will construct a role that we can later give the Lambda function.\n",
    "\n",
    "Using the AWS Console, navigate to the **IAM** page and click on **Roles**. Then, click on **Create role**. Make sure that the **AWS service** is the type of trusted entity selected and choose **Lambda** as the service that will use this role, then click **Next: Permissions**.\n",
    "\n",
    "In the search box type `sagemaker` and select the check box next to the **AmazonSageMakerFullAccess** policy. Then, click on **Next: Review**.\n",
    "\n",
    "Lastly, give this role a name. Make sure you use a name that you will remember later on, for example `LambdaSageMakerRole`. Then, click on **Create role**.\n",
    "\n",
    "#### Part B: Create a Lambda function\n",
    "\n",
    "Now it is time to actually create the Lambda function.\n",
    "\n",
    "Using the AWS Console, navigate to the AWS Lambda page and click on **Create a function**. When you get to the next page, make sure that **Author from scratch** is selected. Now, name your Lambda function, using a name that you will remember later on, for example `sentiment_analysis_func`. Make sure that the **Python 3.6** runtime is selected and then choose the role that you created in the previous part. Then, click on **Create Function**.\n",
    "\n",
    "On the next page you will see some information about the Lambda function you've just created. If you scroll down you should see an editor in which you can write the code that will be executed when your Lambda function is triggered. In our example, we will use the code below. \n",
    "\n",
    "```python\n",
    "# We need to use the low-level library to interact with SageMaker since the SageMaker API\n",
    "# is not available natively through Lambda.\n",
    "import boto3\n",
    "\n",
    "def lambda_handler(event, context):\n",
    "\n",
    "    # The SageMaker runtime is what allows us to invoke the endpoint that we've created.\n",
    "    runtime = boto3.Session().client('sagemaker-runtime')\n",
    "\n",
    "    # Now we use the SageMaker runtime to invoke our endpoint, sending the review we were given\n",
    "    response = runtime.invoke_endpoint(EndpointName = '**ENDPOINT NAME HERE**',    # The name of the endpoint we created\n",
    "                                       ContentType = 'text/plain',                 # The data format that is expected\n",
    "                                       Body = event['body'])                       # The actual review\n",
    "\n",
    "    # The response is an HTTP response whose body contains the result of our inference\n",
    "    result = response['Body'].read().decode('utf-8')\n",
    "\n",
    "    return {\n",
    "        'statusCode' : 200,\n",
    "        'headers' : { 'Content-Type' : 'text/plain', 'Access-Control-Allow-Origin' : '*' },\n",
    "        'body' : result\n",
    "    }\n",
    "```\n",
    "\n",
    "Once you have copy and pasted the code above into the Lambda code editor, replace the `**ENDPOINT NAME HERE**` portion with the name of the endpoint that we deployed earlier. You can determine the name of the endpoint using the code cell below."
   ]
  },
  {
   "cell_type": "code",
   "execution_count": 45,
   "metadata": {},
   "outputs": [
    {
     "data": {
      "text/plain": [
       "'sagemaker-pytorch-2019-06-23-06-14-59-818'"
      ]
     },
     "execution_count": 45,
     "metadata": {},
     "output_type": "execute_result"
    }
   ],
   "source": [
    "predictor.endpoint"
   ]
  },
  {
   "cell_type": "markdown",
   "metadata": {},
   "source": [
    "Once you have added the endpoint name to the Lambda function, click on **Save**. Your Lambda function is now up and running. Next we need to create a way for our web app to execute the Lambda function.\n",
    "\n",
    "### Setting up API Gateway\n",
    "\n",
    "Now that our Lambda function is set up, it is time to create a new API using API Gateway that will trigger the Lambda function we have just created.\n",
    "\n",
    "Using AWS Console, navigate to **Amazon API Gateway** and then click on **Get started**.\n",
    "\n",
    "On the next page, make sure that **New API** is selected and give the new api a name, for example, `sentiment_analysis_api`. Then, click on **Create API**.\n",
    "\n",
    "Now we have created an API, however it doesn't currently do anything. What we want it to do is to trigger the Lambda function that we created earlier.\n",
    "\n",
    "Select the **Actions** dropdown menu and click **Create Method**. A new blank method will be created, select its dropdown menu and select **POST**, then click on the check mark beside it.\n",
    "\n",
    "For the integration point, make sure that **Lambda Function** is selected and click on the **Use Lambda Proxy integration**. This option makes sure that the data that is sent to the API is then sent directly to the Lambda function with no processing. It also means that the return value must be a proper response object as it will also not be processed by API Gateway.\n",
    "\n",
    "Type the name of the Lambda function you created earlier into the **Lambda Function** text entry box and then click on **Save**. Click on **OK** in the pop-up box that then appears, giving permission to API Gateway to invoke the Lambda function you created.\n",
    "\n",
    "The last step in creating the API Gateway is to select the **Actions** dropdown and click on **Deploy API**. You will need to create a new Deployment stage and name it anything you like, for example `prod`.\n",
    "\n",
    "You have now successfully set up a public API to access your SageMaker model. Make sure to copy or write down the URL provided to invoke your newly created public API as this will be needed in the next step. This URL can be found at the top of the page, highlighted in blue next to the text **Invoke URL**."
   ]
  },
  {
   "cell_type": "markdown",
   "metadata": {},
   "source": [
    "## Step 4: Deploying our web app\n",
    "\n",
    "Now that we have a publicly available API, we can start using it in a web app. For our purposes, we have provided a simple static html file which can make use of the public api you created earlier.\n",
    "\n",
    "In the `website` folder there should be a file called `index.html`. Download the file to your computer and open that file up in a text editor of your choice. There should be a line which contains **\\*\\*REPLACE WITH PUBLIC API URL\\*\\***. Replace this string with the url that you wrote down in the last step and then save the file.\n",
    "\n",
    "Now, if you open `index.html` on your local computer, your browser will behave as a local web server and you can use the provided site to interact with your SageMaker model.\n",
    "\n",
    "If you'd like to go further, you can host this html file anywhere you'd like, for example using github or hosting a static site on Amazon's S3. Once you have done this you can share the link with anyone you'd like and have them play with it too!\n",
    "\n",
    "> **Important Note** In order for the web app to communicate with the SageMaker endpoint, the endpoint has to actually be deployed and running. This means that you are paying for it. Make sure that the endpoint is running when you want to use the web app but that you shut it down when you don't need it, otherwise you will end up with a surprisingly large AWS bill.\n",
    "\n",
    "**TODO:** Make sure that you include the edited `index.html` file in your project submission."
   ]
  },
  {
   "cell_type": "markdown",
   "metadata": {},
   "source": [
    "Now that your web app is working, trying playing around with it and see how well it works.\n",
    "\n",
    "**Question**: Give an example of a review that you entered into your web app. What was the predicted sentiment of your example review?"
   ]
  },
  {
   "attachments": {
    "Negative.PNG": {
     "image/png": "[encoded data removed]"
    },
    "Positive.PNG": {
     "image/png": "[encoded data removed]"
    }
   },
   "cell_type": "markdown",
   "metadata": {},
   "source": [
    "**Answer:** ![Positive.PNG](attachment:Positive.PNG)\n",
    "            ![Negative.PNG](attachment:Negative.PNG) "
   ]
  },
  {
   "cell_type": "markdown",
   "metadata": {},
   "source": [
    "### Delete the endpoint\n",
    "\n",
    "Remember to always shut down your endpoint if you are no longer using it. You are charged for the length of time that the endpoint is running so if you forget and leave it on you could end up with an unexpectedly large bill."
   ]
  },
  {
   "cell_type": "code",
   "execution_count": 46,
   "metadata": {},
   "outputs": [],
   "source": [
    "predictor.delete_endpoint()"
   ]
  },
  {
   "cell_type": "code",
   "execution_count": null,
   "metadata": {},
   "outputs": [],
   "source": []
  }
 ],
 "metadata": {
  "kernelspec": {
   "display_name": "conda_pytorch_p36",
   "language": "python",
   "name": "conda_pytorch_p36"
  },
  "language_info": {
   "codemirror_mode": {
    "name": "ipython",
    "version": 3
   },
   "file_extension": ".py",
   "mimetype": "text/x-python",
   "name": "python",
   "nbconvert_exporter": "python",
   "pygments_lexer": "ipython3",
   "version": "3.6.5"
  }
 },
 "nbformat": 4,
 "nbformat_minor": 2
}
